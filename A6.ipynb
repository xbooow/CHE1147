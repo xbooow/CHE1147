{
 "cells": [
  {
   "cell_type": "markdown",
   "metadata": {},
   "source": [
    "# <center>CHE1147 Data Mining in Engineering</center>\n",
    "\n",
    "## <center>Assignment 6</center>\n",
    "\n",
    "\n",
    "#### <div style=\"text-align: right\">Bowen Xu</div>\n",
    "#### <div style=\"text-align: right\">1006411786</div>    "
   ]
  },
  {
   "cell_type": "code",
   "execution_count": 1,
   "metadata": {},
   "outputs": [],
   "source": [
    "import  pandas as pd\n",
    "import  numpy as np\n",
    "import  matplotlib.pyplot as plt\n",
    "\n",
    "from sklearn.model_selection import train_test_split\n",
    "from sklearn.tree import DecisionTreeClassifier\n",
    "from sklearn.metrics import roc_curve, auc, f1_score"
   ]
  },
  {
   "cell_type": "code",
   "execution_count": 2,
   "metadata": {},
   "outputs": [],
   "source": [
    "#read kaggle data\n",
    "kaggle = pd.read_csv('Retail_Data_Response.csv')"
   ]
  },
  {
   "cell_type": "code",
   "execution_count": 3,
   "metadata": {},
   "outputs": [],
   "source": [
    "#read monthly data\n",
    "mth_rolling_features = pd.read_excel('mth_rolling_features.xlsx')\n",
    "mth_day_counts = pd.read_excel('mth_day_counts.xlsx')\n",
    "days_since_last_txn = pd.read_excel('days_since_last_txn.xlsx')"
   ]
  },
  {
   "cell_type": "code",
   "execution_count": 4,
   "metadata": {},
   "outputs": [],
   "source": [
    "mth_rolling_features.drop('Unnamed: 0',axis=1,inplace=True)\n",
    "mth_day_counts.drop('Unnamed: 0',axis=1,inplace=True)\n",
    "days_since_last_txn.drop('Unnamed: 0',axis=1,inplace=True)"
   ]
  },
  {
   "cell_type": "code",
   "execution_count": 5,
   "metadata": {},
   "outputs": [],
   "source": [
    "df_monthly = pd.merge(mth_rolling_features, mth_day_counts,on=['CLNT_NO','ME_DT'])\\\n",
    "               .merge(days_since_last_txn,on=['CLNT_NO','ME_DT'])\\\n",
    "               .merge(kaggle.rename(columns={'customer_id':'CLNT_NO'}),on='CLNT_NO')"
   ]
  },
  {
   "cell_type": "code",
   "execution_count": 6,
   "metadata": {},
   "outputs": [],
   "source": [
    "# fill missing values with 0s\n",
    "df_monthly.fillna(0,inplace=True)"
   ]
  },
  {
   "cell_type": "code",
   "execution_count": 7,
   "metadata": {},
   "outputs": [],
   "source": [
    "# separate features and targets\n",
    "X_monthly = df_monthly.drop(['response','CLNT_NO','ME_DT'], axis=1)\n",
    "y_monthly = df_monthly['response'].astype(int)"
   ]
  },
  {
   "cell_type": "markdown",
   "metadata": {},
   "source": [
    "#### 1. Split the train/test sets with 9:1 ratio This split should give you approximately 291k/32k samples in train/test set, respectively."
   ]
  },
  {
   "cell_type": "code",
   "execution_count": 8,
   "metadata": {},
   "outputs": [],
   "source": [
    "X_train, X_test, y_train, y_test = train_test_split(X_monthly, y_monthly, test_size=0.1, random_state=1147)"
   ]
  },
  {
   "cell_type": "code",
   "execution_count": 9,
   "metadata": {},
   "outputs": [
    {
     "data": {
      "text/plain": [
       "291193"
      ]
     },
     "execution_count": 9,
     "metadata": {},
     "output_type": "execute_result"
    }
   ],
   "source": [
    "len(X_train)"
   ]
  },
  {
   "cell_type": "code",
   "execution_count": 10,
   "metadata": {},
   "outputs": [
    {
     "data": {
      "text/plain": [
       "32355"
      ]
     },
     "execution_count": 10,
     "metadata": {},
     "output_type": "execute_result"
    }
   ],
   "source": [
    "len(X_test)"
   ]
  },
  {
   "cell_type": "markdown",
   "metadata": {},
   "source": [
    "#### 2. Initialize  and  create  a  for  loop  in  which  you  take  N  samples  (e.g.   50),  build  a  tree model with the N samples and evaluate the test set AUC. Repeat the sampling process 10 times and append the test set AUC. "
   ]
  },
  {
   "cell_type": "code",
   "execution_count": 11,
   "metadata": {},
   "outputs": [],
   "source": [
    "def run_size(size):\n",
    "    \n",
    "    test_auc = []\n",
    "    \n",
    "    for _ in range(10):\n",
    "\n",
    "        X_train_temp = X_train.sample(n = size)\n",
    "        idx = X_train_temp.index\n",
    "        y_train_temp = y_train[idx]\n",
    "\n",
    "        clf = DecisionTreeClassifier(max_depth = 6, random_state = 1147, class_weight='balanced')\n",
    "        clf.fit(X_train_temp, y_train_temp)\n",
    "\n",
    "        scores_test  = clf.predict_proba(X_test)[:,1]\n",
    "        fpr_test, tpr_test, _ = roc_curve(y_test, scores_test)\n",
    "        test_auc.append(auc(fpr_test, tpr_test))\n",
    "\n",
    "    return test_auc"
   ]
  },
  {
   "cell_type": "code",
   "execution_count": 12,
   "metadata": {},
   "outputs": [
    {
     "data": {
      "text/html": [
       "<div>\n",
       "<style scoped>\n",
       "    .dataframe tbody tr th:only-of-type {\n",
       "        vertical-align: middle;\n",
       "    }\n",
       "\n",
       "    .dataframe tbody tr th {\n",
       "        vertical-align: top;\n",
       "    }\n",
       "\n",
       "    .dataframe thead th {\n",
       "        text-align: right;\n",
       "    }\n",
       "</style>\n",
       "<table border=\"1\" class=\"dataframe\">\n",
       "  <thead>\n",
       "    <tr style=\"text-align: right;\">\n",
       "      <th></th>\n",
       "      <th>Test AUC</th>\n",
       "    </tr>\n",
       "  </thead>\n",
       "  <tbody>\n",
       "    <tr>\n",
       "      <td>0</td>\n",
       "      <td>0.519827</td>\n",
       "    </tr>\n",
       "    <tr>\n",
       "      <td>1</td>\n",
       "      <td>0.532093</td>\n",
       "    </tr>\n",
       "    <tr>\n",
       "      <td>2</td>\n",
       "      <td>0.515241</td>\n",
       "    </tr>\n",
       "    <tr>\n",
       "      <td>3</td>\n",
       "      <td>0.488978</td>\n",
       "    </tr>\n",
       "    <tr>\n",
       "      <td>4</td>\n",
       "      <td>0.499940</td>\n",
       "    </tr>\n",
       "    <tr>\n",
       "      <td>5</td>\n",
       "      <td>0.483410</td>\n",
       "    </tr>\n",
       "    <tr>\n",
       "      <td>6</td>\n",
       "      <td>0.525813</td>\n",
       "    </tr>\n",
       "    <tr>\n",
       "      <td>7</td>\n",
       "      <td>0.504277</td>\n",
       "    </tr>\n",
       "    <tr>\n",
       "      <td>8</td>\n",
       "      <td>0.527091</td>\n",
       "    </tr>\n",
       "    <tr>\n",
       "      <td>9</td>\n",
       "      <td>0.525186</td>\n",
       "    </tr>\n",
       "  </tbody>\n",
       "</table>\n",
       "</div>"
      ],
      "text/plain": [
       "   Test AUC\n",
       "0  0.519827\n",
       "1  0.532093\n",
       "2  0.515241\n",
       "3  0.488978\n",
       "4  0.499940\n",
       "5  0.483410\n",
       "6  0.525813\n",
       "7  0.504277\n",
       "8  0.527091\n",
       "9  0.525186"
      ]
     },
     "execution_count": 12,
     "metadata": {},
     "output_type": "execute_result"
    }
   ],
   "source": [
    "results = run_size(50)\n",
    "results = pd.DataFrame(results,columns=['Test AUC'])\n",
    "results"
   ]
  },
  {
   "cell_type": "code",
   "execution_count": 13,
   "metadata": {},
   "outputs": [
    {
     "name": "stdout",
     "output_type": "stream",
     "text": [
      "Mean of test AUC = 0.5121854408552224\n",
      "Standard deviation of test AUC = 0.0170622145916475\n"
     ]
    }
   ],
   "source": [
    "print('Mean of test AUC =',results.mean().values[0])\n",
    "print('Standard deviation of test AUC =',results.std().values[0])"
   ]
  },
  {
   "cell_type": "markdown",
   "metadata": {},
   "source": [
    "#### 3. Repeat the procedure you performed in the previous step for different sample size N"
   ]
  },
  {
   "cell_type": "code",
   "execution_count": 14,
   "metadata": {},
   "outputs": [],
   "source": [
    "sample_sizes = [50, 100, 500, 1000, 2000, 5000, 10000, 50000, 75000, 100000, 150000, 200000, 250000]"
   ]
  },
  {
   "cell_type": "code",
   "execution_count": 15,
   "metadata": {},
   "outputs": [],
   "source": [
    "df_auc = pd.DataFrame(index=['# {}'.format(i) for i in list(range(1,11))], columns=['sample size = {}'.format(size) for size in sample_sizes])"
   ]
  },
  {
   "cell_type": "code",
   "execution_count": 16,
   "metadata": {},
   "outputs": [],
   "source": [
    "for i in range(len(sample_sizes)):\n",
    "    df_auc.iloc[:,i] = run_size(sample_sizes[i])"
   ]
  },
  {
   "cell_type": "code",
   "execution_count": 17,
   "metadata": {},
   "outputs": [
    {
     "data": {
      "text/html": [
       "<div>\n",
       "<style scoped>\n",
       "    .dataframe tbody tr th:only-of-type {\n",
       "        vertical-align: middle;\n",
       "    }\n",
       "\n",
       "    .dataframe tbody tr th {\n",
       "        vertical-align: top;\n",
       "    }\n",
       "\n",
       "    .dataframe thead th {\n",
       "        text-align: right;\n",
       "    }\n",
       "</style>\n",
       "<table border=\"1\" class=\"dataframe\">\n",
       "  <thead>\n",
       "    <tr style=\"text-align: right;\">\n",
       "      <th></th>\n",
       "      <th>sample size = 50</th>\n",
       "      <th>sample size = 100</th>\n",
       "      <th>sample size = 500</th>\n",
       "      <th>sample size = 1000</th>\n",
       "      <th>sample size = 2000</th>\n",
       "      <th>sample size = 5000</th>\n",
       "      <th>sample size = 10000</th>\n",
       "      <th>sample size = 50000</th>\n",
       "      <th>sample size = 75000</th>\n",
       "      <th>sample size = 100000</th>\n",
       "      <th>sample size = 150000</th>\n",
       "      <th>sample size = 200000</th>\n",
       "      <th>sample size = 250000</th>\n",
       "    </tr>\n",
       "  </thead>\n",
       "  <tbody>\n",
       "    <tr>\n",
       "      <td># 1</td>\n",
       "      <td>0.521185</td>\n",
       "      <td>0.514251</td>\n",
       "      <td>0.552247</td>\n",
       "      <td>0.525786</td>\n",
       "      <td>0.569470</td>\n",
       "      <td>0.598304</td>\n",
       "      <td>0.601312</td>\n",
       "      <td>0.631718</td>\n",
       "      <td>0.641670</td>\n",
       "      <td>0.638519</td>\n",
       "      <td>0.645044</td>\n",
       "      <td>0.644118</td>\n",
       "      <td>0.642804</td>\n",
       "    </tr>\n",
       "    <tr>\n",
       "      <td># 2</td>\n",
       "      <td>0.509691</td>\n",
       "      <td>0.514580</td>\n",
       "      <td>0.523421</td>\n",
       "      <td>0.483942</td>\n",
       "      <td>0.556709</td>\n",
       "      <td>0.593447</td>\n",
       "      <td>0.607649</td>\n",
       "      <td>0.635673</td>\n",
       "      <td>0.638744</td>\n",
       "      <td>0.637384</td>\n",
       "      <td>0.646364</td>\n",
       "      <td>0.644949</td>\n",
       "      <td>0.647300</td>\n",
       "    </tr>\n",
       "    <tr>\n",
       "      <td># 3</td>\n",
       "      <td>0.511673</td>\n",
       "      <td>0.506195</td>\n",
       "      <td>0.497796</td>\n",
       "      <td>0.569101</td>\n",
       "      <td>0.549912</td>\n",
       "      <td>0.586833</td>\n",
       "      <td>0.603449</td>\n",
       "      <td>0.633101</td>\n",
       "      <td>0.641914</td>\n",
       "      <td>0.641978</td>\n",
       "      <td>0.641984</td>\n",
       "      <td>0.640805</td>\n",
       "      <td>0.646312</td>\n",
       "    </tr>\n",
       "    <tr>\n",
       "      <td># 4</td>\n",
       "      <td>0.538643</td>\n",
       "      <td>0.521307</td>\n",
       "      <td>0.537860</td>\n",
       "      <td>0.521871</td>\n",
       "      <td>0.566458</td>\n",
       "      <td>0.568983</td>\n",
       "      <td>0.606554</td>\n",
       "      <td>0.634737</td>\n",
       "      <td>0.640422</td>\n",
       "      <td>0.641751</td>\n",
       "      <td>0.640887</td>\n",
       "      <td>0.641135</td>\n",
       "      <td>0.645534</td>\n",
       "    </tr>\n",
       "    <tr>\n",
       "      <td># 5</td>\n",
       "      <td>0.511051</td>\n",
       "      <td>0.489865</td>\n",
       "      <td>0.543057</td>\n",
       "      <td>0.515535</td>\n",
       "      <td>0.559443</td>\n",
       "      <td>0.605855</td>\n",
       "      <td>0.621636</td>\n",
       "      <td>0.632229</td>\n",
       "      <td>0.638865</td>\n",
       "      <td>0.640861</td>\n",
       "      <td>0.641820</td>\n",
       "      <td>0.641214</td>\n",
       "      <td>0.644513</td>\n",
       "    </tr>\n",
       "    <tr>\n",
       "      <td># 6</td>\n",
       "      <td>0.507163</td>\n",
       "      <td>0.513328</td>\n",
       "      <td>0.521853</td>\n",
       "      <td>0.500601</td>\n",
       "      <td>0.534454</td>\n",
       "      <td>0.581352</td>\n",
       "      <td>0.606701</td>\n",
       "      <td>0.637610</td>\n",
       "      <td>0.639161</td>\n",
       "      <td>0.639325</td>\n",
       "      <td>0.640111</td>\n",
       "      <td>0.645420</td>\n",
       "      <td>0.643482</td>\n",
       "    </tr>\n",
       "    <tr>\n",
       "      <td># 7</td>\n",
       "      <td>0.489649</td>\n",
       "      <td>0.514401</td>\n",
       "      <td>0.480515</td>\n",
       "      <td>0.562708</td>\n",
       "      <td>0.566408</td>\n",
       "      <td>0.575665</td>\n",
       "      <td>0.600213</td>\n",
       "      <td>0.634937</td>\n",
       "      <td>0.634551</td>\n",
       "      <td>0.639889</td>\n",
       "      <td>0.641180</td>\n",
       "      <td>0.645972</td>\n",
       "      <td>0.643755</td>\n",
       "    </tr>\n",
       "    <tr>\n",
       "      <td># 8</td>\n",
       "      <td>0.538886</td>\n",
       "      <td>0.493724</td>\n",
       "      <td>0.514707</td>\n",
       "      <td>0.571543</td>\n",
       "      <td>0.555958</td>\n",
       "      <td>0.584981</td>\n",
       "      <td>0.606434</td>\n",
       "      <td>0.634242</td>\n",
       "      <td>0.638235</td>\n",
       "      <td>0.636490</td>\n",
       "      <td>0.642551</td>\n",
       "      <td>0.645606</td>\n",
       "      <td>0.643632</td>\n",
       "    </tr>\n",
       "    <tr>\n",
       "      <td># 9</td>\n",
       "      <td>0.504884</td>\n",
       "      <td>0.498176</td>\n",
       "      <td>0.533835</td>\n",
       "      <td>0.577173</td>\n",
       "      <td>0.547776</td>\n",
       "      <td>0.598875</td>\n",
       "      <td>0.606415</td>\n",
       "      <td>0.632777</td>\n",
       "      <td>0.634556</td>\n",
       "      <td>0.646176</td>\n",
       "      <td>0.639963</td>\n",
       "      <td>0.645463</td>\n",
       "      <td>0.643439</td>\n",
       "    </tr>\n",
       "    <tr>\n",
       "      <td># 10</td>\n",
       "      <td>0.485420</td>\n",
       "      <td>0.506455</td>\n",
       "      <td>0.527361</td>\n",
       "      <td>0.528717</td>\n",
       "      <td>0.539544</td>\n",
       "      <td>0.575865</td>\n",
       "      <td>0.601400</td>\n",
       "      <td>0.636696</td>\n",
       "      <td>0.635541</td>\n",
       "      <td>0.639942</td>\n",
       "      <td>0.643603</td>\n",
       "      <td>0.644639</td>\n",
       "      <td>0.645102</td>\n",
       "    </tr>\n",
       "  </tbody>\n",
       "</table>\n",
       "</div>"
      ],
      "text/plain": [
       "      sample size = 50  sample size = 100  sample size = 500  \\\n",
       "# 1           0.521185           0.514251           0.552247   \n",
       "# 2           0.509691           0.514580           0.523421   \n",
       "# 3           0.511673           0.506195           0.497796   \n",
       "# 4           0.538643           0.521307           0.537860   \n",
       "# 5           0.511051           0.489865           0.543057   \n",
       "# 6           0.507163           0.513328           0.521853   \n",
       "# 7           0.489649           0.514401           0.480515   \n",
       "# 8           0.538886           0.493724           0.514707   \n",
       "# 9           0.504884           0.498176           0.533835   \n",
       "# 10          0.485420           0.506455           0.527361   \n",
       "\n",
       "      sample size = 1000  sample size = 2000  sample size = 5000  \\\n",
       "# 1             0.525786            0.569470            0.598304   \n",
       "# 2             0.483942            0.556709            0.593447   \n",
       "# 3             0.569101            0.549912            0.586833   \n",
       "# 4             0.521871            0.566458            0.568983   \n",
       "# 5             0.515535            0.559443            0.605855   \n",
       "# 6             0.500601            0.534454            0.581352   \n",
       "# 7             0.562708            0.566408            0.575665   \n",
       "# 8             0.571543            0.555958            0.584981   \n",
       "# 9             0.577173            0.547776            0.598875   \n",
       "# 10            0.528717            0.539544            0.575865   \n",
       "\n",
       "      sample size = 10000  sample size = 50000  sample size = 75000  \\\n",
       "# 1              0.601312             0.631718             0.641670   \n",
       "# 2              0.607649             0.635673             0.638744   \n",
       "# 3              0.603449             0.633101             0.641914   \n",
       "# 4              0.606554             0.634737             0.640422   \n",
       "# 5              0.621636             0.632229             0.638865   \n",
       "# 6              0.606701             0.637610             0.639161   \n",
       "# 7              0.600213             0.634937             0.634551   \n",
       "# 8              0.606434             0.634242             0.638235   \n",
       "# 9              0.606415             0.632777             0.634556   \n",
       "# 10             0.601400             0.636696             0.635541   \n",
       "\n",
       "      sample size = 100000  sample size = 150000  sample size = 200000  \\\n",
       "# 1               0.638519              0.645044              0.644118   \n",
       "# 2               0.637384              0.646364              0.644949   \n",
       "# 3               0.641978              0.641984              0.640805   \n",
       "# 4               0.641751              0.640887              0.641135   \n",
       "# 5               0.640861              0.641820              0.641214   \n",
       "# 6               0.639325              0.640111              0.645420   \n",
       "# 7               0.639889              0.641180              0.645972   \n",
       "# 8               0.636490              0.642551              0.645606   \n",
       "# 9               0.646176              0.639963              0.645463   \n",
       "# 10              0.639942              0.643603              0.644639   \n",
       "\n",
       "      sample size = 250000  \n",
       "# 1               0.642804  \n",
       "# 2               0.647300  \n",
       "# 3               0.646312  \n",
       "# 4               0.645534  \n",
       "# 5               0.644513  \n",
       "# 6               0.643482  \n",
       "# 7               0.643755  \n",
       "# 8               0.643632  \n",
       "# 9               0.643439  \n",
       "# 10              0.645102  "
      ]
     },
     "execution_count": 17,
     "metadata": {},
     "output_type": "execute_result"
    }
   ],
   "source": [
    "df_auc"
   ]
  },
  {
   "cell_type": "markdown",
   "metadata": {},
   "source": [
    "#### 4. Build a table that contains the values of:\n",
    "- Sample size N\n",
    "- Test AUC mean\n",
    "- Test AUC standard deviation"
   ]
  },
  {
   "cell_type": "code",
   "execution_count": 18,
   "metadata": {},
   "outputs": [
    {
     "data": {
      "text/html": [
       "<div>\n",
       "<style scoped>\n",
       "    .dataframe tbody tr th:only-of-type {\n",
       "        vertical-align: middle;\n",
       "    }\n",
       "\n",
       "    .dataframe tbody tr th {\n",
       "        vertical-align: top;\n",
       "    }\n",
       "\n",
       "    .dataframe thead th {\n",
       "        text-align: right;\n",
       "    }\n",
       "</style>\n",
       "<table border=\"1\" class=\"dataframe\">\n",
       "  <thead>\n",
       "    <tr style=\"text-align: right;\">\n",
       "      <th></th>\n",
       "      <th>Test AUC mean</th>\n",
       "      <th>Test AUC standard deviation</th>\n",
       "    </tr>\n",
       "  </thead>\n",
       "  <tbody>\n",
       "    <tr>\n",
       "      <td>sample size = 50</td>\n",
       "      <td>0.511825</td>\n",
       "      <td>0.017648</td>\n",
       "    </tr>\n",
       "    <tr>\n",
       "      <td>sample size = 100</td>\n",
       "      <td>0.507228</td>\n",
       "      <td>0.010315</td>\n",
       "    </tr>\n",
       "    <tr>\n",
       "      <td>sample size = 500</td>\n",
       "      <td>0.523265</td>\n",
       "      <td>0.021408</td>\n",
       "    </tr>\n",
       "    <tr>\n",
       "      <td>sample size = 1000</td>\n",
       "      <td>0.535698</td>\n",
       "      <td>0.032499</td>\n",
       "    </tr>\n",
       "    <tr>\n",
       "      <td>sample size = 2000</td>\n",
       "      <td>0.554613</td>\n",
       "      <td>0.011700</td>\n",
       "    </tr>\n",
       "    <tr>\n",
       "      <td>sample size = 5000</td>\n",
       "      <td>0.587016</td>\n",
       "      <td>0.011921</td>\n",
       "    </tr>\n",
       "    <tr>\n",
       "      <td>sample size = 10000</td>\n",
       "      <td>0.606176</td>\n",
       "      <td>0.006066</td>\n",
       "    </tr>\n",
       "    <tr>\n",
       "      <td>sample size = 50000</td>\n",
       "      <td>0.634372</td>\n",
       "      <td>0.001939</td>\n",
       "    </tr>\n",
       "    <tr>\n",
       "      <td>sample size = 75000</td>\n",
       "      <td>0.638366</td>\n",
       "      <td>0.002704</td>\n",
       "    </tr>\n",
       "    <tr>\n",
       "      <td>sample size = 100000</td>\n",
       "      <td>0.640231</td>\n",
       "      <td>0.002732</td>\n",
       "    </tr>\n",
       "    <tr>\n",
       "      <td>sample size = 150000</td>\n",
       "      <td>0.642351</td>\n",
       "      <td>0.002098</td>\n",
       "    </tr>\n",
       "    <tr>\n",
       "      <td>sample size = 200000</td>\n",
       "      <td>0.643932</td>\n",
       "      <td>0.002057</td>\n",
       "    </tr>\n",
       "    <tr>\n",
       "      <td>sample size = 250000</td>\n",
       "      <td>0.644587</td>\n",
       "      <td>0.001446</td>\n",
       "    </tr>\n",
       "  </tbody>\n",
       "</table>\n",
       "</div>"
      ],
      "text/plain": [
       "                      Test AUC mean  Test AUC standard deviation\n",
       "sample size = 50           0.511825                     0.017648\n",
       "sample size = 100          0.507228                     0.010315\n",
       "sample size = 500          0.523265                     0.021408\n",
       "sample size = 1000         0.535698                     0.032499\n",
       "sample size = 2000         0.554613                     0.011700\n",
       "sample size = 5000         0.587016                     0.011921\n",
       "sample size = 10000        0.606176                     0.006066\n",
       "sample size = 50000        0.634372                     0.001939\n",
       "sample size = 75000        0.638366                     0.002704\n",
       "sample size = 100000       0.640231                     0.002732\n",
       "sample size = 150000       0.642351                     0.002098\n",
       "sample size = 200000       0.643932                     0.002057\n",
       "sample size = 250000       0.644587                     0.001446"
      ]
     },
     "execution_count": 18,
     "metadata": {},
     "output_type": "execute_result"
    }
   ],
   "source": [
    "df_result = pd.DataFrame(df_auc.T.mean(axis=1),columns=['Test AUC mean'])\n",
    "\n",
    "df_result['Test AUC standard deviation'] = df_auc.T.std(axis=1)\n",
    "\n",
    "df_result"
   ]
  },
  {
   "cell_type": "markdown",
   "metadata": {},
   "source": [
    "#### 5. Using the matplotlib function errorbar,  plot the model performance captured in the test AUC mean and standard deviation as a function of the sample size.  From this plot, can you estimate what is the minimum number of samples needed to model the behaviour adequately?"
   ]
  },
  {
   "cell_type": "code",
   "execution_count": 19,
   "metadata": {},
   "outputs": [
    {
     "data": {
      "image/png": "[encoded data removed]",
      "text/plain": [
       "<Figure size 720x504 with 1 Axes>"
      ]
     },
     "metadata": {
      "needs_background": "light"
     },
     "output_type": "display_data"
    }
   ],
   "source": [
    "plt.figure(figsize=(10, 7))\n",
    "plt.errorbar(sample_sizes, df_result['Test AUC mean'] , df_result['Test AUC standard deviation'], marker = '.', ecolor = 'red')\n",
    "plt.xlabel('Sample Size')\n",
    "plt.ylabel('Test AUC Mean')\n",
    "plt.title('Model performance: Sample size N vs. Test AUC Mean')\n",
    "plt.show()"
   ]
  },
  {
   "cell_type": "markdown",
   "metadata": {},
   "source": [
    "From the graph, it clearly shows that the mean test AUC scores are increasing drastically when the sample size is lower than 50000 and the standard deviations are fluctuating; when the sample size goes from 50000 to 100000, the trend starts to be more stable but the AUC scores are still making improvements; as the sample size is greater than 150000, the mean AUC scores are almost horizontal which means the performance of the model does not get better when increase the sample size further. Therefore, the minimum sample size for this decision tree model to behave well is <b style='color:red'>150000."
   ]
  }
 ],
 "metadata": {
  "kernelspec": {
   "display_name": "Python 3",
   "language": "python",
   "name": "python3"
  },
  "language_info": {
   "codemirror_mode": {
    "name": "ipython",
    "version": 3
   },
   "file_extension": ".py",
   "mimetype": "text/x-python",
   "name": "python",
   "nbconvert_exporter": "python",
   "pygments_lexer": "ipython3",
   "version": "3.7.4"
  }
 },
 "nbformat": 4,
 "nbformat_minor": 4
}
