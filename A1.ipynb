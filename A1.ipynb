{
 "cells": [
  {
   "cell_type": "markdown",
   "metadata": {},
   "source": [
    "# <center>CHE1147 Data Mining in Engineering</center>\n",
    "\n",
    "## <center>Assignment 1</center>\n",
    "\n",
    "\n",
    "#### <div style=\"text-align: right\">Bowen Xu</div>\n",
    "#### <div style=\"text-align: right\">1006411786</div>"
   ]
  },
  {
   "cell_type": "markdown",
   "metadata": {},
   "source": [
    "## 1. Python data structure and other essentials"
   ]
  },
  {
   "cell_type": "markdown",
   "metadata": {},
   "source": [
    "### 1.1 Tuples"
   ]
  },
  {
   "cell_type": "markdown",
   "metadata": {},
   "source": [
    "##### &emsp;&emsp;&emsp; - 1. Create the tuple named <b>apps_tuple</b> with the string elements ”Google”, ”Facebook”,”Amazon”, ”Netflix”, ”AirBnB”, ”Instagram”"
   ]
  },
  {
   "cell_type": "code",
   "execution_count": 1,
   "metadata": {},
   "outputs": [],
   "source": [
    "apps_tuple = ('Google','Facebook','Amazon','Netflix','AirBnB','Instagram')"
   ]
  },
  {
   "cell_type": "markdown",
   "metadata": {},
   "source": [
    "##### &emsp;&emsp;&emsp;-  2. Extract the second element by using its index <b>and</b> the last element by using its <b>negative</b> index"
   ]
  },
  {
   "cell_type": "code",
   "execution_count": 3,
   "metadata": {},
   "outputs": [
    {
     "data": {
      "text/plain": [
       "'Facebook'"
      ]
     },
     "execution_count": 3,
     "metadata": {},
     "output_type": "execute_result"
    }
   ],
   "source": [
    "# second element\n",
    "apps_tuple[1]"
   ]
  },
  {
   "cell_type": "code",
   "execution_count": 4,
   "metadata": {},
   "outputs": [
    {
     "data": {
      "text/plain": [
       "'Instagram'"
      ]
     },
     "execution_count": 4,
     "metadata": {},
     "output_type": "execute_result"
    }
   ],
   "source": [
    "# last element\n",
    "apps_tuple[-1]"
   ]
  },
  {
   "cell_type": "markdown",
   "metadata": {},
   "source": [
    "##### &emsp;&emsp;&emsp;- 3. Slice the elements from ”Facebook” to ”Netflix” <b>inclusive</b> on both ends"
   ]
  },
  {
   "cell_type": "code",
   "execution_count": 5,
   "metadata": {},
   "outputs": [
    {
     "data": {
      "text/plain": [
       "('Facebook', 'Amazon', 'Netflix')"
      ]
     },
     "execution_count": 5,
     "metadata": {},
     "output_type": "execute_result"
    }
   ],
   "source": [
    "apps_tuple[1:4]"
   ]
  },
  {
   "cell_type": "markdown",
   "metadata": {},
   "source": [
    "##### &emsp;&emsp;&emsp;- 4. Try appending the element ”Messenger” to the tuple. What do you observe? Why?"
   ]
  },
  {
   "cell_type": "code",
   "execution_count": 6,
   "metadata": {},
   "outputs": [
    {
     "ename": "AttributeError",
     "evalue": "'tuple' object has no attribute 'append'",
     "output_type": "error",
     "traceback": [
      "\u001b[0;31m---------------------------------------------------------------------------\u001b[0m",
      "\u001b[0;31mAttributeError\u001b[0m                            Traceback (most recent call last)",
      "\u001b[0;32m<ipython-input-6-f3f8b7c2907b>\u001b[0m in \u001b[0;36m<module>\u001b[0;34m\u001b[0m\n\u001b[0;32m----> 1\u001b[0;31m \u001b[0mapps_tuple\u001b[0m\u001b[0;34m.\u001b[0m\u001b[0mappend\u001b[0m\u001b[0;34m(\u001b[0m\u001b[0;34m'Messenger'\u001b[0m\u001b[0;34m)\u001b[0m\u001b[0;34m\u001b[0m\u001b[0;34m\u001b[0m\u001b[0m\n\u001b[0m",
      "\u001b[0;31mAttributeError\u001b[0m: 'tuple' object has no attribute 'append'"
     ]
    }
   ],
   "source": [
    "apps_tuple.append('Messenger')"
   ]
  },
  {
   "cell_type": "markdown",
   "metadata": {},
   "source": [
    "##### <div style=\"color:purple\"> An error raised up since there is no append() method for Tuples, and they are immutable.</div>"
   ]
  },
  {
   "cell_type": "markdown",
   "metadata": {},
   "source": [
    "### 1.2 Lists"
   ]
  },
  {
   "cell_type": "markdown",
   "metadata": {},
   "source": [
    "##### &emsp;&emsp;&emsp;-  1. Define the list <b>apps_list</b> with the same elements as the tuple above."
   ]
  },
  {
   "cell_type": "code",
   "execution_count": 7,
   "metadata": {},
   "outputs": [],
   "source": [
    "apps_list = ['Google','Facebook','Amazon','Netflix','AirBnB','Instagram']"
   ]
  },
  {
   "cell_type": "markdown",
   "metadata": {},
   "source": [
    "##### &emsp;&emsp;&emsp;- 2. Slice the first three elements of the list with the <b>shorthand</b> syntax, i.e. <b>not</b> by typing explicitly all the indexes 0, 1, and 2; use the symbol : instead"
   ]
  },
  {
   "cell_type": "code",
   "execution_count": 8,
   "metadata": {},
   "outputs": [
    {
     "data": {
      "text/plain": [
       "['Google', 'Facebook', 'Amazon']"
      ]
     },
     "execution_count": 8,
     "metadata": {},
     "output_type": "execute_result"
    }
   ],
   "source": [
    "apps_list[:3]"
   ]
  },
  {
   "cell_type": "markdown",
   "metadata": {},
   "source": [
    "##### &emsp;&emsp;&emsp;-  3. Slice all the elements after index 3 inclusively with the shorthand syntax"
   ]
  },
  {
   "cell_type": "code",
   "execution_count": 9,
   "metadata": {},
   "outputs": [
    {
     "data": {
      "text/plain": [
       "['Netflix', 'AirBnB', 'Instagram']"
      ]
     },
     "execution_count": 9,
     "metadata": {},
     "output_type": "execute_result"
    }
   ],
   "source": [
    "apps_list[3:]"
   ]
  },
  {
   "cell_type": "markdown",
   "metadata": {},
   "source": [
    "##### &emsp;&emsp;&emsp;- 4. Append the element ’Messenger’ to the end of the list <b>and</b> insert the element ’Youtube’ at index 1"
   ]
  },
  {
   "cell_type": "code",
   "execution_count": 10,
   "metadata": {},
   "outputs": [
    {
     "data": {
      "text/plain": [
       "['Google',\n",
       " 'Youtube',\n",
       " 'Facebook',\n",
       " 'Amazon',\n",
       " 'Netflix',\n",
       " 'AirBnB',\n",
       " 'Instagram',\n",
       " 'Messenger']"
      ]
     },
     "execution_count": 10,
     "metadata": {},
     "output_type": "execute_result"
    }
   ],
   "source": [
    "apps_list.append('Messenger')\n",
    "apps_list.insert(1,'Youtube')\n",
    "apps_list"
   ]
  },
  {
   "cell_type": "markdown",
   "metadata": {},
   "source": [
    "##### &emsp;&emsp;&emsp;-  5. Remove element ’Facebook’ and confirm with the function <b>in</b> whether ’Facebook’ has been removed from the list"
   ]
  },
  {
   "cell_type": "code",
   "execution_count": 11,
   "metadata": {},
   "outputs": [
    {
     "name": "stdout",
     "output_type": "stream",
     "text": [
      "False\n"
     ]
    }
   ],
   "source": [
    "apps_list.remove('Facebook')\n",
    "print('Facebook' in apps_list)"
   ]
  },
  {
   "cell_type": "markdown",
   "metadata": {},
   "source": [
    "##### &emsp;&emsp;&emsp;-  6. Concatenate the last list with the list [’Linkedin’, ’Twitter’]."
   ]
  },
  {
   "cell_type": "code",
   "execution_count": 12,
   "metadata": {},
   "outputs": [
    {
     "data": {
      "text/plain": [
       "['Google',\n",
       " 'Youtube',\n",
       " 'Amazon',\n",
       " 'Netflix',\n",
       " 'AirBnB',\n",
       " 'Instagram',\n",
       " 'Messenger',\n",
       " 'Linkedin',\n",
       " 'Twitter']"
      ]
     },
     "execution_count": 12,
     "metadata": {},
     "output_type": "execute_result"
    }
   ],
   "source": [
    "apps_list + ['Linkedin', 'Twitter']"
   ]
  },
  {
   "cell_type": "markdown",
   "metadata": {},
   "source": [
    "### 1.3 Dicts"
   ]
  },
  {
   "cell_type": "markdown",
   "metadata": {},
   "source": [
    "##### &emsp;&emsp;&emsp;-  1. Create the dict named <b>apps_dict</b> with the same <b>values</b> as in 1.1.1. and <b>keys</b>: app0,app1, etc."
   ]
  },
  {
   "cell_type": "code",
   "execution_count": 13,
   "metadata": {},
   "outputs": [],
   "source": [
    "apps_dict = {'app0':'Google',\n",
    "            'app1':'Facebook',\n",
    "            'app2':'Amazon',\n",
    "            'app3':'Netflix',\n",
    "            'app4':'AirBnB',\n",
    "            'app5':'Instagram'}"
   ]
  },
  {
   "cell_type": "markdown",
   "metadata": {},
   "source": [
    "##### &emsp;&emsp;&emsp;-  2. Access the element with key app1; then replace its value with ’Youtube’."
   ]
  },
  {
   "cell_type": "code",
   "execution_count": 14,
   "metadata": {},
   "outputs": [
    {
     "data": {
      "text/plain": [
       "'Facebook'"
      ]
     },
     "execution_count": 14,
     "metadata": {},
     "output_type": "execute_result"
    }
   ],
   "source": [
    "apps_dict['app1']"
   ]
  },
  {
   "cell_type": "code",
   "execution_count": 15,
   "metadata": {},
   "outputs": [
    {
     "data": {
      "text/plain": [
       "{'app0': 'Google',\n",
       " 'app1': 'Youtube',\n",
       " 'app2': 'Amazon',\n",
       " 'app3': 'Netflix',\n",
       " 'app4': 'AirBnB',\n",
       " 'app5': 'Instagram'}"
      ]
     },
     "execution_count": 15,
     "metadata": {},
     "output_type": "execute_result"
    }
   ],
   "source": [
    "apps_dict['app1'] = 'Youtube'\n",
    "apps_dict"
   ]
  },
  {
   "cell_type": "markdown",
   "metadata": {},
   "source": [
    "##### &emsp;&emsp;&emsp;-   3. Add a new key-value pair: app6-Messenger"
   ]
  },
  {
   "cell_type": "code",
   "execution_count": 16,
   "metadata": {},
   "outputs": [],
   "source": [
    "apps_dict['app6'] = 'Messenger'"
   ]
  },
  {
   "cell_type": "markdown",
   "metadata": {},
   "source": [
    "##### &emsp;&emsp;&emsp;- 4. What does the syntax: apps_dict[”app1”]=”Messenger” do?"
   ]
  },
  {
   "cell_type": "markdown",
   "metadata": {},
   "source": [
    "##### <div style=\"color:purple\">Repalce the corresponding value of key 'app1' in apps_dict with 'Messenger', i.e. replace 'Youtube' with 'Messenger' in this case.</div>"
   ]
  },
  {
   "cell_type": "markdown",
   "metadata": {},
   "source": [
    "##### &emsp;&emsp;&emsp;-  5. What does the syntax: apps_dict[”App1”]=”Facebook” do? Why?"
   ]
  },
  {
   "cell_type": "markdown",
   "metadata": {},
   "source": [
    "##### <div style=\"color:purple\">It will add a new key-value pair to the dictionary apps_dict since key 'App1' (with capital letter 'A') is not existing in the dictionary.</div>"
   ]
  },
  {
   "cell_type": "markdown",
   "metadata": {},
   "source": [
    "##### &emsp;&emsp;&emsp;-  6. What does the syntax: del apps_dict[”App1”] do?"
   ]
  },
  {
   "cell_type": "markdown",
   "metadata": {},
   "source": [
    "##### <div style=\"color:purple\">It will delete the corresponding key-value pair of key 'App1' from dictionary apps_dict.</div>"
   ]
  },
  {
   "cell_type": "markdown",
   "metadata": {},
   "source": [
    "### 1.4 List comprehension"
   ]
  },
  {
   "cell_type": "markdown",
   "metadata": {},
   "source": [
    "##### &emsp;&emsp;&emsp;-  1. Create the list named <b>values</b> with integers: 7, 12, 9, 18, 15."
   ]
  },
  {
   "cell_type": "code",
   "execution_count": 17,
   "metadata": {},
   "outputs": [],
   "source": [
    "values = [7,12,9,18,15]"
   ]
  },
  {
   "cell_type": "markdown",
   "metadata": {},
   "source": [
    "##### &emsp;&emsp;&emsp;-  2. Create a list comprehension that takes the object <b>values</b> and returns the square of every value."
   ]
  },
  {
   "cell_type": "code",
   "execution_count": 18,
   "metadata": {},
   "outputs": [
    {
     "data": {
      "text/plain": [
       "[49, 144, 81, 324, 225]"
      ]
     },
     "execution_count": 18,
     "metadata": {},
     "output_type": "execute_result"
    }
   ],
   "source": [
    "[x**2 for x in values]"
   ]
  },
  {
   "cell_type": "markdown",
   "metadata": {},
   "source": [
    "### 1.5 Functions and control flow"
   ]
  },
  {
   "cell_type": "markdown",
   "metadata": {},
   "source": [
    "##### &emsp;&emsp;&emsp;-  1. Generate a sample of 10 random integer numbers between 600 and 900 (hint: use Numpy's random integers function)."
   ]
  },
  {
   "cell_type": "code",
   "execution_count": 20,
   "metadata": {},
   "outputs": [],
   "source": [
    "import numpy as np"
   ]
  },
  {
   "cell_type": "code",
   "execution_count": 22,
   "metadata": {},
   "outputs": [
    {
     "data": {
      "text/plain": [
       "array([822, 858, 865, 708, 781, 609, 769, 820, 783, 681])"
      ]
     },
     "execution_count": 22,
     "metadata": {},
     "output_type": "execute_result"
    }
   ],
   "source": [
    "# upped bound 900 is inclusive\n",
    "randomList = np.random.randint(600,901,size=10)\n",
    "randomList"
   ]
  },
  {
   "cell_type": "markdown",
   "metadata": {},
   "source": [
    "##### &emsp;&emsp;&emsp;-  2. Create a function called <b>credit_score</b> that reads the sample and returns the output 'Low' when the input is [600, 699], 'Medium' when in [700, 799] and 'High' when in [800, 900]."
   ]
  },
  {
   "cell_type": "code",
   "execution_count": 350,
   "metadata": {},
   "outputs": [
    {
     "name": "stdout",
     "output_type": "stream",
     "text": [
      "High\n",
      "High\n",
      "High\n",
      "Medium\n",
      "Medium\n",
      "Low\n",
      "Medium\n",
      "High\n",
      "Medium\n",
      "Low\n"
     ]
    }
   ],
   "source": [
    "def credit_score(randomList):\n",
    "    for num in randomList:\n",
    "        if 600 <= num <= 699:\n",
    "            print('Low')\n",
    "        elif 700 <= num <= 799:\n",
    "            print('Medium')\n",
    "        elif 800 <= num <= 900:\n",
    "            print('High')\n",
    "\n",
    "credit_score(randomList)"
   ]
  },
  {
   "cell_type": "markdown",
   "metadata": {},
   "source": [
    "## 2. Linear algebra in Numpy"
   ]
  },
  {
   "cell_type": "markdown",
   "metadata": {},
   "source": [
    "### 2.1 Matrix calculations"
   ]
  },
  {
   "cell_type": "markdown",
   "metadata": {},
   "source": [
    "##### &emsp;&emsp;&emsp;-  1. Create matrices A and B as numpy arrays and calculate <b>2A</b>, <b>-3B</b> and <b>A</b>+<b>B</b>.\n",
    "\n",
    "$$ A =\\begin{bmatrix} 2 & 1 \\\\ 1 & 1 \\\\ 2 & 3 \\end{bmatrix} \\;\\;\\;\\;\\;\\;\\;\\;\\; B =\\begin{bmatrix} -4 & 1 \\\\ 3 & -1 \\\\ -2 & 1 \\end{bmatrix}$$ \n"
   ]
  },
  {
   "cell_type": "code",
   "execution_count": 31,
   "metadata": {},
   "outputs": [],
   "source": [
    "A = np.array([[2,1],[1,1],[2,3]])\n",
    "B = np.array([[-4,1],[3,-1],[-2,1]])"
   ]
  },
  {
   "cell_type": "code",
   "execution_count": 32,
   "metadata": {},
   "outputs": [
    {
     "data": {
      "text/plain": [
       "array([[4, 2],\n",
       "       [2, 2],\n",
       "       [4, 6]])"
      ]
     },
     "execution_count": 32,
     "metadata": {},
     "output_type": "execute_result"
    }
   ],
   "source": [
    "2*A"
   ]
  },
  {
   "cell_type": "code",
   "execution_count": 33,
   "metadata": {},
   "outputs": [
    {
     "data": {
      "text/plain": [
       "array([[12, -3],\n",
       "       [-9,  3],\n",
       "       [ 6, -3]])"
      ]
     },
     "execution_count": 33,
     "metadata": {},
     "output_type": "execute_result"
    }
   ],
   "source": [
    "-3*B"
   ]
  },
  {
   "cell_type": "code",
   "execution_count": 34,
   "metadata": {},
   "outputs": [
    {
     "data": {
      "text/plain": [
       "array([[-2,  2],\n",
       "       [ 4,  0],\n",
       "       [ 0,  4]])"
      ]
     },
     "execution_count": 34,
     "metadata": {},
     "output_type": "execute_result"
    }
   ],
   "source": [
    "A+B"
   ]
  },
  {
   "cell_type": "markdown",
   "metadata": {},
   "source": [
    "##### &emsp;&emsp;&emsp;-  2. Create matrices A and B as numpy arrays and calculate <b>A*B</b> and the <b>inverse of B</b>.\n",
    "\n",
    "$$ A =\\begin{bmatrix} 2 & -6 \\\\ -4 & 0 \\\\ 1 & 5 \\end{bmatrix} \\;\\;\\;\\;\\;\\;\\;\\;\\; B =\\begin{bmatrix} 1 & 1 \\\\ 2 & 3 \\end{bmatrix}$$ \n"
   ]
  },
  {
   "cell_type": "code",
   "execution_count": 35,
   "metadata": {},
   "outputs": [],
   "source": [
    "A = np.array([[2,-6],[-4,0],[1,5]])\n",
    "B = np.array([[1,1],[2,3]])"
   ]
  },
  {
   "cell_type": "code",
   "execution_count": 37,
   "metadata": {},
   "outputs": [
    {
     "data": {
      "text/plain": [
       "array([[-10, -16],\n",
       "       [ -4,  -4],\n",
       "       [ 11,  16]])"
      ]
     },
     "execution_count": 37,
     "metadata": {},
     "output_type": "execute_result"
    }
   ],
   "source": [
    "# A*B\n",
    "np.dot(A,B)"
   ]
  },
  {
   "cell_type": "code",
   "execution_count": 447,
   "metadata": {},
   "outputs": [
    {
     "data": {
      "text/plain": [
       "array([[ 3., -1.],\n",
       "       [-2.,  1.]])"
      ]
     },
     "execution_count": 447,
     "metadata": {},
     "output_type": "execute_result"
    }
   ],
   "source": [
    "# inverse of B\n",
    "np.linalg.inv(B)"
   ]
  },
  {
   "cell_type": "markdown",
   "metadata": {},
   "source": [
    "##### &emsp;&emsp;&emsp;-  3. Replace the values of the elements with abs(value)>=3 with the value 3. Also, calculate the <b>determinant</b> of the original matrix A.\n",
    "\n",
    "$$ A =\\begin{bmatrix} 1 & 0 & 4 & 1  \\\\ -2 & 1 & -3 & 2 \\\\ 0 & 0 & 0 & 2 \\\\ 3 & 2 & 1 & -1 \\end{bmatrix}$$ \n"
   ]
  },
  {
   "cell_type": "code",
   "execution_count": 351,
   "metadata": {},
   "outputs": [
    {
     "data": {
      "text/plain": [
       "array([[ 1,  0,  3,  1],\n",
       "       [-2,  1,  3,  2],\n",
       "       [ 0,  0,  0,  2],\n",
       "       [ 3,  2,  1, -1]])"
      ]
     },
     "execution_count": 351,
     "metadata": {},
     "output_type": "execute_result"
    }
   ],
   "source": [
    "# replace values\n",
    "A = np.array([\n",
    "    [1,0,4,1],\n",
    "    [-2,1,-3,2],\n",
    "    [0,0,0,2],\n",
    "    [3,2,1,-1]\n",
    "])\n",
    "\n",
    "A[abs(A)>=3]=3\n",
    "A"
   ]
  },
  {
   "cell_type": "code",
   "execution_count": 352,
   "metadata": {},
   "outputs": [
    {
     "data": {
      "text/plain": [
       "42.00000000000001"
      ]
     },
     "execution_count": 352,
     "metadata": {},
     "output_type": "execute_result"
    }
   ],
   "source": [
    "# determinant of original matrix A\n",
    "A = np.array([\n",
    "    [1,0,4,1],\n",
    "    [-2,1,-3,2],\n",
    "    [0,0,0,2],\n",
    "    [3,2,1,-1]\n",
    "])\n",
    "\n",
    "np.linalg.det(A)"
   ]
  },
  {
   "cell_type": "markdown",
   "metadata": {},
   "source": [
    "### 2.2 Norms and eigenvalues"
   ]
  },
  {
   "cell_type": "markdown",
   "metadata": {},
   "source": [
    "##### &emsp;&emsp;&emsp;-  1. Calculate the <b>maximum</b> and <b>Euclidean norm</b> of the three vectors:\n",
    "\n",
    "$$ x_1 =\\begin{bmatrix} 1 & -2 & 3 \\end{bmatrix}^T \\;\\;\\;\\;\\;x_2 =\\begin{bmatrix} 2 & 0 & -1 & 2 \\end{bmatrix}^T \\;\\;\\;\\;\\;x_3 =\\begin{bmatrix} 0 & 1 & -4 & 2 & -1 \\end{bmatrix}^T \\;\\;\\;\\;\\;$$ \n"
   ]
  },
  {
   "cell_type": "code",
   "execution_count": 340,
   "metadata": {},
   "outputs": [
    {
     "name": "stdout",
     "output_type": "stream",
     "text": [
      "Max norm 3.0\n",
      "Euclidean norm 3.7416573867739413\n"
     ]
    }
   ],
   "source": [
    "x_1 = np.array([1,-2,3])\n",
    "print('Max norm',np.linalg.norm(x_1,np.inf))\n",
    "print('Euclidean norm',np.linalg.norm(x_1))"
   ]
  },
  {
   "cell_type": "code",
   "execution_count": 341,
   "metadata": {},
   "outputs": [
    {
     "name": "stdout",
     "output_type": "stream",
     "text": [
      "Max norm 2.0\n",
      "Euclidean norm 3.0\n"
     ]
    }
   ],
   "source": [
    "x_2 = np.array([2,0,-1,2])\n",
    "print('Max norm',np.linalg.norm(x_2,np.inf))\n",
    "print('Euclidean norm',np.linalg.norm(x_2))"
   ]
  },
  {
   "cell_type": "code",
   "execution_count": 342,
   "metadata": {},
   "outputs": [
    {
     "name": "stdout",
     "output_type": "stream",
     "text": [
      "Max norm 4.0\n",
      "Euclidean norm 4.69041575982343\n"
     ]
    }
   ],
   "source": [
    "x_3 = np.array([0,1,-4,2,-1])\n",
    "print('Max norm',np.linalg.norm(x_3,np.inf))\n",
    "print('Euclidean norm',np.linalg.norm(x_3))"
   ]
  },
  {
   "cell_type": "markdown",
   "metadata": {},
   "source": [
    "##### &emsp;&emsp;&emsp;-  2. Calculate the l2 and l_inf <b>norms</b> of the matrices:\n",
    "\n",
    "$$ A_1 =\\begin{bmatrix} 1 & -2 \\\\ 4 & 3 \\end{bmatrix} \\;\\;\\;\\;\\;\\;\\;\\;\\; A_2 =\\begin{bmatrix} 1 & 0 & 2 \\\\ 0 & 1 & -1 \\\\ -1 & 1 & 1 \\end{bmatrix}$$ \n"
   ]
  },
  {
   "cell_type": "code",
   "execution_count": 425,
   "metadata": {},
   "outputs": [
    {
     "data": {
      "text/plain": [
       "array([5.01976484, 2.19133771])"
      ]
     },
     "execution_count": 425,
     "metadata": {},
     "output_type": "execute_result"
    }
   ],
   "source": [
    "np.sqrt(np.linalg.eigvals(np.dot(A_1.transpose(),A_1)))"
   ]
  },
  {
   "cell_type": "code",
   "execution_count": 408,
   "metadata": {},
   "outputs": [
    {
     "name": "stdout",
     "output_type": "stream",
     "text": [
      "L2 norm 5.0197648378370845\n",
      "Infinite norm 7.0\n"
     ]
    }
   ],
   "source": [
    "A_1 = np.array([[1,-2],[4,3]])\n",
    "print('L2 norm',np.linalg.norm(A_1,2))\n",
    "print('Infinite norm',np.linalg.norm(A_1,np.inf))"
   ]
  },
  {
   "cell_type": "code",
   "execution_count": 426,
   "metadata": {},
   "outputs": [
    {
     "name": "stdout",
     "output_type": "stream",
     "text": [
      "L2 norm 2.4998281017161057\n",
      "Infinite norm 3.0\n"
     ]
    }
   ],
   "source": [
    "A_2 = np.array([[1,0,2],[0,1,-1],[-1,1,1]])\n",
    "print('L2 norm',np.linalg.norm(A_2,2))\n",
    "print('Infinite norm',np.linalg.norm(A_2,np.inf))"
   ]
  },
  {
   "cell_type": "markdown",
   "metadata": {},
   "source": [
    "##### &emsp;&emsp;&emsp;-  3. Calculate the <b>eigenvalues</b> of the matrix:\n",
    "\n",
    "$$ A =\\begin{bmatrix} -2 & -2 & 3   \\\\ -10 & -1 & 6 \\\\ 10 & -2 & -9 \\end{bmatrix}$$ \n"
   ]
  },
  {
   "cell_type": "code",
   "execution_count": 64,
   "metadata": {},
   "outputs": [
    {
     "data": {
      "text/plain": [
       "array([-12.,   3.,  -3.])"
      ]
     },
     "execution_count": 64,
     "metadata": {},
     "output_type": "execute_result"
    }
   ],
   "source": [
    "A = np.array([[-2,-2,3],[-10,-1,6],[10,-2,-9]])\n",
    "np.linalg.eigvals(A)"
   ]
  },
  {
   "cell_type": "markdown",
   "metadata": {},
   "source": [
    "## 3. Pandas manipulations"
   ]
  },
  {
   "cell_type": "code",
   "execution_count": 66,
   "metadata": {},
   "outputs": [],
   "source": [
    "import pandas as pd"
   ]
  },
  {
   "cell_type": "markdown",
   "metadata": {},
   "source": [
    "##### &emsp;&emsp;&emsp; - 1. Import file <b>Gas prices.xls</b> as a pandas DataFrame. Create a function that replaces NaN with the interpolation between the adjacent values (i.e. the prior and the subsequent to the NaN)."
   ]
  },
  {
   "cell_type": "code",
   "execution_count": 441,
   "metadata": {},
   "outputs": [],
   "source": [
    "df_gas = pd.read_excel('Gas_prices.xlsx')\n",
    "df_gas['Date'] = pd.to_datetime(df_gas['Date'],format='%d/%m/%Y')"
   ]
  },
  {
   "cell_type": "code",
   "execution_count": 443,
   "metadata": {},
   "outputs": [
    {
     "data": {
      "text/plain": [
       "Int64Index([12, 25, 54, 70], dtype='int64')"
      ]
     },
     "execution_count": 443,
     "metadata": {},
     "output_type": "execute_result"
    }
   ],
   "source": [
    "df_gas[df_gas.Price_pl.isnull()].index"
   ]
  },
  {
   "cell_type": "code",
   "execution_count": 444,
   "metadata": {},
   "outputs": [],
   "source": [
    "def interpolate(df,col):\n",
    "    for i in df[df[col].isnull()].index:\n",
    "        num = (df.loc[i-1,'Price_pl'] + df.loc[i+1,'Price_pl'])/2\n",
    "        df.loc[i,'Price_pl'] = num\n",
    "    return df"
   ]
  },
  {
   "cell_type": "code",
   "execution_count": 445,
   "metadata": {},
   "outputs": [
    {
     "data": {
      "text/html": [
       "<div>\n",
       "<style scoped>\n",
       "    .dataframe tbody tr th:only-of-type {\n",
       "        vertical-align: middle;\n",
       "    }\n",
       "\n",
       "    .dataframe tbody tr th {\n",
       "        vertical-align: top;\n",
       "    }\n",
       "\n",
       "    .dataframe thead th {\n",
       "        text-align: right;\n",
       "    }\n",
       "</style>\n",
       "<table border=\"1\" class=\"dataframe\">\n",
       "  <thead>\n",
       "    <tr style=\"text-align: right;\">\n",
       "      <th></th>\n",
       "      <th>Date</th>\n",
       "      <th>Price_pl</th>\n",
       "    </tr>\n",
       "  </thead>\n",
       "  <tbody>\n",
       "    <tr>\n",
       "      <td>0</td>\n",
       "      <td>2015-11-12</td>\n",
       "      <td>1.049</td>\n",
       "    </tr>\n",
       "    <tr>\n",
       "      <td>1</td>\n",
       "      <td>2015-11-19</td>\n",
       "      <td>0.999</td>\n",
       "    </tr>\n",
       "    <tr>\n",
       "      <td>2</td>\n",
       "      <td>2015-12-07</td>\n",
       "      <td>0.999</td>\n",
       "    </tr>\n",
       "    <tr>\n",
       "      <td>3</td>\n",
       "      <td>2015-12-19</td>\n",
       "      <td>1.019</td>\n",
       "    </tr>\n",
       "    <tr>\n",
       "      <td>4</td>\n",
       "      <td>2016-01-04</td>\n",
       "      <td>1.019</td>\n",
       "    </tr>\n",
       "    <tr>\n",
       "      <td>...</td>\n",
       "      <td>...</td>\n",
       "      <td>...</td>\n",
       "    </tr>\n",
       "    <tr>\n",
       "      <td>77</td>\n",
       "      <td>2018-10-17</td>\n",
       "      <td>1.209</td>\n",
       "    </tr>\n",
       "    <tr>\n",
       "      <td>78</td>\n",
       "      <td>2018-11-01</td>\n",
       "      <td>1.196</td>\n",
       "    </tr>\n",
       "    <tr>\n",
       "      <td>79</td>\n",
       "      <td>2018-11-12</td>\n",
       "      <td>1.126</td>\n",
       "    </tr>\n",
       "    <tr>\n",
       "      <td>80</td>\n",
       "      <td>2018-11-27</td>\n",
       "      <td>1.059</td>\n",
       "    </tr>\n",
       "    <tr>\n",
       "      <td>81</td>\n",
       "      <td>2018-12-06</td>\n",
       "      <td>1.016</td>\n",
       "    </tr>\n",
       "  </tbody>\n",
       "</table>\n",
       "<p>82 rows × 2 columns</p>\n",
       "</div>"
      ],
      "text/plain": [
       "         Date  Price_pl\n",
       "0  2015-11-12     1.049\n",
       "1  2015-11-19     0.999\n",
       "2  2015-12-07     0.999\n",
       "3  2015-12-19     1.019\n",
       "4  2016-01-04     1.019\n",
       "..        ...       ...\n",
       "77 2018-10-17     1.209\n",
       "78 2018-11-01     1.196\n",
       "79 2018-11-12     1.126\n",
       "80 2018-11-27     1.059\n",
       "81 2018-12-06     1.016\n",
       "\n",
       "[82 rows x 2 columns]"
      ]
     },
     "execution_count": 445,
     "metadata": {},
     "output_type": "execute_result"
    }
   ],
   "source": [
    "df_gas = interpolate(df_gas,'Price_pl')\n",
    "df_gas"
   ]
  },
  {
   "cell_type": "code",
   "execution_count": 446,
   "metadata": {},
   "outputs": [
    {
     "data": {
      "text/html": [
       "<div>\n",
       "<style scoped>\n",
       "    .dataframe tbody tr th:only-of-type {\n",
       "        vertical-align: middle;\n",
       "    }\n",
       "\n",
       "    .dataframe tbody tr th {\n",
       "        vertical-align: top;\n",
       "    }\n",
       "\n",
       "    .dataframe thead th {\n",
       "        text-align: right;\n",
       "    }\n",
       "</style>\n",
       "<table border=\"1\" class=\"dataframe\">\n",
       "  <thead>\n",
       "    <tr style=\"text-align: right;\">\n",
       "      <th></th>\n",
       "      <th>Date</th>\n",
       "      <th>Price_pl</th>\n",
       "    </tr>\n",
       "  </thead>\n",
       "  <tbody>\n",
       "    <tr>\n",
       "      <td>12</td>\n",
       "      <td>2016-04-15</td>\n",
       "      <td>1.0040</td>\n",
       "    </tr>\n",
       "    <tr>\n",
       "      <td>25</td>\n",
       "      <td>2016-08-02</td>\n",
       "      <td>0.9855</td>\n",
       "    </tr>\n",
       "    <tr>\n",
       "      <td>54</td>\n",
       "      <td>2017-08-10</td>\n",
       "      <td>1.0940</td>\n",
       "    </tr>\n",
       "    <tr>\n",
       "      <td>70</td>\n",
       "      <td>2018-04-24</td>\n",
       "      <td>1.2995</td>\n",
       "    </tr>\n",
       "  </tbody>\n",
       "</table>\n",
       "</div>"
      ],
      "text/plain": [
       "         Date  Price_pl\n",
       "12 2016-04-15    1.0040\n",
       "25 2016-08-02    0.9855\n",
       "54 2017-08-10    1.0940\n",
       "70 2018-04-24    1.2995"
      ]
     },
     "execution_count": 446,
     "metadata": {},
     "output_type": "execute_result"
    }
   ],
   "source": [
    "df_gas.iloc[[12, 25, 54, 70],]"
   ]
  },
  {
   "cell_type": "markdown",
   "metadata": {},
   "source": [
    "##### &emsp;&emsp;&emsp; - 2. Find the index, the date and the value of the <b>min</b> and <b>max</b> gas price."
   ]
  },
  {
   "cell_type": "code",
   "execution_count": 376,
   "metadata": {},
   "outputs": [
    {
     "name": "stdout",
     "output_type": "stream",
     "text": [
      "Index:  73\n",
      "Date:  2018-05-23 00:00:00\n",
      "Max Gas Price:  1.336\n"
     ]
    }
   ],
   "source": [
    "print('Index: ',np.argmax(df_gas.Price_pl))\n",
    "print('Date: ',df_gas.loc[np.argmax(df_gas.Price_pl),'Date'])\n",
    "print('Max Gas Price: ',df_gas.loc[np.argmax(df_gas.Price_pl),'Price_pl'])"
   ]
  },
  {
   "cell_type": "code",
   "execution_count": 377,
   "metadata": {},
   "outputs": [
    {
     "name": "stdout",
     "output_type": "stream",
     "text": [
      "Index:  9\n",
      "Date:  2016-02-20 00:00:00\n",
      "Min Gas Price:  0.889\n"
     ]
    }
   ],
   "source": [
    "print('Index: ',np.argmin(df_gas.Price_pl))\n",
    "print('Date: ',df_gas.loc[np.argmin(df_gas.Price_pl),'Date'])\n",
    "print('Min Gas Price: ',df_gas.loc[np.argmin(df_gas.Price_pl),'Price_pl'])"
   ]
  },
  {
   "cell_type": "markdown",
   "metadata": {},
   "source": [
    "##### &emsp;&emsp;&emsp; - 3. Calculate the following descriptive statistics: mean, median, quantile, skewness and kurtosis."
   ]
  },
  {
   "cell_type": "code",
   "execution_count": 378,
   "metadata": {},
   "outputs": [
    {
     "name": "stdout",
     "output_type": "stream",
     "text": [
      "Mean: 1.0953902439024386\n",
      "Median: 1.079\n",
      "25% Quantile: 1.01975\n",
      "75% Quantile: 1.1717499999999998\n",
      "Skewness: 0.46752591499730667\n",
      "Kurtosis: -0.257963187132765\n"
     ]
    }
   ],
   "source": [
    "print('Mean:',df_gas.Price_pl.mean())\n",
    "print('Median:',df_gas.Price_pl.median())\n",
    "print('25% Quantile:',df_gas.Price_pl.quantile(q=0.25))\n",
    "print('75% Quantile:',df_gas.Price_pl.quantile(q=0.75))\n",
    "print('Skewness:',df_gas.Price_pl.skew())\n",
    "print('Kurtosis:',df_gas.Price_pl.kurtosis())"
   ]
  },
  {
   "cell_type": "markdown",
   "metadata": {},
   "source": [
    "##### &emsp;&emsp;&emsp; - 4. Create two new columns with the Month and Year. Pivot the table by Month(index)and Year(columns). Calculate and plot the monthly average gas price. This should give you one line per year."
   ]
  },
  {
   "cell_type": "code",
   "execution_count": 379,
   "metadata": {},
   "outputs": [],
   "source": [
    "import matplotlib.pyplot as plt"
   ]
  },
  {
   "cell_type": "code",
   "execution_count": 380,
   "metadata": {},
   "outputs": [
    {
     "data": {
      "text/html": [
       "<div>\n",
       "<style scoped>\n",
       "    .dataframe tbody tr th:only-of-type {\n",
       "        vertical-align: middle;\n",
       "    }\n",
       "\n",
       "    .dataframe tbody tr th {\n",
       "        vertical-align: top;\n",
       "    }\n",
       "\n",
       "    .dataframe thead th {\n",
       "        text-align: right;\n",
       "    }\n",
       "</style>\n",
       "<table border=\"1\" class=\"dataframe\">\n",
       "  <thead>\n",
       "    <tr style=\"text-align: right;\">\n",
       "      <th></th>\n",
       "      <th>Date</th>\n",
       "      <th>Price_pl</th>\n",
       "      <th>Year</th>\n",
       "      <th>Month</th>\n",
       "    </tr>\n",
       "  </thead>\n",
       "  <tbody>\n",
       "    <tr>\n",
       "      <td>0</td>\n",
       "      <td>2015-11-12</td>\n",
       "      <td>1.049</td>\n",
       "      <td>2015</td>\n",
       "      <td>11</td>\n",
       "    </tr>\n",
       "    <tr>\n",
       "      <td>1</td>\n",
       "      <td>2015-11-19</td>\n",
       "      <td>0.999</td>\n",
       "      <td>2015</td>\n",
       "      <td>11</td>\n",
       "    </tr>\n",
       "    <tr>\n",
       "      <td>2</td>\n",
       "      <td>2015-12-07</td>\n",
       "      <td>0.999</td>\n",
       "      <td>2015</td>\n",
       "      <td>12</td>\n",
       "    </tr>\n",
       "    <tr>\n",
       "      <td>3</td>\n",
       "      <td>2015-12-19</td>\n",
       "      <td>1.019</td>\n",
       "      <td>2015</td>\n",
       "      <td>12</td>\n",
       "    </tr>\n",
       "    <tr>\n",
       "      <td>4</td>\n",
       "      <td>2016-01-04</td>\n",
       "      <td>1.019</td>\n",
       "      <td>2016</td>\n",
       "      <td>1</td>\n",
       "    </tr>\n",
       "    <tr>\n",
       "      <td>...</td>\n",
       "      <td>...</td>\n",
       "      <td>...</td>\n",
       "      <td>...</td>\n",
       "      <td>...</td>\n",
       "    </tr>\n",
       "    <tr>\n",
       "      <td>77</td>\n",
       "      <td>2018-10-17</td>\n",
       "      <td>1.209</td>\n",
       "      <td>2018</td>\n",
       "      <td>10</td>\n",
       "    </tr>\n",
       "    <tr>\n",
       "      <td>78</td>\n",
       "      <td>2018-11-01</td>\n",
       "      <td>1.196</td>\n",
       "      <td>2018</td>\n",
       "      <td>11</td>\n",
       "    </tr>\n",
       "    <tr>\n",
       "      <td>79</td>\n",
       "      <td>2018-11-12</td>\n",
       "      <td>1.126</td>\n",
       "      <td>2018</td>\n",
       "      <td>11</td>\n",
       "    </tr>\n",
       "    <tr>\n",
       "      <td>80</td>\n",
       "      <td>2018-11-27</td>\n",
       "      <td>1.059</td>\n",
       "      <td>2018</td>\n",
       "      <td>11</td>\n",
       "    </tr>\n",
       "    <tr>\n",
       "      <td>81</td>\n",
       "      <td>2018-12-06</td>\n",
       "      <td>1.016</td>\n",
       "      <td>2018</td>\n",
       "      <td>12</td>\n",
       "    </tr>\n",
       "  </tbody>\n",
       "</table>\n",
       "<p>82 rows × 4 columns</p>\n",
       "</div>"
      ],
      "text/plain": [
       "         Date  Price_pl  Year  Month\n",
       "0  2015-11-12     1.049  2015     11\n",
       "1  2015-11-19     0.999  2015     11\n",
       "2  2015-12-07     0.999  2015     12\n",
       "3  2015-12-19     1.019  2015     12\n",
       "4  2016-01-04     1.019  2016      1\n",
       "..        ...       ...   ...    ...\n",
       "77 2018-10-17     1.209  2018     10\n",
       "78 2018-11-01     1.196  2018     11\n",
       "79 2018-11-12     1.126  2018     11\n",
       "80 2018-11-27     1.059  2018     11\n",
       "81 2018-12-06     1.016  2018     12\n",
       "\n",
       "[82 rows x 4 columns]"
      ]
     },
     "execution_count": 380,
     "metadata": {},
     "output_type": "execute_result"
    }
   ],
   "source": [
    "# create two new columns with Month and Year\n",
    "df_gas['Year'] = pd.to_datetime(df_gas['Date']).dt.year\n",
    "df_gas['Month'] = pd.to_datetime(df_gas['Date']).dt.month\n",
    "df_gas"
   ]
  },
  {
   "cell_type": "code",
   "execution_count": 381,
   "metadata": {},
   "outputs": [
    {
     "data": {
      "text/html": [
       "<div>\n",
       "<style scoped>\n",
       "    .dataframe tbody tr th:only-of-type {\n",
       "        vertical-align: middle;\n",
       "    }\n",
       "\n",
       "    .dataframe tbody tr th {\n",
       "        vertical-align: top;\n",
       "    }\n",
       "\n",
       "    .dataframe thead th {\n",
       "        text-align: right;\n",
       "    }\n",
       "</style>\n",
       "<table border=\"1\" class=\"dataframe\">\n",
       "  <thead>\n",
       "    <tr style=\"text-align: right;\">\n",
       "      <th>Year</th>\n",
       "      <th>2015</th>\n",
       "      <th>2016</th>\n",
       "      <th>2017</th>\n",
       "      <th>2018</th>\n",
       "    </tr>\n",
       "    <tr>\n",
       "      <th>Month</th>\n",
       "      <th></th>\n",
       "      <th></th>\n",
       "      <th></th>\n",
       "      <th></th>\n",
       "    </tr>\n",
       "  </thead>\n",
       "  <tbody>\n",
       "    <tr>\n",
       "      <td>1</td>\n",
       "      <td>NaN</td>\n",
       "      <td>0.964000</td>\n",
       "      <td>1.119000</td>\n",
       "      <td>1.197500</td>\n",
       "    </tr>\n",
       "    <tr>\n",
       "      <td>2</td>\n",
       "      <td>NaN</td>\n",
       "      <td>0.899000</td>\n",
       "      <td>1.079000</td>\n",
       "      <td>1.186000</td>\n",
       "    </tr>\n",
       "    <tr>\n",
       "      <td>3</td>\n",
       "      <td>NaN</td>\n",
       "      <td>0.929000</td>\n",
       "      <td>1.075000</td>\n",
       "      <td>1.215000</td>\n",
       "    </tr>\n",
       "    <tr>\n",
       "      <td>4</td>\n",
       "      <td>NaN</td>\n",
       "      <td>1.031500</td>\n",
       "      <td>1.175667</td>\n",
       "      <td>1.287750</td>\n",
       "    </tr>\n",
       "    <tr>\n",
       "      <td>5</td>\n",
       "      <td>NaN</td>\n",
       "      <td>1.075667</td>\n",
       "      <td>1.109000</td>\n",
       "      <td>1.328333</td>\n",
       "    </tr>\n",
       "    <tr>\n",
       "      <td>6</td>\n",
       "      <td>NaN</td>\n",
       "      <td>1.048000</td>\n",
       "      <td>1.022000</td>\n",
       "      <td>1.289000</td>\n",
       "    </tr>\n",
       "    <tr>\n",
       "      <td>7</td>\n",
       "      <td>NaN</td>\n",
       "      <td>1.024000</td>\n",
       "      <td>1.059000</td>\n",
       "      <td>1.312500</td>\n",
       "    </tr>\n",
       "    <tr>\n",
       "      <td>8</td>\n",
       "      <td>NaN</td>\n",
       "      <td>0.993875</td>\n",
       "      <td>1.100667</td>\n",
       "      <td>NaN</td>\n",
       "    </tr>\n",
       "    <tr>\n",
       "      <td>9</td>\n",
       "      <td>NaN</td>\n",
       "      <td>0.999000</td>\n",
       "      <td>1.086000</td>\n",
       "      <td>NaN</td>\n",
       "    </tr>\n",
       "    <tr>\n",
       "      <td>10</td>\n",
       "      <td>NaN</td>\n",
       "      <td>1.049000</td>\n",
       "      <td>1.126000</td>\n",
       "      <td>1.209000</td>\n",
       "    </tr>\n",
       "    <tr>\n",
       "      <td>11</td>\n",
       "      <td>1.024</td>\n",
       "      <td>0.949000</td>\n",
       "      <td>1.183000</td>\n",
       "      <td>1.127000</td>\n",
       "    </tr>\n",
       "    <tr>\n",
       "      <td>12</td>\n",
       "      <td>1.009</td>\n",
       "      <td>1.074000</td>\n",
       "      <td>1.211000</td>\n",
       "      <td>1.016000</td>\n",
       "    </tr>\n",
       "  </tbody>\n",
       "</table>\n",
       "</div>"
      ],
      "text/plain": [
       "Year    2015      2016      2017      2018\n",
       "Month                                     \n",
       "1        NaN  0.964000  1.119000  1.197500\n",
       "2        NaN  0.899000  1.079000  1.186000\n",
       "3        NaN  0.929000  1.075000  1.215000\n",
       "4        NaN  1.031500  1.175667  1.287750\n",
       "5        NaN  1.075667  1.109000  1.328333\n",
       "6        NaN  1.048000  1.022000  1.289000\n",
       "7        NaN  1.024000  1.059000  1.312500\n",
       "8        NaN  0.993875  1.100667       NaN\n",
       "9        NaN  0.999000  1.086000       NaN\n",
       "10       NaN  1.049000  1.126000  1.209000\n",
       "11     1.024  0.949000  1.183000  1.127000\n",
       "12     1.009  1.074000  1.211000  1.016000"
      ]
     },
     "execution_count": 381,
     "metadata": {},
     "output_type": "execute_result"
    }
   ],
   "source": [
    "# pivot table by Month(index) and Year(column), and take average of monthly gas price\n",
    "df_p = pd.pivot_table(df_gas, values='Price_pl', index=['Month'],columns=['Year'], aggfunc=np.average)\n",
    "df_p"
   ]
  },
  {
   "cell_type": "code",
   "execution_count": 438,
   "metadata": {},
   "outputs": [
    {
     "data": {
      "image/png": "[encoded data removed]",
      "text/plain": [
       "<Figure size 720x504 with 1 Axes>"
      ]
     },
     "metadata": {
      "needs_background": "light"
     },
     "output_type": "display_data"
    }
   ],
   "source": [
    "# plot monthly average gas price for each year\n",
    "df_p.plot(figsize=(10,7))\n",
    "# plt.savefig('Q3_4.png')\n",
    "plt.show()"
   ]
  },
  {
   "cell_type": "markdown",
   "metadata": {},
   "source": [
    "##### &emsp;&emsp;&emsp; - 5. Create a new column with the <b>season</b> of the year, set it as a secondary index and calculate the average of every season (regardless of the year)."
   ]
  },
  {
   "cell_type": "code",
   "execution_count": 383,
   "metadata": {},
   "outputs": [
    {
     "data": {
      "text/html": [
       "<div>\n",
       "<style scoped>\n",
       "    .dataframe tbody tr th:only-of-type {\n",
       "        vertical-align: middle;\n",
       "    }\n",
       "\n",
       "    .dataframe tbody tr th {\n",
       "        vertical-align: top;\n",
       "    }\n",
       "\n",
       "    .dataframe thead th {\n",
       "        text-align: right;\n",
       "    }\n",
       "</style>\n",
       "<table border=\"1\" class=\"dataframe\">\n",
       "  <thead>\n",
       "    <tr style=\"text-align: right;\">\n",
       "      <th></th>\n",
       "      <th>Date</th>\n",
       "      <th>Price_pl</th>\n",
       "      <th>Year</th>\n",
       "      <th>Month</th>\n",
       "      <th>season</th>\n",
       "    </tr>\n",
       "  </thead>\n",
       "  <tbody>\n",
       "    <tr>\n",
       "      <td>0</td>\n",
       "      <td>2015-11-12</td>\n",
       "      <td>1.049</td>\n",
       "      <td>2015</td>\n",
       "      <td>11</td>\n",
       "      <td>Fall</td>\n",
       "    </tr>\n",
       "    <tr>\n",
       "      <td>1</td>\n",
       "      <td>2015-11-19</td>\n",
       "      <td>0.999</td>\n",
       "      <td>2015</td>\n",
       "      <td>11</td>\n",
       "      <td>Fall</td>\n",
       "    </tr>\n",
       "    <tr>\n",
       "      <td>2</td>\n",
       "      <td>2015-12-07</td>\n",
       "      <td>0.999</td>\n",
       "      <td>2015</td>\n",
       "      <td>12</td>\n",
       "      <td>Winter</td>\n",
       "    </tr>\n",
       "    <tr>\n",
       "      <td>3</td>\n",
       "      <td>2015-12-19</td>\n",
       "      <td>1.019</td>\n",
       "      <td>2015</td>\n",
       "      <td>12</td>\n",
       "      <td>Winter</td>\n",
       "    </tr>\n",
       "    <tr>\n",
       "      <td>4</td>\n",
       "      <td>2016-01-04</td>\n",
       "      <td>1.019</td>\n",
       "      <td>2016</td>\n",
       "      <td>1</td>\n",
       "      <td>Winter</td>\n",
       "    </tr>\n",
       "    <tr>\n",
       "      <td>...</td>\n",
       "      <td>...</td>\n",
       "      <td>...</td>\n",
       "      <td>...</td>\n",
       "      <td>...</td>\n",
       "      <td>...</td>\n",
       "    </tr>\n",
       "    <tr>\n",
       "      <td>77</td>\n",
       "      <td>2018-10-17</td>\n",
       "      <td>1.209</td>\n",
       "      <td>2018</td>\n",
       "      <td>10</td>\n",
       "      <td>Fall</td>\n",
       "    </tr>\n",
       "    <tr>\n",
       "      <td>78</td>\n",
       "      <td>2018-11-01</td>\n",
       "      <td>1.196</td>\n",
       "      <td>2018</td>\n",
       "      <td>11</td>\n",
       "      <td>Fall</td>\n",
       "    </tr>\n",
       "    <tr>\n",
       "      <td>79</td>\n",
       "      <td>2018-11-12</td>\n",
       "      <td>1.126</td>\n",
       "      <td>2018</td>\n",
       "      <td>11</td>\n",
       "      <td>Fall</td>\n",
       "    </tr>\n",
       "    <tr>\n",
       "      <td>80</td>\n",
       "      <td>2018-11-27</td>\n",
       "      <td>1.059</td>\n",
       "      <td>2018</td>\n",
       "      <td>11</td>\n",
       "      <td>Fall</td>\n",
       "    </tr>\n",
       "    <tr>\n",
       "      <td>81</td>\n",
       "      <td>2018-12-06</td>\n",
       "      <td>1.016</td>\n",
       "      <td>2018</td>\n",
       "      <td>12</td>\n",
       "      <td>Winter</td>\n",
       "    </tr>\n",
       "  </tbody>\n",
       "</table>\n",
       "<p>82 rows × 5 columns</p>\n",
       "</div>"
      ],
      "text/plain": [
       "         Date  Price_pl  Year  Month  season\n",
       "0  2015-11-12     1.049  2015     11    Fall\n",
       "1  2015-11-19     0.999  2015     11    Fall\n",
       "2  2015-12-07     0.999  2015     12  Winter\n",
       "3  2015-12-19     1.019  2015     12  Winter\n",
       "4  2016-01-04     1.019  2016      1  Winter\n",
       "..        ...       ...   ...    ...     ...\n",
       "77 2018-10-17     1.209  2018     10    Fall\n",
       "78 2018-11-01     1.196  2018     11    Fall\n",
       "79 2018-11-12     1.126  2018     11    Fall\n",
       "80 2018-11-27     1.059  2018     11    Fall\n",
       "81 2018-12-06     1.016  2018     12  Winter\n",
       "\n",
       "[82 rows x 5 columns]"
      ]
     },
     "execution_count": 383,
     "metadata": {},
     "output_type": "execute_result"
    }
   ],
   "source": [
    "# create new columns of season\n",
    "df_gas['season'] = df_gas.Month%12 // 3 + 1\n",
    "df_gas['season'] = df_gas['season'].map({1:'Winter',2:'Spring',3:'Summer',4:'Fall'})\n",
    "df_gas"
   ]
  },
  {
   "cell_type": "code",
   "execution_count": 384,
   "metadata": {},
   "outputs": [
    {
     "data": {
      "text/html": [
       "<div>\n",
       "<style scoped>\n",
       "    .dataframe tbody tr th:only-of-type {\n",
       "        vertical-align: middle;\n",
       "    }\n",
       "\n",
       "    .dataframe tbody tr th {\n",
       "        vertical-align: top;\n",
       "    }\n",
       "\n",
       "    .dataframe thead th {\n",
       "        text-align: right;\n",
       "    }\n",
       "</style>\n",
       "<table border=\"1\" class=\"dataframe\">\n",
       "  <thead>\n",
       "    <tr style=\"text-align: right;\">\n",
       "      <th></th>\n",
       "      <th></th>\n",
       "      <th>Price_pl</th>\n",
       "    </tr>\n",
       "    <tr>\n",
       "      <th>Month</th>\n",
       "      <th>season</th>\n",
       "      <th></th>\n",
       "    </tr>\n",
       "  </thead>\n",
       "  <tbody>\n",
       "    <tr>\n",
       "      <td>1</td>\n",
       "      <td>Winter</td>\n",
       "      <td>1.072700</td>\n",
       "    </tr>\n",
       "    <tr>\n",
       "      <td>2</td>\n",
       "      <td>Winter</td>\n",
       "      <td>1.058143</td>\n",
       "    </tr>\n",
       "    <tr>\n",
       "      <td>3</td>\n",
       "      <td>Spring</td>\n",
       "      <td>1.087800</td>\n",
       "    </tr>\n",
       "    <tr>\n",
       "      <td>4</td>\n",
       "      <td>Spring</td>\n",
       "      <td>1.166500</td>\n",
       "    </tr>\n",
       "    <tr>\n",
       "      <td>5</td>\n",
       "      <td>Spring</td>\n",
       "      <td>1.154800</td>\n",
       "    </tr>\n",
       "    <tr>\n",
       "      <td>6</td>\n",
       "      <td>Summer</td>\n",
       "      <td>1.091000</td>\n",
       "    </tr>\n",
       "    <tr>\n",
       "      <td>7</td>\n",
       "      <td>Summer</td>\n",
       "      <td>1.146400</td>\n",
       "    </tr>\n",
       "    <tr>\n",
       "      <td>8</td>\n",
       "      <td>Summer</td>\n",
       "      <td>1.039643</td>\n",
       "    </tr>\n",
       "    <tr>\n",
       "      <td>9</td>\n",
       "      <td>Fall</td>\n",
       "      <td>1.042500</td>\n",
       "    </tr>\n",
       "    <tr>\n",
       "      <td>10</td>\n",
       "      <td>Fall</td>\n",
       "      <td>1.108250</td>\n",
       "    </tr>\n",
       "    <tr>\n",
       "      <td>11</td>\n",
       "      <td>Fall</td>\n",
       "      <td>1.063750</td>\n",
       "    </tr>\n",
       "    <tr>\n",
       "      <td>12</td>\n",
       "      <td>Winter</td>\n",
       "      <td>1.086286</td>\n",
       "    </tr>\n",
       "  </tbody>\n",
       "</table>\n",
       "</div>"
      ],
      "text/plain": [
       "              Price_pl\n",
       "Month season          \n",
       "1     Winter  1.072700\n",
       "2     Winter  1.058143\n",
       "3     Spring  1.087800\n",
       "4     Spring  1.166500\n",
       "5     Spring  1.154800\n",
       "6     Summer  1.091000\n",
       "7     Summer  1.146400\n",
       "8     Summer  1.039643\n",
       "9     Fall    1.042500\n",
       "10    Fall    1.108250\n",
       "11    Fall    1.063750\n",
       "12    Winter  1.086286"
      ]
     },
     "execution_count": 384,
     "metadata": {},
     "output_type": "execute_result"
    }
   ],
   "source": [
    "# set season as secondary index\n",
    "pd.pivot_table(df_gas, values='Price_pl', index=['Month','season'], aggfunc=np.average)"
   ]
  },
  {
   "cell_type": "code",
   "execution_count": 396,
   "metadata": {},
   "outputs": [
    {
     "data": {
      "text/html": [
       "<div>\n",
       "<style scoped>\n",
       "    .dataframe tbody tr th:only-of-type {\n",
       "        vertical-align: middle;\n",
       "    }\n",
       "\n",
       "    .dataframe tbody tr th {\n",
       "        vertical-align: top;\n",
       "    }\n",
       "\n",
       "    .dataframe thead th {\n",
       "        text-align: right;\n",
       "    }\n",
       "</style>\n",
       "<table border=\"1\" class=\"dataframe\">\n",
       "  <thead>\n",
       "    <tr style=\"text-align: right;\">\n",
       "      <th></th>\n",
       "      <th>Price_pl</th>\n",
       "    </tr>\n",
       "    <tr>\n",
       "      <th>season</th>\n",
       "      <th></th>\n",
       "    </tr>\n",
       "  </thead>\n",
       "  <tbody>\n",
       "    <tr>\n",
       "      <td>Fall</td>\n",
       "      <td>1.073429</td>\n",
       "    </tr>\n",
       "    <tr>\n",
       "      <td>Spring</td>\n",
       "      <td>1.133019</td>\n",
       "    </tr>\n",
       "    <tr>\n",
       "      <td>Summer</td>\n",
       "      <td>1.086147</td>\n",
       "    </tr>\n",
       "    <tr>\n",
       "      <td>Winter</td>\n",
       "      <td>1.072417</td>\n",
       "    </tr>\n",
       "  </tbody>\n",
       "</table>\n",
       "</div>"
      ],
      "text/plain": [
       "        Price_pl\n",
       "season          \n",
       "Fall    1.073429\n",
       "Spring  1.133019\n",
       "Summer  1.086147\n",
       "Winter  1.072417"
      ]
     },
     "execution_count": 396,
     "metadata": {},
     "output_type": "execute_result"
    }
   ],
   "source": [
    "# caculate the average of every season\n",
    "pd.pivot_table(df_gas, values='Price_pl', index=['season'], aggfunc=np.average)"
   ]
  },
  {
   "cell_type": "markdown",
   "metadata": {},
   "source": [
    "## 4. Pivot, aggregate and plot timeseries"
   ]
  },
  {
   "cell_type": "markdown",
   "metadata": {},
   "source": [
    "##### &emsp;&emsp;&emsp; - 1. Import file <b>TREB data.xls</b> as a pandas DataFrame. Create the necessary columns to <b>pivot</b> and generate the table below with the value of <b>Sales</b> (hint: use the split() function to split the MonthYear column to Month and Year)."
   ]
  },
  {
   "cell_type": "code",
   "execution_count": 386,
   "metadata": {},
   "outputs": [],
   "source": [
    "import datetime as dt"
   ]
  },
  {
   "cell_type": "code",
   "execution_count": 387,
   "metadata": {},
   "outputs": [],
   "source": [
    "df_treb = pd.read_excel('TREB_Data.xlsx')"
   ]
  },
  {
   "cell_type": "code",
   "execution_count": 388,
   "metadata": {},
   "outputs": [
    {
     "data": {
      "text/html": [
       "<div>\n",
       "<style scoped>\n",
       "    .dataframe tbody tr th:only-of-type {\n",
       "        vertical-align: middle;\n",
       "    }\n",
       "\n",
       "    .dataframe tbody tr th {\n",
       "        vertical-align: top;\n",
       "    }\n",
       "\n",
       "    .dataframe thead th {\n",
       "        text-align: right;\n",
       "    }\n",
       "</style>\n",
       "<table border=\"1\" class=\"dataframe\">\n",
       "  <thead>\n",
       "    <tr style=\"text-align: right;\">\n",
       "      <th></th>\n",
       "      <th>MonthYear</th>\n",
       "      <th>Sales</th>\n",
       "      <th>AveragePrice</th>\n",
       "    </tr>\n",
       "  </thead>\n",
       "  <tbody>\n",
       "    <tr>\n",
       "      <td>0</td>\n",
       "      <td>January-2017</td>\n",
       "      <td>5155</td>\n",
       "      <td>768351</td>\n",
       "    </tr>\n",
       "    <tr>\n",
       "      <td>1</td>\n",
       "      <td>February-2017</td>\n",
       "      <td>7955</td>\n",
       "      <td>876363</td>\n",
       "    </tr>\n",
       "    <tr>\n",
       "      <td>2</td>\n",
       "      <td>March-2017</td>\n",
       "      <td>11959</td>\n",
       "      <td>915353</td>\n",
       "    </tr>\n",
       "    <tr>\n",
       "      <td>3</td>\n",
       "      <td>April-2017</td>\n",
       "      <td>11470</td>\n",
       "      <td>918138</td>\n",
       "    </tr>\n",
       "    <tr>\n",
       "      <td>4</td>\n",
       "      <td>May-2017</td>\n",
       "      <td>10068</td>\n",
       "      <td>862109</td>\n",
       "    </tr>\n",
       "  </tbody>\n",
       "</table>\n",
       "</div>"
      ],
      "text/plain": [
       "       MonthYear  Sales  AveragePrice\n",
       "0   January-2017   5155        768351\n",
       "1  February-2017   7955        876363\n",
       "2     March-2017  11959        915353\n",
       "3     April-2017  11470        918138\n",
       "4       May-2017  10068        862109"
      ]
     },
     "execution_count": 388,
     "metadata": {},
     "output_type": "execute_result"
    }
   ],
   "source": [
    "df_treb.head()"
   ]
  },
  {
   "cell_type": "code",
   "execution_count": 389,
   "metadata": {},
   "outputs": [],
   "source": [
    "df_treb[['Month','Year']] = df_treb['MonthYear'].str.split('-',expand=True)"
   ]
  },
  {
   "cell_type": "code",
   "execution_count": 390,
   "metadata": {},
   "outputs": [],
   "source": [
    "df_treb['Month_num'] = df_treb['Month'].apply(lambda x: dt.datetime.strptime(x,'%B').month)"
   ]
  },
  {
   "cell_type": "code",
   "execution_count": 391,
   "metadata": {},
   "outputs": [
    {
     "data": {
      "text/html": [
       "<div>\n",
       "<style scoped>\n",
       "    .dataframe tbody tr th:only-of-type {\n",
       "        vertical-align: middle;\n",
       "    }\n",
       "\n",
       "    .dataframe tbody tr th {\n",
       "        vertical-align: top;\n",
       "    }\n",
       "\n",
       "    .dataframe thead th {\n",
       "        text-align: right;\n",
       "    }\n",
       "</style>\n",
       "<table border=\"1\" class=\"dataframe\">\n",
       "  <thead>\n",
       "    <tr style=\"text-align: right;\">\n",
       "      <th>Year</th>\n",
       "      <th>2013</th>\n",
       "      <th>2014</th>\n",
       "      <th>2015</th>\n",
       "      <th>2016</th>\n",
       "      <th>2017</th>\n",
       "    </tr>\n",
       "    <tr>\n",
       "      <th>Month</th>\n",
       "      <th></th>\n",
       "      <th></th>\n",
       "      <th></th>\n",
       "      <th></th>\n",
       "      <th></th>\n",
       "    </tr>\n",
       "  </thead>\n",
       "  <tbody>\n",
       "    <tr>\n",
       "      <td>January</td>\n",
       "      <td>4230</td>\n",
       "      <td>4103</td>\n",
       "      <td>4318</td>\n",
       "      <td>4640</td>\n",
       "      <td>5155</td>\n",
       "    </tr>\n",
       "    <tr>\n",
       "      <td>February</td>\n",
       "      <td>5615</td>\n",
       "      <td>5696</td>\n",
       "      <td>6294</td>\n",
       "      <td>7582</td>\n",
       "      <td>7955</td>\n",
       "    </tr>\n",
       "    <tr>\n",
       "      <td>March</td>\n",
       "      <td>7536</td>\n",
       "      <td>8052</td>\n",
       "      <td>8886</td>\n",
       "      <td>10260</td>\n",
       "      <td>11959</td>\n",
       "    </tr>\n",
       "    <tr>\n",
       "      <td>April</td>\n",
       "      <td>9537</td>\n",
       "      <td>9660</td>\n",
       "      <td>11254</td>\n",
       "      <td>12016</td>\n",
       "      <td>11470</td>\n",
       "    </tr>\n",
       "    <tr>\n",
       "      <td>May</td>\n",
       "      <td>9945</td>\n",
       "      <td>11013</td>\n",
       "      <td>11640</td>\n",
       "      <td>12789</td>\n",
       "      <td>10068</td>\n",
       "    </tr>\n",
       "    <tr>\n",
       "      <td>June</td>\n",
       "      <td>8821</td>\n",
       "      <td>10132</td>\n",
       "      <td>11905</td>\n",
       "      <td>12725</td>\n",
       "      <td>7896</td>\n",
       "    </tr>\n",
       "    <tr>\n",
       "      <td>July</td>\n",
       "      <td>8367</td>\n",
       "      <td>9152</td>\n",
       "      <td>9813</td>\n",
       "      <td>9929</td>\n",
       "      <td>5871</td>\n",
       "    </tr>\n",
       "    <tr>\n",
       "      <td>August</td>\n",
       "      <td>7390</td>\n",
       "      <td>7568</td>\n",
       "      <td>7943</td>\n",
       "      <td>9748</td>\n",
       "      <td>6310</td>\n",
       "    </tr>\n",
       "    <tr>\n",
       "      <td>September</td>\n",
       "      <td>7256</td>\n",
       "      <td>8001</td>\n",
       "      <td>8147</td>\n",
       "      <td>9828</td>\n",
       "      <td>6340</td>\n",
       "    </tr>\n",
       "    <tr>\n",
       "      <td>October</td>\n",
       "      <td>7940</td>\n",
       "      <td>8512</td>\n",
       "      <td>8759</td>\n",
       "      <td>9715</td>\n",
       "      <td>7087</td>\n",
       "    </tr>\n",
       "    <tr>\n",
       "      <td>November</td>\n",
       "      <td>6354</td>\n",
       "      <td>6475</td>\n",
       "      <td>7337</td>\n",
       "      <td>8503</td>\n",
       "      <td>7353</td>\n",
       "    </tr>\n",
       "    <tr>\n",
       "      <td>December</td>\n",
       "      <td>4058</td>\n",
       "      <td>4418</td>\n",
       "      <td>4917</td>\n",
       "      <td>5305</td>\n",
       "      <td>4930</td>\n",
       "    </tr>\n",
       "  </tbody>\n",
       "</table>\n",
       "</div>"
      ],
      "text/plain": [
       "Year       2013   2014   2015   2016   2017\n",
       "Month                                      \n",
       "January    4230   4103   4318   4640   5155\n",
       "February   5615   5696   6294   7582   7955\n",
       "March      7536   8052   8886  10260  11959\n",
       "April      9537   9660  11254  12016  11470\n",
       "May        9945  11013  11640  12789  10068\n",
       "June       8821  10132  11905  12725   7896\n",
       "July       8367   9152   9813   9929   5871\n",
       "August     7390   7568   7943   9748   6310\n",
       "September  7256   8001   8147   9828   6340\n",
       "October    7940   8512   8759   9715   7087\n",
       "November   6354   6475   7337   8503   7353\n",
       "December   4058   4418   4917   5305   4930"
      ]
     },
     "execution_count": 391,
     "metadata": {},
     "output_type": "execute_result"
    }
   ],
   "source": [
    "df_p2 = pd.pivot_table(df_treb, values='Sales', index=['Month','Month_num'],columns=['Year'], aggfunc=np.average)\\\n",
    "    .sort_values(by='Month_num')\\\n",
    "    .reset_index(level=1, drop=True)\n",
    "\n",
    "df_p2"
   ]
  },
  {
   "cell_type": "markdown",
   "metadata": {},
   "source": [
    "##### &emsp;&emsp;&emsp; - 2. In <b>one figure</b>, plot <b>5 lines</b> (one line per year) with the monthly sales versus the month of the year."
   ]
  },
  {
   "cell_type": "code",
   "execution_count": 437,
   "metadata": {},
   "outputs": [
    {
     "data": {
      "image/png": "[encoded data removed]",
      "text/plain": [
       "<Figure size 720x504 with 1 Axes>"
      ]
     },
     "metadata": {
      "needs_background": "light"
     },
     "output_type": "display_data"
    }
   ],
   "source": [
    "df_p2.plot(figsize=(10,7))\n",
    "# plt.savefig('Q4_2.png')\n",
    "plt.show()"
   ]
  },
  {
   "cell_type": "markdown",
   "metadata": {},
   "source": [
    "##### &emsp;&emsp;&emsp; - 3. Calculate the total <b>Sales</b> per year and create a bar chart. Do this in two different ways:  a) group by year the table pre-pivoting, b) summing up the five columns post-pivoting"
   ]
  },
  {
   "cell_type": "code",
   "execution_count": 439,
   "metadata": {},
   "outputs": [
    {
     "data": {
      "image/png": "[encoded data removed]",
      "text/plain": [
       "<Figure size 432x288 with 1 Axes>"
      ]
     },
     "metadata": {
      "needs_background": "light"
     },
     "output_type": "display_data"
    }
   ],
   "source": [
    "# a) group by year the table pre-pivoting\n",
    "df_treb.groupby('Year')['Sales'].sum().plot.bar()\n",
    "# plt.savefig('Q4_3a.png')\n",
    "plt.show()"
   ]
  },
  {
   "cell_type": "code",
   "execution_count": 440,
   "metadata": {},
   "outputs": [
    {
     "data": {
      "image/png": "[encoded data removed]",
      "text/plain": [
       "<Figure size 432x288 with 1 Axes>"
      ]
     },
     "metadata": {
      "needs_background": "light"
     },
     "output_type": "display_data"
    }
   ],
   "source": [
    "# b) summing up the five columns post-pivoting\n",
    "df_p2.sum().plot.bar()\n",
    "# plt.savefig('Q4_3b.png')\n",
    "plt.show()"
   ]
  }
 ],
 "metadata": {
  "kernelspec": {
   "display_name": "Python 3",
   "language": "python",
   "name": "python3"
  },
  "language_info": {
   "codemirror_mode": {
    "name": "ipython",
    "version": 3
   },
   "file_extension": ".py",
   "mimetype": "text/x-python",
   "name": "python",
   "nbconvert_exporter": "python",
   "pygments_lexer": "ipython3",
   "version": "3.7.4"
  }
 },
 "nbformat": 4,
 "nbformat_minor": 4
}
