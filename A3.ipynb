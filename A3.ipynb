{
 "cells": [
  {
   "cell_type": "markdown",
   "metadata": {},
   "source": [
    "# <center>CHE1147 Data Mining in Engineering</center>\n",
    "\n",
    "## <center>Assignment 3</center>\n",
    "\n",
    "\n",
    "#### <div style=\"text-align: right\">Bowen Xu</div>\n",
    "#### <div style=\"text-align: right\">1006411786</div>    "
   ]
  },
  {
   "cell_type": "code",
   "execution_count": 1,
   "metadata": {},
   "outputs": [],
   "source": [
    "import pandas as pd\n",
    "import matplotlib.pyplot as plt\n",
    "%matplotlib inline"
   ]
  },
  {
   "cell_type": "markdown",
   "metadata": {},
   "source": [
    "## 1. Feature Engineering"
   ]
  },
  {
   "cell_type": "markdown",
   "metadata": {},
   "source": [
    "### 1.1 Import the data and create the anchor date columns"
   ]
  },
  {
   "cell_type": "markdown",
   "metadata": {},
   "source": [
    "##### &emsp;&emsp;&emsp; - 1. Import the dataset as <b>txn</b> and identify the number of rows."
   ]
  },
  {
   "cell_type": "code",
   "execution_count": 2,
   "metadata": {},
   "outputs": [],
   "source": [
    "txn = pd.read_csv('Retail_Data_Transactions.csv')"
   ]
  },
  {
   "cell_type": "code",
   "execution_count": 3,
   "metadata": {},
   "outputs": [
    {
     "name": "stdout",
     "output_type": "stream",
     "text": [
      "Number of Rows: 125000\n"
     ]
    }
   ],
   "source": [
    "print('Number of Rows:',len(txn))"
   ]
  },
  {
   "cell_type": "markdown",
   "metadata": {},
   "source": [
    "##### &emsp;&emsp;&emsp; - 2. The date-format in column ’trans_date’ is not standard. Create a new column ’txn_date’ from ’trans_date’ with pd.to datetime and drop the column ’trans_date’."
   ]
  },
  {
   "cell_type": "code",
   "execution_count": 4,
   "metadata": {},
   "outputs": [],
   "source": [
    "txn['txn_date'] = pd.to_datetime(txn['trans_date'])"
   ]
  },
  {
   "cell_type": "code",
   "execution_count": 5,
   "metadata": {},
   "outputs": [],
   "source": [
    "txn.drop('trans_date',inplace=True,axis=1)"
   ]
  },
  {
   "cell_type": "code",
   "execution_count": 6,
   "metadata": {},
   "outputs": [
    {
     "data": {
      "text/html": [
       "<div>\n",
       "<style scoped>\n",
       "    .dataframe tbody tr th:only-of-type {\n",
       "        vertical-align: middle;\n",
       "    }\n",
       "\n",
       "    .dataframe tbody tr th {\n",
       "        vertical-align: top;\n",
       "    }\n",
       "\n",
       "    .dataframe thead th {\n",
       "        text-align: right;\n",
       "    }\n",
       "</style>\n",
       "<table border=\"1\" class=\"dataframe\">\n",
       "  <thead>\n",
       "    <tr style=\"text-align: right;\">\n",
       "      <th></th>\n",
       "      <th>customer_id</th>\n",
       "      <th>tran_amount</th>\n",
       "      <th>txn_date</th>\n",
       "    </tr>\n",
       "  </thead>\n",
       "  <tbody>\n",
       "    <tr>\n",
       "      <td>0</td>\n",
       "      <td>CS5295</td>\n",
       "      <td>35</td>\n",
       "      <td>2013-02-11</td>\n",
       "    </tr>\n",
       "    <tr>\n",
       "      <td>1</td>\n",
       "      <td>CS4768</td>\n",
       "      <td>39</td>\n",
       "      <td>2015-03-15</td>\n",
       "    </tr>\n",
       "    <tr>\n",
       "      <td>2</td>\n",
       "      <td>CS2122</td>\n",
       "      <td>52</td>\n",
       "      <td>2013-02-26</td>\n",
       "    </tr>\n",
       "    <tr>\n",
       "      <td>3</td>\n",
       "      <td>CS1217</td>\n",
       "      <td>99</td>\n",
       "      <td>2011-11-16</td>\n",
       "    </tr>\n",
       "    <tr>\n",
       "      <td>4</td>\n",
       "      <td>CS1850</td>\n",
       "      <td>78</td>\n",
       "      <td>2013-11-20</td>\n",
       "    </tr>\n",
       "  </tbody>\n",
       "</table>\n",
       "</div>"
      ],
      "text/plain": [
       "  customer_id  tran_amount   txn_date\n",
       "0      CS5295           35 2013-02-11\n",
       "1      CS4768           39 2015-03-15\n",
       "2      CS2122           52 2013-02-26\n",
       "3      CS1217           99 2011-11-16\n",
       "4      CS1850           78 2013-11-20"
      ]
     },
     "execution_count": 6,
     "metadata": {},
     "output_type": "execute_result"
    }
   ],
   "source": [
    "txn.head()"
   ]
  },
  {
   "cell_type": "markdown",
   "metadata": {},
   "source": [
    "##### &emsp;&emsp;&emsp; - 3. Identify the min() and max() of column ’txn_date’."
   ]
  },
  {
   "cell_type": "code",
   "execution_count": 7,
   "metadata": {},
   "outputs": [
    {
     "data": {
      "text/plain": [
       "Timestamp('2011-05-16 00:00:00')"
      ]
     },
     "execution_count": 7,
     "metadata": {},
     "output_type": "execute_result"
    }
   ],
   "source": [
    "txn.txn_date.min()"
   ]
  },
  {
   "cell_type": "code",
   "execution_count": 8,
   "metadata": {},
   "outputs": [
    {
     "data": {
      "text/plain": [
       "Timestamp('2015-03-16 00:00:00')"
      ]
     },
     "execution_count": 8,
     "metadata": {},
     "output_type": "execute_result"
    }
   ],
   "source": [
    "txn.txn_date.max()"
   ]
  },
  {
   "cell_type": "markdown",
   "metadata": {},
   "source": [
    "##### &emsp;&emsp;&emsp; - 4. Create the column ’ME_DT’: the last day of the month in the ’trans date’ column. DateOffset objects is a simple way to do this in pandas."
   ]
  },
  {
   "cell_type": "code",
   "execution_count": 9,
   "metadata": {},
   "outputs": [],
   "source": [
    "from pandas.tseries.offsets import MonthEnd"
   ]
  },
  {
   "cell_type": "code",
   "execution_count": 10,
   "metadata": {},
   "outputs": [],
   "source": [
    "txn['ME_DT'] = txn.txn_date + MonthEnd(0)"
   ]
  },
  {
   "cell_type": "code",
   "execution_count": 11,
   "metadata": {},
   "outputs": [
    {
     "data": {
      "text/html": [
       "<div>\n",
       "<style scoped>\n",
       "    .dataframe tbody tr th:only-of-type {\n",
       "        vertical-align: middle;\n",
       "    }\n",
       "\n",
       "    .dataframe tbody tr th {\n",
       "        vertical-align: top;\n",
       "    }\n",
       "\n",
       "    .dataframe thead th {\n",
       "        text-align: right;\n",
       "    }\n",
       "</style>\n",
       "<table border=\"1\" class=\"dataframe\">\n",
       "  <thead>\n",
       "    <tr style=\"text-align: right;\">\n",
       "      <th></th>\n",
       "      <th>customer_id</th>\n",
       "      <th>tran_amount</th>\n",
       "      <th>txn_date</th>\n",
       "      <th>ME_DT</th>\n",
       "    </tr>\n",
       "  </thead>\n",
       "  <tbody>\n",
       "    <tr>\n",
       "      <td>0</td>\n",
       "      <td>CS5295</td>\n",
       "      <td>35</td>\n",
       "      <td>2013-02-11</td>\n",
       "      <td>2013-02-28</td>\n",
       "    </tr>\n",
       "    <tr>\n",
       "      <td>1</td>\n",
       "      <td>CS4768</td>\n",
       "      <td>39</td>\n",
       "      <td>2015-03-15</td>\n",
       "      <td>2015-03-31</td>\n",
       "    </tr>\n",
       "    <tr>\n",
       "      <td>2</td>\n",
       "      <td>CS2122</td>\n",
       "      <td>52</td>\n",
       "      <td>2013-02-26</td>\n",
       "      <td>2013-02-28</td>\n",
       "    </tr>\n",
       "    <tr>\n",
       "      <td>3</td>\n",
       "      <td>CS1217</td>\n",
       "      <td>99</td>\n",
       "      <td>2011-11-16</td>\n",
       "      <td>2011-11-30</td>\n",
       "    </tr>\n",
       "    <tr>\n",
       "      <td>4</td>\n",
       "      <td>CS1850</td>\n",
       "      <td>78</td>\n",
       "      <td>2013-11-20</td>\n",
       "      <td>2013-11-30</td>\n",
       "    </tr>\n",
       "  </tbody>\n",
       "</table>\n",
       "</div>"
      ],
      "text/plain": [
       "  customer_id  tran_amount   txn_date      ME_DT\n",
       "0      CS5295           35 2013-02-11 2013-02-28\n",
       "1      CS4768           39 2015-03-15 2015-03-31\n",
       "2      CS2122           52 2013-02-26 2013-02-28\n",
       "3      CS1217           99 2011-11-16 2011-11-30\n",
       "4      CS1850           78 2013-11-20 2013-11-30"
      ]
     },
     "execution_count": 11,
     "metadata": {},
     "output_type": "execute_result"
    }
   ],
   "source": [
    "txn.head()"
   ]
  },
  {
   "cell_type": "markdown",
   "metadata": {},
   "source": [
    "##### &emsp;&emsp;&emsp; - 5. Create the column ’YEAR’: the year in the ’trans date’ column. DatetimeIndex with attribute .year will help you do so."
   ]
  },
  {
   "cell_type": "code",
   "execution_count": 12,
   "metadata": {},
   "outputs": [],
   "source": [
    "txn['YEAR'] = pd.DatetimeIndex(txn.txn_date).year"
   ]
  },
  {
   "cell_type": "code",
   "execution_count": 13,
   "metadata": {},
   "outputs": [
    {
     "data": {
      "text/html": [
       "<div>\n",
       "<style scoped>\n",
       "    .dataframe tbody tr th:only-of-type {\n",
       "        vertical-align: middle;\n",
       "    }\n",
       "\n",
       "    .dataframe tbody tr th {\n",
       "        vertical-align: top;\n",
       "    }\n",
       "\n",
       "    .dataframe thead th {\n",
       "        text-align: right;\n",
       "    }\n",
       "</style>\n",
       "<table border=\"1\" class=\"dataframe\">\n",
       "  <thead>\n",
       "    <tr style=\"text-align: right;\">\n",
       "      <th></th>\n",
       "      <th>customer_id</th>\n",
       "      <th>tran_amount</th>\n",
       "      <th>txn_date</th>\n",
       "      <th>ME_DT</th>\n",
       "      <th>YEAR</th>\n",
       "    </tr>\n",
       "  </thead>\n",
       "  <tbody>\n",
       "    <tr>\n",
       "      <td>0</td>\n",
       "      <td>CS5295</td>\n",
       "      <td>35</td>\n",
       "      <td>2013-02-11</td>\n",
       "      <td>2013-02-28</td>\n",
       "      <td>2013</td>\n",
       "    </tr>\n",
       "    <tr>\n",
       "      <td>1</td>\n",
       "      <td>CS4768</td>\n",
       "      <td>39</td>\n",
       "      <td>2015-03-15</td>\n",
       "      <td>2015-03-31</td>\n",
       "      <td>2015</td>\n",
       "    </tr>\n",
       "    <tr>\n",
       "      <td>2</td>\n",
       "      <td>CS2122</td>\n",
       "      <td>52</td>\n",
       "      <td>2013-02-26</td>\n",
       "      <td>2013-02-28</td>\n",
       "      <td>2013</td>\n",
       "    </tr>\n",
       "    <tr>\n",
       "      <td>3</td>\n",
       "      <td>CS1217</td>\n",
       "      <td>99</td>\n",
       "      <td>2011-11-16</td>\n",
       "      <td>2011-11-30</td>\n",
       "      <td>2011</td>\n",
       "    </tr>\n",
       "    <tr>\n",
       "      <td>4</td>\n",
       "      <td>CS1850</td>\n",
       "      <td>78</td>\n",
       "      <td>2013-11-20</td>\n",
       "      <td>2013-11-30</td>\n",
       "      <td>2013</td>\n",
       "    </tr>\n",
       "  </tbody>\n",
       "</table>\n",
       "</div>"
      ],
      "text/plain": [
       "  customer_id  tran_amount   txn_date      ME_DT  YEAR\n",
       "0      CS5295           35 2013-02-11 2013-02-28  2013\n",
       "1      CS4768           39 2015-03-15 2015-03-31  2015\n",
       "2      CS2122           52 2013-02-26 2013-02-28  2013\n",
       "3      CS1217           99 2011-11-16 2011-11-30  2011\n",
       "4      CS1850           78 2013-11-20 2013-11-30  2013"
      ]
     },
     "execution_count": 13,
     "metadata": {},
     "output_type": "execute_result"
    }
   ],
   "source": [
    "txn.head()"
   ]
  },
  {
   "cell_type": "code",
   "execution_count": 14,
   "metadata": {},
   "outputs": [
    {
     "data": {
      "text/html": [
       "<div>\n",
       "<style scoped>\n",
       "    .dataframe tbody tr th:only-of-type {\n",
       "        vertical-align: middle;\n",
       "    }\n",
       "\n",
       "    .dataframe tbody tr th {\n",
       "        vertical-align: top;\n",
       "    }\n",
       "\n",
       "    .dataframe thead th {\n",
       "        text-align: right;\n",
       "    }\n",
       "</style>\n",
       "<table border=\"1\" class=\"dataframe\">\n",
       "  <thead>\n",
       "    <tr style=\"text-align: right;\">\n",
       "      <th></th>\n",
       "      <th>customer_id</th>\n",
       "      <th>tran_amount</th>\n",
       "      <th>txn_date</th>\n",
       "      <th>ME_DT</th>\n",
       "      <th>YEAR</th>\n",
       "    </tr>\n",
       "  </thead>\n",
       "  <tbody>\n",
       "    <tr>\n",
       "      <td>55</td>\n",
       "      <td>CS2662</td>\n",
       "      <td>88</td>\n",
       "      <td>2014-08-31</td>\n",
       "      <td>2014-08-31</td>\n",
       "      <td>2014</td>\n",
       "    </tr>\n",
       "    <tr>\n",
       "      <td>56</td>\n",
       "      <td>CS2209</td>\n",
       "      <td>35</td>\n",
       "      <td>2012-03-12</td>\n",
       "      <td>2012-03-31</td>\n",
       "      <td>2012</td>\n",
       "    </tr>\n",
       "    <tr>\n",
       "      <td>57</td>\n",
       "      <td>CS4530</td>\n",
       "      <td>40</td>\n",
       "      <td>2011-06-05</td>\n",
       "      <td>2011-06-30</td>\n",
       "      <td>2011</td>\n",
       "    </tr>\n",
       "    <tr>\n",
       "      <td>58</td>\n",
       "      <td>CS2848</td>\n",
       "      <td>53</td>\n",
       "      <td>2013-02-04</td>\n",
       "      <td>2013-02-28</td>\n",
       "      <td>2013</td>\n",
       "    </tr>\n",
       "    <tr>\n",
       "      <td>59</td>\n",
       "      <td>CS2596</td>\n",
       "      <td>55</td>\n",
       "      <td>2011-09-19</td>\n",
       "      <td>2011-09-30</td>\n",
       "      <td>2011</td>\n",
       "    </tr>\n",
       "  </tbody>\n",
       "</table>\n",
       "</div>"
      ],
      "text/plain": [
       "   customer_id  tran_amount   txn_date      ME_DT  YEAR\n",
       "55      CS2662           88 2014-08-31 2014-08-31  2014\n",
       "56      CS2209           35 2012-03-12 2012-03-31  2012\n",
       "57      CS4530           40 2011-06-05 2011-06-30  2011\n",
       "58      CS2848           53 2013-02-04 2013-02-28  2013\n",
       "59      CS2596           55 2011-09-19 2011-09-30  2011"
      ]
     },
     "execution_count": 14,
     "metadata": {},
     "output_type": "execute_result"
    }
   ],
   "source": [
    "#check output\n",
    "txn.iloc[55:60,:]"
   ]
  },
  {
   "cell_type": "markdown",
   "metadata": {},
   "source": [
    "### 1.2  Create features that capture annual spending"
   ]
  },
  {
   "cell_type": "markdown",
   "metadata": {},
   "source": [
    "##### &emsp;&emsp;&emsp; - 1. Using groupby and NamedAgg create <b>clnt_annual_aggregations</b>, the annual aggregations dataframe: with sum, mean, std, var, sem, max, min, count as the aggregation functions. A snapshot of the output table is shown below. Notice that the output is a typical MultiIndex pandas dataframe."
   ]
  },
  {
   "cell_type": "code",
   "execution_count": 15,
   "metadata": {},
   "outputs": [],
   "source": [
    "clnt_annual_aggregations = txn.groupby(['customer_id','YEAR']).agg(ann_txn_amt_sum = pd.NamedAgg(column='tran_amount',aggfunc='sum'),\\\n",
    "                                                                   ann_txn_amt_ave = pd.NamedAgg(column='tran_amount',aggfunc='mean'),\\\n",
    "                                                                   ann_txn_amt_std = pd.NamedAgg(column='tran_amount',aggfunc='std'),\\\n",
    "                                                                   ann_txn_amt_var = pd.NamedAgg(column='tran_amount',aggfunc='var'),\\\n",
    "                                                                   ann_txn_amt_sem = pd.NamedAgg(column='tran_amount',aggfunc='sem'),\\\n",
    "                                                                   ann_txn_amt_max = pd.NamedAgg(column='tran_amount',aggfunc='max'),\\\n",
    "                                                                   ann_txn_amt_min = pd.NamedAgg(column='tran_amount',aggfunc='min'),\\\n",
    "                                                                   ann_txn_cnt = pd.NamedAgg(column='tran_amount',aggfunc='count'))"
   ]
  },
  {
   "cell_type": "code",
   "execution_count": 16,
   "metadata": {},
   "outputs": [
    {
     "data": {
      "text/html": [
       "<div>\n",
       "<style scoped>\n",
       "    .dataframe tbody tr th:only-of-type {\n",
       "        vertical-align: middle;\n",
       "    }\n",
       "\n",
       "    .dataframe tbody tr th {\n",
       "        vertical-align: top;\n",
       "    }\n",
       "\n",
       "    .dataframe thead th {\n",
       "        text-align: right;\n",
       "    }\n",
       "</style>\n",
       "<table border=\"1\" class=\"dataframe\">\n",
       "  <thead>\n",
       "    <tr style=\"text-align: right;\">\n",
       "      <th></th>\n",
       "      <th></th>\n",
       "      <th>ann_txn_amt_sum</th>\n",
       "      <th>ann_txn_amt_ave</th>\n",
       "      <th>ann_txn_amt_std</th>\n",
       "      <th>ann_txn_amt_var</th>\n",
       "      <th>ann_txn_amt_sem</th>\n",
       "      <th>ann_txn_amt_max</th>\n",
       "      <th>ann_txn_amt_min</th>\n",
       "      <th>ann_txn_cnt</th>\n",
       "    </tr>\n",
       "    <tr>\n",
       "      <th>customer_id</th>\n",
       "      <th>YEAR</th>\n",
       "      <th></th>\n",
       "      <th></th>\n",
       "      <th></th>\n",
       "      <th></th>\n",
       "      <th></th>\n",
       "      <th></th>\n",
       "      <th></th>\n",
       "      <th></th>\n",
       "    </tr>\n",
       "  </thead>\n",
       "  <tbody>\n",
       "    <tr>\n",
       "      <td rowspan=\"5\" valign=\"top\">CS1112</td>\n",
       "      <td>2011</td>\n",
       "      <td>212</td>\n",
       "      <td>70.666667</td>\n",
       "      <td>22.030282</td>\n",
       "      <td>485.333333</td>\n",
       "      <td>12.719189</td>\n",
       "      <td>96</td>\n",
       "      <td>56</td>\n",
       "      <td>3</td>\n",
       "    </tr>\n",
       "    <tr>\n",
       "      <td>2012</td>\n",
       "      <td>337</td>\n",
       "      <td>67.400000</td>\n",
       "      <td>12.720063</td>\n",
       "      <td>161.800000</td>\n",
       "      <td>5.688585</td>\n",
       "      <td>81</td>\n",
       "      <td>52</td>\n",
       "      <td>5</td>\n",
       "    </tr>\n",
       "    <tr>\n",
       "      <td>2013</td>\n",
       "      <td>212</td>\n",
       "      <td>70.666667</td>\n",
       "      <td>34.501208</td>\n",
       "      <td>1190.333333</td>\n",
       "      <td>19.919282</td>\n",
       "      <td>105</td>\n",
       "      <td>36</td>\n",
       "      <td>3</td>\n",
       "    </tr>\n",
       "    <tr>\n",
       "      <td>2014</td>\n",
       "      <td>212</td>\n",
       "      <td>70.666667</td>\n",
       "      <td>16.862186</td>\n",
       "      <td>284.333333</td>\n",
       "      <td>9.735388</td>\n",
       "      <td>90</td>\n",
       "      <td>59</td>\n",
       "      <td>3</td>\n",
       "    </tr>\n",
       "    <tr>\n",
       "      <td>2015</td>\n",
       "      <td>39</td>\n",
       "      <td>39.000000</td>\n",
       "      <td>NaN</td>\n",
       "      <td>NaN</td>\n",
       "      <td>NaN</td>\n",
       "      <td>39</td>\n",
       "      <td>39</td>\n",
       "      <td>1</td>\n",
       "    </tr>\n",
       "  </tbody>\n",
       "</table>\n",
       "</div>"
      ],
      "text/plain": [
       "                  ann_txn_amt_sum  ann_txn_amt_ave  ann_txn_amt_std  \\\n",
       "customer_id YEAR                                                      \n",
       "CS1112      2011              212        70.666667        22.030282   \n",
       "            2012              337        67.400000        12.720063   \n",
       "            2013              212        70.666667        34.501208   \n",
       "            2014              212        70.666667        16.862186   \n",
       "            2015               39        39.000000              NaN   \n",
       "\n",
       "                  ann_txn_amt_var  ann_txn_amt_sem  ann_txn_amt_max  \\\n",
       "customer_id YEAR                                                      \n",
       "CS1112      2011       485.333333        12.719189               96   \n",
       "            2012       161.800000         5.688585               81   \n",
       "            2013      1190.333333        19.919282              105   \n",
       "            2014       284.333333         9.735388               90   \n",
       "            2015              NaN              NaN               39   \n",
       "\n",
       "                  ann_txn_amt_min  ann_txn_cnt  \n",
       "customer_id YEAR                                \n",
       "CS1112      2011               56            3  \n",
       "            2012               52            5  \n",
       "            2013               36            3  \n",
       "            2014               59            3  \n",
       "            2015               39            1  "
      ]
     },
     "execution_count": 16,
     "metadata": {},
     "output_type": "execute_result"
    }
   ],
   "source": [
    "#check output\n",
    "clnt_annual_aggregations.head()"
   ]
  },
  {
   "cell_type": "markdown",
   "metadata": {},
   "source": [
    "##### &emsp;&emsp;&emsp; - 2. Plot the histogram of the sum and count."
   ]
  },
  {
   "cell_type": "code",
   "execution_count": 17,
   "metadata": {},
   "outputs": [
    {
     "data": {
      "image/png": "[encoded data removed]",
      "text/plain": [
       "<Figure size 432x288 with 1 Axes>"
      ]
     },
     "metadata": {
      "needs_background": "light"
     },
     "output_type": "display_data"
    }
   ],
   "source": [
    "#plot sum\n",
    "clnt_annual_aggregations['ann_txn_amt_sum'].plot.hist()\n",
    "plt.savefig('ann_txn_amt_sum.png')"
   ]
  },
  {
   "cell_type": "code",
   "execution_count": 18,
   "metadata": {},
   "outputs": [
    {
     "data": {
      "image/png": "[encoded data removed]",
      "text/plain": [
       "<Figure size 432x288 with 1 Axes>"
      ]
     },
     "metadata": {
      "needs_background": "light"
     },
     "output_type": "display_data"
    }
   ],
   "source": [
    "#plot count\n",
    "clnt_annual_aggregations['ann_txn_cnt'].plot.hist(color='g')\n",
    "plt.savefig('ann_txn_cnt.png')"
   ]
  },
  {
   "cell_type": "markdown",
   "metadata": {},
   "source": [
    "##### &emsp;&emsp;&emsp; - 3. Reset the index and reshape the table with the pivot table function to create the <b>clnt_annual_aggregations_pivot</b> table shown below with 40 columns (why 40?). You should expect columns with NaN values. Impute the NaN entries when you perform the pivot table function and explain your choice of values.\n",
    "\n",
    "<div style='color:purple'> For each aggregated feature (8 features in total), there are five years of data; therefore, 8 * 5 = 40 columns in total. It is reasonable to fill the missing values with 0s since it indicates that the custormer didn't have any transactions during that year."
   ]
  },
  {
   "cell_type": "code",
   "execution_count": 19,
   "metadata": {},
   "outputs": [],
   "source": [
    "clnt_annual_aggregations_pivot = clnt_annual_aggregations.reset_index().pivot_table(columns='YEAR',index='customer_id').fillna(0)"
   ]
  },
  {
   "cell_type": "code",
   "execution_count": 20,
   "metadata": {},
   "outputs": [
    {
     "data": {
      "text/html": [
       "<div>\n",
       "<style scoped>\n",
       "    .dataframe tbody tr th:only-of-type {\n",
       "        vertical-align: middle;\n",
       "    }\n",
       "\n",
       "    .dataframe tbody tr th {\n",
       "        vertical-align: top;\n",
       "    }\n",
       "\n",
       "    .dataframe thead tr th {\n",
       "        text-align: left;\n",
       "    }\n",
       "\n",
       "    .dataframe thead tr:last-of-type th {\n",
       "        text-align: right;\n",
       "    }\n",
       "</style>\n",
       "<table border=\"1\" class=\"dataframe\">\n",
       "  <thead>\n",
       "    <tr>\n",
       "      <th></th>\n",
       "      <th colspan=\"5\" halign=\"left\">ann_txn_amt_ave</th>\n",
       "      <th colspan=\"5\" halign=\"left\">ann_txn_amt_max</th>\n",
       "      <th>...</th>\n",
       "      <th colspan=\"5\" halign=\"left\">ann_txn_amt_var</th>\n",
       "      <th colspan=\"5\" halign=\"left\">ann_txn_cnt</th>\n",
       "    </tr>\n",
       "    <tr>\n",
       "      <th>YEAR</th>\n",
       "      <th>2011</th>\n",
       "      <th>2012</th>\n",
       "      <th>2013</th>\n",
       "      <th>2014</th>\n",
       "      <th>2015</th>\n",
       "      <th>2011</th>\n",
       "      <th>2012</th>\n",
       "      <th>2013</th>\n",
       "      <th>2014</th>\n",
       "      <th>2015</th>\n",
       "      <th>...</th>\n",
       "      <th>2011</th>\n",
       "      <th>2012</th>\n",
       "      <th>2013</th>\n",
       "      <th>2014</th>\n",
       "      <th>2015</th>\n",
       "      <th>2011</th>\n",
       "      <th>2012</th>\n",
       "      <th>2013</th>\n",
       "      <th>2014</th>\n",
       "      <th>2015</th>\n",
       "    </tr>\n",
       "    <tr>\n",
       "      <th>customer_id</th>\n",
       "      <th></th>\n",
       "      <th></th>\n",
       "      <th></th>\n",
       "      <th></th>\n",
       "      <th></th>\n",
       "      <th></th>\n",
       "      <th></th>\n",
       "      <th></th>\n",
       "      <th></th>\n",
       "      <th></th>\n",
       "      <th></th>\n",
       "      <th></th>\n",
       "      <th></th>\n",
       "      <th></th>\n",
       "      <th></th>\n",
       "      <th></th>\n",
       "      <th></th>\n",
       "      <th></th>\n",
       "      <th></th>\n",
       "      <th></th>\n",
       "      <th></th>\n",
       "    </tr>\n",
       "  </thead>\n",
       "  <tbody>\n",
       "    <tr>\n",
       "      <td>CS1112</td>\n",
       "      <td>70.666667</td>\n",
       "      <td>67.400000</td>\n",
       "      <td>70.666667</td>\n",
       "      <td>70.666667</td>\n",
       "      <td>39.000000</td>\n",
       "      <td>96.0</td>\n",
       "      <td>81.0</td>\n",
       "      <td>105.0</td>\n",
       "      <td>90.0</td>\n",
       "      <td>39.0</td>\n",
       "      <td>...</td>\n",
       "      <td>485.333333</td>\n",
       "      <td>161.800000</td>\n",
       "      <td>1190.333333</td>\n",
       "      <td>284.333333</td>\n",
       "      <td>0.000000</td>\n",
       "      <td>3.0</td>\n",
       "      <td>5.0</td>\n",
       "      <td>3.0</td>\n",
       "      <td>3.0</td>\n",
       "      <td>1.0</td>\n",
       "    </tr>\n",
       "    <tr>\n",
       "      <td>CS1113</td>\n",
       "      <td>81.333333</td>\n",
       "      <td>74.800000</td>\n",
       "      <td>85.200000</td>\n",
       "      <td>56.500000</td>\n",
       "      <td>73.333333</td>\n",
       "      <td>94.0</td>\n",
       "      <td>95.0</td>\n",
       "      <td>97.0</td>\n",
       "      <td>97.0</td>\n",
       "      <td>98.0</td>\n",
       "      <td>...</td>\n",
       "      <td>444.333333</td>\n",
       "      <td>290.200000</td>\n",
       "      <td>171.200000</td>\n",
       "      <td>781.666667</td>\n",
       "      <td>745.333333</td>\n",
       "      <td>3.0</td>\n",
       "      <td>5.0</td>\n",
       "      <td>5.0</td>\n",
       "      <td>4.0</td>\n",
       "      <td>3.0</td>\n",
       "    </tr>\n",
       "    <tr>\n",
       "      <td>CS1114</td>\n",
       "      <td>85.200000</td>\n",
       "      <td>75.000000</td>\n",
       "      <td>70.400000</td>\n",
       "      <td>70.833333</td>\n",
       "      <td>79.000000</td>\n",
       "      <td>97.0</td>\n",
       "      <td>97.0</td>\n",
       "      <td>105.0</td>\n",
       "      <td>95.0</td>\n",
       "      <td>79.0</td>\n",
       "      <td>...</td>\n",
       "      <td>94.700000</td>\n",
       "      <td>968.000000</td>\n",
       "      <td>619.300000</td>\n",
       "      <td>726.166667</td>\n",
       "      <td>0.000000</td>\n",
       "      <td>5.0</td>\n",
       "      <td>2.0</td>\n",
       "      <td>5.0</td>\n",
       "      <td>6.0</td>\n",
       "      <td>1.0</td>\n",
       "    </tr>\n",
       "    <tr>\n",
       "      <td>CS1115</td>\n",
       "      <td>87.000000</td>\n",
       "      <td>67.571429</td>\n",
       "      <td>79.571429</td>\n",
       "      <td>78.250000</td>\n",
       "      <td>55.000000</td>\n",
       "      <td>102.0</td>\n",
       "      <td>104.0</td>\n",
       "      <td>94.0</td>\n",
       "      <td>98.0</td>\n",
       "      <td>55.0</td>\n",
       "      <td>...</td>\n",
       "      <td>225.000000</td>\n",
       "      <td>477.285714</td>\n",
       "      <td>110.952381</td>\n",
       "      <td>512.250000</td>\n",
       "      <td>0.000000</td>\n",
       "      <td>3.0</td>\n",
       "      <td>7.0</td>\n",
       "      <td>7.0</td>\n",
       "      <td>4.0</td>\n",
       "      <td>1.0</td>\n",
       "    </tr>\n",
       "    <tr>\n",
       "      <td>CS1116</td>\n",
       "      <td>58.750000</td>\n",
       "      <td>76.666667</td>\n",
       "      <td>59.000000</td>\n",
       "      <td>66.600000</td>\n",
       "      <td>0.000000</td>\n",
       "      <td>87.0</td>\n",
       "      <td>105.0</td>\n",
       "      <td>59.0</td>\n",
       "      <td>96.0</td>\n",
       "      <td>0.0</td>\n",
       "      <td>...</td>\n",
       "      <td>449.583333</td>\n",
       "      <td>908.333333</td>\n",
       "      <td>0.000000</td>\n",
       "      <td>636.800000</td>\n",
       "      <td>0.000000</td>\n",
       "      <td>4.0</td>\n",
       "      <td>3.0</td>\n",
       "      <td>1.0</td>\n",
       "      <td>5.0</td>\n",
       "      <td>0.0</td>\n",
       "    </tr>\n",
       "  </tbody>\n",
       "</table>\n",
       "<p>5 rows × 40 columns</p>\n",
       "</div>"
      ],
      "text/plain": [
       "            ann_txn_amt_ave                                              \\\n",
       "YEAR                   2011       2012       2013       2014       2015   \n",
       "customer_id                                                               \n",
       "CS1112            70.666667  67.400000  70.666667  70.666667  39.000000   \n",
       "CS1113            81.333333  74.800000  85.200000  56.500000  73.333333   \n",
       "CS1114            85.200000  75.000000  70.400000  70.833333  79.000000   \n",
       "CS1115            87.000000  67.571429  79.571429  78.250000  55.000000   \n",
       "CS1116            58.750000  76.666667  59.000000  66.600000   0.000000   \n",
       "\n",
       "            ann_txn_amt_max                            ... ann_txn_amt_var  \\\n",
       "YEAR                   2011   2012   2013  2014  2015  ...            2011   \n",
       "customer_id                                            ...                   \n",
       "CS1112                 96.0   81.0  105.0  90.0  39.0  ...      485.333333   \n",
       "CS1113                 94.0   95.0   97.0  97.0  98.0  ...      444.333333   \n",
       "CS1114                 97.0   97.0  105.0  95.0  79.0  ...       94.700000   \n",
       "CS1115                102.0  104.0   94.0  98.0  55.0  ...      225.000000   \n",
       "CS1116                 87.0  105.0   59.0  96.0   0.0  ...      449.583333   \n",
       "\n",
       "                                                             ann_txn_cnt       \\\n",
       "YEAR               2012         2013        2014        2015        2011 2012   \n",
       "customer_id                                                                     \n",
       "CS1112       161.800000  1190.333333  284.333333    0.000000         3.0  5.0   \n",
       "CS1113       290.200000   171.200000  781.666667  745.333333         3.0  5.0   \n",
       "CS1114       968.000000   619.300000  726.166667    0.000000         5.0  2.0   \n",
       "CS1115       477.285714   110.952381  512.250000    0.000000         3.0  7.0   \n",
       "CS1116       908.333333     0.000000  636.800000    0.000000         4.0  3.0   \n",
       "\n",
       "                            \n",
       "YEAR        2013 2014 2015  \n",
       "customer_id                 \n",
       "CS1112       3.0  3.0  1.0  \n",
       "CS1113       5.0  4.0  3.0  \n",
       "CS1114       5.0  6.0  1.0  \n",
       "CS1115       7.0  4.0  1.0  \n",
       "CS1116       1.0  5.0  0.0  \n",
       "\n",
       "[5 rows x 40 columns]"
      ]
     },
     "execution_count": 20,
     "metadata": {},
     "output_type": "execute_result"
    }
   ],
   "source": [
    "#check output\n",
    "clnt_annual_aggregations_pivot.head()"
   ]
  },
  {
   "cell_type": "markdown",
   "metadata": {},
   "source": [
    "##### &emsp;&emsp;&emsp; - 4. The pivoted object you created is a MultiIndex object with hierarchical indexes. You can see the first level (i.e. 0) in the snapshot above with names ’ann txn amt ave’, ’ann txn amt max’ (and more as indicated by the ...) and the second level (i.e. 1) with names ’2011’, ’2012’, etc. You can confirm the multiple levels of the columns with the following two expressions. \n",
    "\n",
    "##### &emsp;&emsp;&emsp;&emsp; What are your observations regarding the number of levels and the column names?\n",
    "\n",
    "<div style='color:purple'> The number of levels of the columns matches with the number of elements in each of the column names (tuples)."
   ]
  },
  {
   "cell_type": "code",
   "execution_count": 21,
   "metadata": {},
   "outputs": [
    {
     "data": {
      "text/plain": [
       "2"
      ]
     },
     "execution_count": 21,
     "metadata": {},
     "output_type": "execute_result"
    }
   ],
   "source": [
    "clnt_annual_aggregations_pivot.columns.nlevels"
   ]
  },
  {
   "cell_type": "code",
   "execution_count": 22,
   "metadata": {},
   "outputs": [
    {
     "data": {
      "text/plain": [
       "MultiIndex([('ann_txn_amt_ave', 2011),\n",
       "            ('ann_txn_amt_ave', 2012),\n",
       "            ('ann_txn_amt_ave', 2013),\n",
       "            ('ann_txn_amt_ave', 2014),\n",
       "            ('ann_txn_amt_ave', 2015),\n",
       "            ('ann_txn_amt_max', 2011),\n",
       "            ('ann_txn_amt_max', 2012),\n",
       "            ('ann_txn_amt_max', 2013),\n",
       "            ('ann_txn_amt_max', 2014),\n",
       "            ('ann_txn_amt_max', 2015),\n",
       "            ('ann_txn_amt_min', 2011),\n",
       "            ('ann_txn_amt_min', 2012),\n",
       "            ('ann_txn_amt_min', 2013),\n",
       "            ('ann_txn_amt_min', 2014),\n",
       "            ('ann_txn_amt_min', 2015),\n",
       "            ('ann_txn_amt_sem', 2011),\n",
       "            ('ann_txn_amt_sem', 2012),\n",
       "            ('ann_txn_amt_sem', 2013),\n",
       "            ('ann_txn_amt_sem', 2014),\n",
       "            ('ann_txn_amt_sem', 2015),\n",
       "            ('ann_txn_amt_std', 2011),\n",
       "            ('ann_txn_amt_std', 2012),\n",
       "            ('ann_txn_amt_std', 2013),\n",
       "            ('ann_txn_amt_std', 2014),\n",
       "            ('ann_txn_amt_std', 2015),\n",
       "            ('ann_txn_amt_sum', 2011),\n",
       "            ('ann_txn_amt_sum', 2012),\n",
       "            ('ann_txn_amt_sum', 2013),\n",
       "            ('ann_txn_amt_sum', 2014),\n",
       "            ('ann_txn_amt_sum', 2015),\n",
       "            ('ann_txn_amt_var', 2011),\n",
       "            ('ann_txn_amt_var', 2012),\n",
       "            ('ann_txn_amt_var', 2013),\n",
       "            ('ann_txn_amt_var', 2014),\n",
       "            ('ann_txn_amt_var', 2015),\n",
       "            (    'ann_txn_cnt', 2011),\n",
       "            (    'ann_txn_cnt', 2012),\n",
       "            (    'ann_txn_cnt', 2013),\n",
       "            (    'ann_txn_cnt', 2014),\n",
       "            (    'ann_txn_cnt', 2015)],\n",
       "           names=[None, 'YEAR'])"
      ]
     },
     "execution_count": 22,
     "metadata": {},
     "output_type": "execute_result"
    }
   ],
   "source": [
    "clnt_annual_aggregations_pivot.columns"
   ]
  },
  {
   "cell_type": "markdown",
   "metadata": {},
   "source": [
    "##### &emsp;&emsp;&emsp; - 5. Finally, you want to save the dataframe <b>clnt_annual_aggregations_pivot</b> as an.xlsx file for future use in the machine learning assignment. To do so, you want to remove the two levels in columns and create a single level with column names: ’ann txn amt ave 2011’, ’ann txn amt ave 2012’, etc. To do so, use the code snippet below prior to saving the dataframe as an Excel file.\n",
    "\n",
    "##### &emsp;&emsp;&emsp;&emsp;&emsp; Describe what each line of code in the box does and save the output dataframe as an Excel file <b>annual_features.xlsx</b>. A snapshot of the desired final output is shown below.\n",
    "\n",
    "<div style='color:purple'> First two lines extract the columns names from the two levels of columns, convert them all to string data type and assign them into 'level_0' and 'level_1', respectively. Now, 'level_0' has all the 'ann_txn_amt_...' column names and 'level_1' has all the years. Then, re-assign the columns of the dataframe by concatenating 'level_0' columns and 'level-1' columns with a '_'."
   ]
  },
  {
   "cell_type": "code",
   "execution_count": 23,
   "metadata": {},
   "outputs": [],
   "source": [
    "level_0 = clnt_annual_aggregations_pivot.columns.get_level_values(0).astype(str)\n",
    "level_1 = clnt_annual_aggregations_pivot.columns.get_level_values(1).astype(str)\n",
    "clnt_annual_aggregations_pivot.columns = level_0 + '_' + level_1"
   ]
  },
  {
   "cell_type": "code",
   "execution_count": 24,
   "metadata": {},
   "outputs": [
    {
     "data": {
      "text/html": [
       "<div>\n",
       "<style scoped>\n",
       "    .dataframe tbody tr th:only-of-type {\n",
       "        vertical-align: middle;\n",
       "    }\n",
       "\n",
       "    .dataframe tbody tr th {\n",
       "        vertical-align: top;\n",
       "    }\n",
       "\n",
       "    .dataframe thead th {\n",
       "        text-align: right;\n",
       "    }\n",
       "</style>\n",
       "<table border=\"1\" class=\"dataframe\">\n",
       "  <thead>\n",
       "    <tr style=\"text-align: right;\">\n",
       "      <th></th>\n",
       "      <th>ann_txn_amt_ave_2011</th>\n",
       "      <th>ann_txn_amt_ave_2012</th>\n",
       "      <th>ann_txn_amt_ave_2013</th>\n",
       "      <th>ann_txn_amt_ave_2014</th>\n",
       "      <th>ann_txn_amt_ave_2015</th>\n",
       "      <th>ann_txn_amt_max_2011</th>\n",
       "      <th>ann_txn_amt_max_2012</th>\n",
       "      <th>ann_txn_amt_max_2013</th>\n",
       "      <th>ann_txn_amt_max_2014</th>\n",
       "      <th>ann_txn_amt_max_2015</th>\n",
       "      <th>...</th>\n",
       "      <th>ann_txn_amt_var_2011</th>\n",
       "      <th>ann_txn_amt_var_2012</th>\n",
       "      <th>ann_txn_amt_var_2013</th>\n",
       "      <th>ann_txn_amt_var_2014</th>\n",
       "      <th>ann_txn_amt_var_2015</th>\n",
       "      <th>ann_txn_cnt_2011</th>\n",
       "      <th>ann_txn_cnt_2012</th>\n",
       "      <th>ann_txn_cnt_2013</th>\n",
       "      <th>ann_txn_cnt_2014</th>\n",
       "      <th>ann_txn_cnt_2015</th>\n",
       "    </tr>\n",
       "    <tr>\n",
       "      <th>customer_id</th>\n",
       "      <th></th>\n",
       "      <th></th>\n",
       "      <th></th>\n",
       "      <th></th>\n",
       "      <th></th>\n",
       "      <th></th>\n",
       "      <th></th>\n",
       "      <th></th>\n",
       "      <th></th>\n",
       "      <th></th>\n",
       "      <th></th>\n",
       "      <th></th>\n",
       "      <th></th>\n",
       "      <th></th>\n",
       "      <th></th>\n",
       "      <th></th>\n",
       "      <th></th>\n",
       "      <th></th>\n",
       "      <th></th>\n",
       "      <th></th>\n",
       "      <th></th>\n",
       "    </tr>\n",
       "  </thead>\n",
       "  <tbody>\n",
       "    <tr>\n",
       "      <td>CS1112</td>\n",
       "      <td>70.666667</td>\n",
       "      <td>67.400000</td>\n",
       "      <td>70.666667</td>\n",
       "      <td>70.666667</td>\n",
       "      <td>39.000000</td>\n",
       "      <td>96.0</td>\n",
       "      <td>81.0</td>\n",
       "      <td>105.0</td>\n",
       "      <td>90.0</td>\n",
       "      <td>39.0</td>\n",
       "      <td>...</td>\n",
       "      <td>485.333333</td>\n",
       "      <td>161.800000</td>\n",
       "      <td>1190.333333</td>\n",
       "      <td>284.333333</td>\n",
       "      <td>0.000000</td>\n",
       "      <td>3.0</td>\n",
       "      <td>5.0</td>\n",
       "      <td>3.0</td>\n",
       "      <td>3.0</td>\n",
       "      <td>1.0</td>\n",
       "    </tr>\n",
       "    <tr>\n",
       "      <td>CS1113</td>\n",
       "      <td>81.333333</td>\n",
       "      <td>74.800000</td>\n",
       "      <td>85.200000</td>\n",
       "      <td>56.500000</td>\n",
       "      <td>73.333333</td>\n",
       "      <td>94.0</td>\n",
       "      <td>95.0</td>\n",
       "      <td>97.0</td>\n",
       "      <td>97.0</td>\n",
       "      <td>98.0</td>\n",
       "      <td>...</td>\n",
       "      <td>444.333333</td>\n",
       "      <td>290.200000</td>\n",
       "      <td>171.200000</td>\n",
       "      <td>781.666667</td>\n",
       "      <td>745.333333</td>\n",
       "      <td>3.0</td>\n",
       "      <td>5.0</td>\n",
       "      <td>5.0</td>\n",
       "      <td>4.0</td>\n",
       "      <td>3.0</td>\n",
       "    </tr>\n",
       "    <tr>\n",
       "      <td>CS1114</td>\n",
       "      <td>85.200000</td>\n",
       "      <td>75.000000</td>\n",
       "      <td>70.400000</td>\n",
       "      <td>70.833333</td>\n",
       "      <td>79.000000</td>\n",
       "      <td>97.0</td>\n",
       "      <td>97.0</td>\n",
       "      <td>105.0</td>\n",
       "      <td>95.0</td>\n",
       "      <td>79.0</td>\n",
       "      <td>...</td>\n",
       "      <td>94.700000</td>\n",
       "      <td>968.000000</td>\n",
       "      <td>619.300000</td>\n",
       "      <td>726.166667</td>\n",
       "      <td>0.000000</td>\n",
       "      <td>5.0</td>\n",
       "      <td>2.0</td>\n",
       "      <td>5.0</td>\n",
       "      <td>6.0</td>\n",
       "      <td>1.0</td>\n",
       "    </tr>\n",
       "    <tr>\n",
       "      <td>CS1115</td>\n",
       "      <td>87.000000</td>\n",
       "      <td>67.571429</td>\n",
       "      <td>79.571429</td>\n",
       "      <td>78.250000</td>\n",
       "      <td>55.000000</td>\n",
       "      <td>102.0</td>\n",
       "      <td>104.0</td>\n",
       "      <td>94.0</td>\n",
       "      <td>98.0</td>\n",
       "      <td>55.0</td>\n",
       "      <td>...</td>\n",
       "      <td>225.000000</td>\n",
       "      <td>477.285714</td>\n",
       "      <td>110.952381</td>\n",
       "      <td>512.250000</td>\n",
       "      <td>0.000000</td>\n",
       "      <td>3.0</td>\n",
       "      <td>7.0</td>\n",
       "      <td>7.0</td>\n",
       "      <td>4.0</td>\n",
       "      <td>1.0</td>\n",
       "    </tr>\n",
       "    <tr>\n",
       "      <td>CS1116</td>\n",
       "      <td>58.750000</td>\n",
       "      <td>76.666667</td>\n",
       "      <td>59.000000</td>\n",
       "      <td>66.600000</td>\n",
       "      <td>0.000000</td>\n",
       "      <td>87.0</td>\n",
       "      <td>105.0</td>\n",
       "      <td>59.0</td>\n",
       "      <td>96.0</td>\n",
       "      <td>0.0</td>\n",
       "      <td>...</td>\n",
       "      <td>449.583333</td>\n",
       "      <td>908.333333</td>\n",
       "      <td>0.000000</td>\n",
       "      <td>636.800000</td>\n",
       "      <td>0.000000</td>\n",
       "      <td>4.0</td>\n",
       "      <td>3.0</td>\n",
       "      <td>1.0</td>\n",
       "      <td>5.0</td>\n",
       "      <td>0.0</td>\n",
       "    </tr>\n",
       "  </tbody>\n",
       "</table>\n",
       "<p>5 rows × 40 columns</p>\n",
       "</div>"
      ],
      "text/plain": [
       "             ann_txn_amt_ave_2011  ann_txn_amt_ave_2012  ann_txn_amt_ave_2013  \\\n",
       "customer_id                                                                     \n",
       "CS1112                  70.666667             67.400000             70.666667   \n",
       "CS1113                  81.333333             74.800000             85.200000   \n",
       "CS1114                  85.200000             75.000000             70.400000   \n",
       "CS1115                  87.000000             67.571429             79.571429   \n",
       "CS1116                  58.750000             76.666667             59.000000   \n",
       "\n",
       "             ann_txn_amt_ave_2014  ann_txn_amt_ave_2015  ann_txn_amt_max_2011  \\\n",
       "customer_id                                                                     \n",
       "CS1112                  70.666667             39.000000                  96.0   \n",
       "CS1113                  56.500000             73.333333                  94.0   \n",
       "CS1114                  70.833333             79.000000                  97.0   \n",
       "CS1115                  78.250000             55.000000                 102.0   \n",
       "CS1116                  66.600000              0.000000                  87.0   \n",
       "\n",
       "             ann_txn_amt_max_2012  ann_txn_amt_max_2013  ann_txn_amt_max_2014  \\\n",
       "customer_id                                                                     \n",
       "CS1112                       81.0                 105.0                  90.0   \n",
       "CS1113                       95.0                  97.0                  97.0   \n",
       "CS1114                       97.0                 105.0                  95.0   \n",
       "CS1115                      104.0                  94.0                  98.0   \n",
       "CS1116                      105.0                  59.0                  96.0   \n",
       "\n",
       "             ann_txn_amt_max_2015  ...  ann_txn_amt_var_2011  \\\n",
       "customer_id                        ...                         \n",
       "CS1112                       39.0  ...            485.333333   \n",
       "CS1113                       98.0  ...            444.333333   \n",
       "CS1114                       79.0  ...             94.700000   \n",
       "CS1115                       55.0  ...            225.000000   \n",
       "CS1116                        0.0  ...            449.583333   \n",
       "\n",
       "             ann_txn_amt_var_2012  ann_txn_amt_var_2013  ann_txn_amt_var_2014  \\\n",
       "customer_id                                                                     \n",
       "CS1112                 161.800000           1190.333333            284.333333   \n",
       "CS1113                 290.200000            171.200000            781.666667   \n",
       "CS1114                 968.000000            619.300000            726.166667   \n",
       "CS1115                 477.285714            110.952381            512.250000   \n",
       "CS1116                 908.333333              0.000000            636.800000   \n",
       "\n",
       "             ann_txn_amt_var_2015  ann_txn_cnt_2011  ann_txn_cnt_2012  \\\n",
       "customer_id                                                             \n",
       "CS1112                   0.000000               3.0               5.0   \n",
       "CS1113                 745.333333               3.0               5.0   \n",
       "CS1114                   0.000000               5.0               2.0   \n",
       "CS1115                   0.000000               3.0               7.0   \n",
       "CS1116                   0.000000               4.0               3.0   \n",
       "\n",
       "             ann_txn_cnt_2013  ann_txn_cnt_2014  ann_txn_cnt_2015  \n",
       "customer_id                                                        \n",
       "CS1112                    3.0               3.0               1.0  \n",
       "CS1113                    5.0               4.0               3.0  \n",
       "CS1114                    5.0               6.0               1.0  \n",
       "CS1115                    7.0               4.0               1.0  \n",
       "CS1116                    1.0               5.0               0.0  \n",
       "\n",
       "[5 rows x 40 columns]"
      ]
     },
     "execution_count": 24,
     "metadata": {},
     "output_type": "execute_result"
    }
   ],
   "source": [
    "clnt_annual_aggregations_pivot.head()"
   ]
  },
  {
   "cell_type": "code",
   "execution_count": 25,
   "metadata": {},
   "outputs": [],
   "source": [
    "# clnt_annual_aggregations_pivot.to_excel('annual_features.xlsx')"
   ]
  },
  {
   "cell_type": "markdown",
   "metadata": {},
   "source": [
    "##### &emsp;&emsp;&emsp; - 6. What are the possible disadvantages in capturing client transaction behavior with the annual features described in this section (if any)?"
   ]
  },
  {
   "cell_type": "markdown",
   "metadata": {},
   "source": [
    "<div style='color:purple'> For annual features, although it can capture some big pictures of the profile for each client, the data may be too macro to capture centain patterns that only exists in monthly, quarterly data"
   ]
  },
  {
   "cell_type": "markdown",
   "metadata": {},
   "source": [
    "### 1.3  Create monthly aggregations"
   ]
  },
  {
   "cell_type": "markdown",
   "metadata": {},
   "source": [
    "##### &emsp;&emsp;&emsp; - 1. Create the dataframe that captures the monthly sum and count of transactions per client (name it <b>clnt_monthly_aggregations</b>). Use the groupby function with the Named Aggregation feature which was introduced in pandas version 0.25.0. Make sure that you name the columns as shown in the figure sample on the right."
   ]
  },
  {
   "cell_type": "code",
   "execution_count": 26,
   "metadata": {},
   "outputs": [],
   "source": [
    "clnt_monthly_aggregations = txn.groupby(['customer_id','ME_DT']).agg(mth_txn_amt_sum = pd.NamedAgg(column='tran_amount',aggfunc='sum'),\\\n",
    "                                                                     mth_txn_cnt = pd.NamedAgg(column='tran_amount',aggfunc='count'))"
   ]
  },
  {
   "cell_type": "code",
   "execution_count": 27,
   "metadata": {},
   "outputs": [
    {
     "data": {
      "text/html": [
       "<div>\n",
       "<style scoped>\n",
       "    .dataframe tbody tr th:only-of-type {\n",
       "        vertical-align: middle;\n",
       "    }\n",
       "\n",
       "    .dataframe tbody tr th {\n",
       "        vertical-align: top;\n",
       "    }\n",
       "\n",
       "    .dataframe thead th {\n",
       "        text-align: right;\n",
       "    }\n",
       "</style>\n",
       "<table border=\"1\" class=\"dataframe\">\n",
       "  <thead>\n",
       "    <tr style=\"text-align: right;\">\n",
       "      <th></th>\n",
       "      <th>mth_txn_amt_sum</th>\n",
       "      <th>mth_txn_cnt</th>\n",
       "    </tr>\n",
       "    <tr>\n",
       "      <th>ME_DT</th>\n",
       "      <th></th>\n",
       "      <th></th>\n",
       "    </tr>\n",
       "  </thead>\n",
       "  <tbody>\n",
       "    <tr>\n",
       "      <td>2011-06-30</td>\n",
       "      <td>56</td>\n",
       "      <td>1</td>\n",
       "    </tr>\n",
       "    <tr>\n",
       "      <td>2011-08-31</td>\n",
       "      <td>96</td>\n",
       "      <td>1</td>\n",
       "    </tr>\n",
       "    <tr>\n",
       "      <td>2011-10-31</td>\n",
       "      <td>60</td>\n",
       "      <td>1</td>\n",
       "    </tr>\n",
       "    <tr>\n",
       "      <td>2012-04-30</td>\n",
       "      <td>56</td>\n",
       "      <td>1</td>\n",
       "    </tr>\n",
       "    <tr>\n",
       "      <td>2012-06-30</td>\n",
       "      <td>52</td>\n",
       "      <td>1</td>\n",
       "    </tr>\n",
       "    <tr>\n",
       "      <td>2012-07-31</td>\n",
       "      <td>81</td>\n",
       "      <td>1</td>\n",
       "    </tr>\n",
       "    <tr>\n",
       "      <td>2012-09-30</td>\n",
       "      <td>72</td>\n",
       "      <td>1</td>\n",
       "    </tr>\n",
       "    <tr>\n",
       "      <td>2012-12-31</td>\n",
       "      <td>76</td>\n",
       "      <td>1</td>\n",
       "    </tr>\n",
       "    <tr>\n",
       "      <td>2013-03-31</td>\n",
       "      <td>105</td>\n",
       "      <td>1</td>\n",
       "    </tr>\n",
       "    <tr>\n",
       "      <td>2013-07-31</td>\n",
       "      <td>36</td>\n",
       "      <td>1</td>\n",
       "    </tr>\n",
       "    <tr>\n",
       "      <td>2013-11-30</td>\n",
       "      <td>71</td>\n",
       "      <td>1</td>\n",
       "    </tr>\n",
       "    <tr>\n",
       "      <td>2014-04-30</td>\n",
       "      <td>63</td>\n",
       "      <td>1</td>\n",
       "    </tr>\n",
       "    <tr>\n",
       "      <td>2014-07-31</td>\n",
       "      <td>90</td>\n",
       "      <td>1</td>\n",
       "    </tr>\n",
       "    <tr>\n",
       "      <td>2014-12-31</td>\n",
       "      <td>59</td>\n",
       "      <td>1</td>\n",
       "    </tr>\n",
       "    <tr>\n",
       "      <td>2015-01-31</td>\n",
       "      <td>39</td>\n",
       "      <td>1</td>\n",
       "    </tr>\n",
       "  </tbody>\n",
       "</table>\n",
       "</div>"
      ],
      "text/plain": [
       "            mth_txn_amt_sum  mth_txn_cnt\n",
       "ME_DT                                   \n",
       "2011-06-30               56            1\n",
       "2011-08-31               96            1\n",
       "2011-10-31               60            1\n",
       "2012-04-30               56            1\n",
       "2012-06-30               52            1\n",
       "2012-07-31               81            1\n",
       "2012-09-30               72            1\n",
       "2012-12-31               76            1\n",
       "2013-03-31              105            1\n",
       "2013-07-31               36            1\n",
       "2013-11-30               71            1\n",
       "2014-04-30               63            1\n",
       "2014-07-31               90            1\n",
       "2014-12-31               59            1\n",
       "2015-01-31               39            1"
      ]
     },
     "execution_count": 27,
     "metadata": {},
     "output_type": "execute_result"
    }
   ],
   "source": [
    "#check output\n",
    "clnt_monthly_aggregations.loc['CS1112']"
   ]
  },
  {
   "cell_type": "markdown",
   "metadata": {},
   "source": [
    "##### &emsp;&emsp;&emsp; - 2. Create a histogram of both columns you created. What are your observations? What are the most common and maximum values for each column? How do they compare with the ones in section 1.2?\n",
    "\n",
    "<div style='color:purple'> By comparing both annual and monthly transactions, both graphs are left-skewed but monthly graphs tend to have smaller and sparser x-axis scale. The most common and maximum values for each column are printed out below. We can clearly see clients prefer to only make transactions once per month."
   ]
  },
  {
   "cell_type": "code",
   "execution_count": 28,
   "metadata": {},
   "outputs": [
    {
     "data": {
      "image/png": "[encoded data removed]",
      "text/plain": [
       "<Figure size 432x288 with 1 Axes>"
      ]
     },
     "metadata": {
      "needs_background": "light"
     },
     "output_type": "display_data"
    }
   ],
   "source": [
    "#plot sum\n",
    "clnt_monthly_aggregations['mth_txn_amt_sum'].plot.hist()\n",
    "plt.savefig('mth_txn_amt_sum.png')"
   ]
  },
  {
   "cell_type": "code",
   "execution_count": 29,
   "metadata": {},
   "outputs": [
    {
     "name": "stdout",
     "output_type": "stream",
     "text": [
      "Most Common Value: 77\n",
      "Maximum Value: 460\n"
     ]
    }
   ],
   "source": [
    "print('Most Common Value:',clnt_monthly_aggregations['mth_txn_amt_sum'].mode()[0])\n",
    "print('Maximum Value:',clnt_monthly_aggregations['mth_txn_amt_sum'].max())"
   ]
  },
  {
   "cell_type": "code",
   "execution_count": 30,
   "metadata": {},
   "outputs": [
    {
     "data": {
      "image/png": "[encoded data removed]",
      "text/plain": [
       "<Figure size 432x288 with 1 Axes>"
      ]
     },
     "metadata": {
      "needs_background": "light"
     },
     "output_type": "display_data"
    }
   ],
   "source": [
    "#plot count\n",
    "clnt_monthly_aggregations['mth_txn_cnt'].plot.hist(color='g')\n",
    "plt.savefig('mth_txn_cnt.png')"
   ]
  },
  {
   "cell_type": "code",
   "execution_count": 31,
   "metadata": {},
   "outputs": [
    {
     "name": "stdout",
     "output_type": "stream",
     "text": [
      "Most Common Value: 1\n",
      "Maximum Value: 6\n"
     ]
    }
   ],
   "source": [
    "print('Most Common Value:',clnt_monthly_aggregations['mth_txn_cnt'].mode()[0])\n",
    "print('Maximum Value:',clnt_monthly_aggregations['mth_txn_cnt'].max())"
   ]
  },
  {
   "cell_type": "markdown",
   "metadata": {},
   "source": [
    "### 1.4 Create the base table for the rolling window features"
   ]
  },
  {
   "cell_type": "markdown",
   "metadata": {},
   "source": [
    "##### &emsp;&emsp;&emsp; - 1. Create the numpy array of the unique elements in columns ’customer_id’ and ’ME_DT’ of the <b>txn</b> table you created in section 1.1. Confirm that you have 6,889 unique clients and 47 unique month-end-dates."
   ]
  },
  {
   "cell_type": "code",
   "execution_count": 32,
   "metadata": {},
   "outputs": [],
   "source": [
    "clnt_no = txn['customer_id'].unique()\n",
    "me_dt = txn['ME_DT'].unique()"
   ]
  },
  {
   "cell_type": "code",
   "execution_count": 33,
   "metadata": {},
   "outputs": [
    {
     "name": "stdout",
     "output_type": "stream",
     "text": [
      "Number of unique clients: 6889\n",
      "Number of unique month-end-dates: 47\n"
     ]
    }
   ],
   "source": [
    "print('Number of unique clients:',len(clnt_no))\n",
    "print('Number of unique month-end-dates:',len(me_dt))"
   ]
  },
  {
   "cell_type": "markdown",
   "metadata": {},
   "source": [
    "##### &emsp;&emsp;&emsp; - 2. Use itertools.product to generate all the possible combinations of ’customer_id’ and ’ME_DT’. Itertools is a Python module that iterates over data in a computationally efficient way. You can perform the same task with a for-loop, but the execution may be inefficient. For a brief overview of the Itertools module see here. If you named the numpy arrays with the unique elements: <b>clnt_no</b> and <b>me_dt</b>, then the code below will create an itertools.product object (you can confirm this by running: type(base table))."
   ]
  },
  {
   "cell_type": "code",
   "execution_count": 34,
   "metadata": {},
   "outputs": [],
   "source": [
    "from itertools import product\n",
    "base_table = product(clnt_no,me_dt)"
   ]
  },
  {
   "cell_type": "markdown",
   "metadata": {},
   "source": [
    "##### &emsp;&emsp;&emsp; - 3. Next, you want to convert the itertools.product object <b>base_table</b> into a pandas object called <b>base_table_pd</b>. To do so, use pd.DataFrame.from records and name the columns ’CLNT_NO’ and ’ME_DT’."
   ]
  },
  {
   "cell_type": "code",
   "execution_count": 35,
   "metadata": {},
   "outputs": [],
   "source": [
    "base_table_pd = pd.DataFrame.from_records(base_table,columns=['CLNT_NO','ME_DT'])"
   ]
  },
  {
   "cell_type": "markdown",
   "metadata": {},
   "source": [
    "##### &emsp;&emsp;&emsp; - 4. Finally, you want to validate that you created the table you originally wanted. There are two checks you want to perform:\n",
    "\n",
    "- Filter client CS1112 and confirm that the dates fall between the min and max month-dates you identified in section 1.1. Also, confirm that the snapshot of client CS1112 has 47 rows, one for each month in the dataset.\n",
    "\n",
    "- Confirm that the <b>base_table_pd</b> has 323,783 rows, which is the expected value of combinations for 6,889 unique clients and 47 unique month-end dates."
   ]
  },
  {
   "cell_type": "code",
   "execution_count": 36,
   "metadata": {},
   "outputs": [
    {
     "data": {
      "text/plain": [
       "Timestamp('2011-05-31 00:00:00')"
      ]
     },
     "execution_count": 36,
     "metadata": {},
     "output_type": "execute_result"
    }
   ],
   "source": [
    "base_table_pd[base_table_pd['CLNT_NO']=='CS1112']['ME_DT'].min()"
   ]
  },
  {
   "cell_type": "code",
   "execution_count": 37,
   "metadata": {},
   "outputs": [
    {
     "data": {
      "text/plain": [
       "Timestamp('2015-03-31 00:00:00')"
      ]
     },
     "execution_count": 37,
     "metadata": {},
     "output_type": "execute_result"
    }
   ],
   "source": [
    "base_table_pd[base_table_pd['CLNT_NO']=='CS1112']['ME_DT'].max()"
   ]
  },
  {
   "cell_type": "code",
   "execution_count": 38,
   "metadata": {},
   "outputs": [
    {
     "data": {
      "text/plain": [
       "47"
      ]
     },
     "execution_count": 38,
     "metadata": {},
     "output_type": "execute_result"
    }
   ],
   "source": [
    "#client CS1112\n",
    "len(base_table_pd[base_table_pd['CLNT_NO']=='CS1112'])"
   ]
  },
  {
   "cell_type": "code",
   "execution_count": 39,
   "metadata": {},
   "outputs": [
    {
     "data": {
      "text/plain": [
       "323783"
      ]
     },
     "execution_count": 39,
     "metadata": {},
     "output_type": "execute_result"
    }
   ],
   "source": [
    "#number of rows\n",
    "len(base_table_pd)"
   ]
  },
  {
   "cell_type": "code",
   "execution_count": 40,
   "metadata": {},
   "outputs": [
    {
     "data": {
      "text/plain": [
       "6889"
      ]
     },
     "execution_count": 40,
     "metadata": {},
     "output_type": "execute_result"
    }
   ],
   "source": [
    "# unique clients\n",
    "base_table_pd['CLNT_NO'].nunique()"
   ]
  },
  {
   "cell_type": "code",
   "execution_count": 41,
   "metadata": {},
   "outputs": [
    {
     "data": {
      "text/plain": [
       "47"
      ]
     },
     "execution_count": 41,
     "metadata": {},
     "output_type": "execute_result"
    }
   ],
   "source": [
    "#unique month-end dates\n",
    "base_table_pd['ME_DT'].nunique()"
   ]
  },
  {
   "cell_type": "markdown",
   "metadata": {},
   "source": [
    "### 1.5 Create the monthly rolling window features"
   ]
  },
  {
   "cell_type": "markdown",
   "metadata": {},
   "source": [
    "##### &emsp;&emsp;&emsp; - 1. Left-join the <b>base_table_pd</b> with the <b>clnt_monthly_aggregations</b> table from section 1.3 on [CLNT NO, ME DT] to create the table <b>base_clnt_mth</b>. Comment on the following questions in Markdown:\n",
    "- Why do some rows have NaN values?\n",
    "<div style='color:purple'> clnt_monthly_aggregations table doesn't have matched records in the the base_table_pd.\n",
    "- What values will you choose to impute NaN values in the sum and count columns? Perform the imputation you suggest.\n",
    "<div style='color:purple'> Missing values will still be filled with 0s since it indicates the customer had no transactions at that month.\n",
    "- Confirm that the number of rows is what you expect. What is the value?\n",
    "<div style='color:purple'> 323783 rows which matches the number of rows in base_table_pd\n",
    "- How are tables <b>base_clnt_mth</b> and <b>clnt_monthly_aggregations</b> different? Comment on the number of rows and the content of each table.\n",
    "<div style='color:purple'> base_clnt_mth includes all the combinations of customers and months but clnt_monthly_aggregations table only has all the records for customers had transactions in a certain month (only has 103234 transactional records)."
   ]
  },
  {
   "cell_type": "code",
   "execution_count": 42,
   "metadata": {},
   "outputs": [],
   "source": [
    "clnt_monthly_aggregations.index.set_names(['CLNT_NO','ME_DT'],inplace=True)"
   ]
  },
  {
   "cell_type": "code",
   "execution_count": 43,
   "metadata": {},
   "outputs": [],
   "source": [
    "base_clnt_mth = pd.merge(base_table_pd,clnt_monthly_aggregations,on=['CLNT_NO','ME_DT'],how='left').fillna(0)"
   ]
  },
  {
   "cell_type": "code",
   "execution_count": 44,
   "metadata": {},
   "outputs": [
    {
     "data": {
      "text/plain": [
       "323783"
      ]
     },
     "execution_count": 44,
     "metadata": {},
     "output_type": "execute_result"
    }
   ],
   "source": [
    "len(base_clnt_mth)"
   ]
  },
  {
   "cell_type": "code",
   "execution_count": 45,
   "metadata": {},
   "outputs": [
    {
     "data": {
      "text/plain": [
       "103234"
      ]
     },
     "execution_count": 45,
     "metadata": {},
     "output_type": "execute_result"
    }
   ],
   "source": [
    "len(clnt_monthly_aggregations)"
   ]
  },
  {
   "cell_type": "markdown",
   "metadata": {},
   "source": [
    "##### &emsp;&emsp;&emsp; - 2. For the next step, the calculation of the rolling window features, you need to sort the data first by ’CLNT_NO’ and then by ’ME_DT’ in ascending order. This is necessary to create the order for rolling windows, e.g. 2011-05-31, 2011-06-30, etc."
   ]
  },
  {
   "cell_type": "code",
   "execution_count": 46,
   "metadata": {},
   "outputs": [],
   "source": [
    "base_clnt_mth.sort_values(['CLNT_NO','ME_DT'],inplace=True)"
   ]
  },
  {
   "cell_type": "markdown",
   "metadata": {},
   "source": [
    "##### &emsp;&emsp;&emsp; - 3. Here, you have to calculate separately the 3, 6 and 12-month rolling window features (tables: <b>rolling_features_3M, rolling_features_6M, rolling_features_12M</b>) for every client that calculates the aggregations ’sum’, mean’ and ’max’ for both columns ’mth_txn_amt_sum’ and ’mth_txn_cnt’. The steps to achieve this with <b>base_clnt_mth</b> as the starting dataframe are:\n",
    "- groupby the client number\n",
    "- select the two columns you want to aggregate\n",
    "- use the rolling function with the appropriate windows\n",
    "- aggregate with ’sum’, mean’ and ’max’\n",
    "\n",
    "##### &emsp;&emsp;&emsp; Also, answer the following questions in the .ipynb notebook as Markdown comments.\n",
    "\n",
    "- How many rows appear with NaN values at the beginning of each client for 3, 6 and 12-month windows, respectively? Why do they appear?\n",
    "<div style='color:purple'>2, 5 and 11 rows of missing values respectively since rolling window function will make top rows have no enough window to calculate the numbers.\n",
    "\n",
    "- How many levels do the index and columns have? Are these MultiIndex dataframes?\n",
    "<div style='color:purple'> Both index and columns have 2 levels, so they are MultiIndex dataframe.\n",
    "\n",
    "- Rename the columns as following: ’amt_sum_3M’, ’amt_mean_3M’, ’amt_max_3M’, ’txn_cnt_sum_3M’, ’txn_cnt_mean_3M’, ’txn_cnt_max_3M’ and follow the same naming convention for 6M and 12M."
   ]
  },
  {
   "cell_type": "code",
   "execution_count": 47,
   "metadata": {},
   "outputs": [
    {
     "name": "stderr",
     "output_type": "stream",
     "text": [
      "/Users/barry/opt/anaconda3/lib/python3.7/site-packages/pandas/core/window.py:1835: FutureWarning: using a dict with renaming is deprecated and will be removed\n",
      "in a future version.\n",
      "\n",
      "For column-specific groupby renaming, use named aggregation\n",
      "\n",
      "    >>> df.groupby(...).agg(name=('column', aggfunc))\n",
      "\n",
      "  return super().aggregate(arg, *args, **kwargs)\n"
     ]
    }
   ],
   "source": [
    "rolling_features_3M = base_clnt_mth.groupby('CLNT_NO')[['mth_txn_amt_sum','mth_txn_cnt']].rolling(3).agg({\"sum\": \"sum\", \"mean\": \"mean\",\"max\": \"max\"})\n",
    "rolling_features_3M.columns = rolling_features_3M.columns.swaplevel(0,1)\n",
    "rolling_features_3M.sort_index(axis=1, level=[0,1],inplace=True,ascending=[True,False])"
   ]
  },
  {
   "cell_type": "code",
   "execution_count": 48,
   "metadata": {},
   "outputs": [
    {
     "data": {
      "text/html": [
       "<div>\n",
       "<style scoped>\n",
       "    .dataframe tbody tr th:only-of-type {\n",
       "        vertical-align: middle;\n",
       "    }\n",
       "\n",
       "    .dataframe tbody tr th {\n",
       "        vertical-align: top;\n",
       "    }\n",
       "\n",
       "    .dataframe thead tr th {\n",
       "        text-align: left;\n",
       "    }\n",
       "\n",
       "    .dataframe thead tr:last-of-type th {\n",
       "        text-align: right;\n",
       "    }\n",
       "</style>\n",
       "<table border=\"1\" class=\"dataframe\">\n",
       "  <thead>\n",
       "    <tr>\n",
       "      <th></th>\n",
       "      <th></th>\n",
       "      <th colspan=\"3\" halign=\"left\">mth_txn_amt_sum</th>\n",
       "      <th colspan=\"3\" halign=\"left\">mth_txn_cnt</th>\n",
       "    </tr>\n",
       "    <tr>\n",
       "      <th></th>\n",
       "      <th></th>\n",
       "      <th>sum</th>\n",
       "      <th>mean</th>\n",
       "      <th>max</th>\n",
       "      <th>sum</th>\n",
       "      <th>mean</th>\n",
       "      <th>max</th>\n",
       "    </tr>\n",
       "    <tr>\n",
       "      <th>CLNT_NO</th>\n",
       "      <th></th>\n",
       "      <th></th>\n",
       "      <th></th>\n",
       "      <th></th>\n",
       "      <th></th>\n",
       "      <th></th>\n",
       "      <th></th>\n",
       "    </tr>\n",
       "  </thead>\n",
       "  <tbody>\n",
       "    <tr>\n",
       "      <td rowspan=\"5\" valign=\"top\">CS1112</td>\n",
       "      <td>157064</td>\n",
       "      <td>NaN</td>\n",
       "      <td>NaN</td>\n",
       "      <td>NaN</td>\n",
       "      <td>NaN</td>\n",
       "      <td>NaN</td>\n",
       "      <td>NaN</td>\n",
       "    </tr>\n",
       "    <tr>\n",
       "      <td>157058</td>\n",
       "      <td>NaN</td>\n",
       "      <td>NaN</td>\n",
       "      <td>NaN</td>\n",
       "      <td>NaN</td>\n",
       "      <td>NaN</td>\n",
       "      <td>NaN</td>\n",
       "    </tr>\n",
       "    <tr>\n",
       "      <td>157044</td>\n",
       "      <td>56.0</td>\n",
       "      <td>18.666667</td>\n",
       "      <td>56.0</td>\n",
       "      <td>1.0</td>\n",
       "      <td>0.333333</td>\n",
       "      <td>1.0</td>\n",
       "    </tr>\n",
       "    <tr>\n",
       "      <td>157069</td>\n",
       "      <td>152.0</td>\n",
       "      <td>50.666667</td>\n",
       "      <td>96.0</td>\n",
       "      <td>2.0</td>\n",
       "      <td>0.666667</td>\n",
       "      <td>1.0</td>\n",
       "    </tr>\n",
       "    <tr>\n",
       "      <td>157060</td>\n",
       "      <td>96.0</td>\n",
       "      <td>32.000000</td>\n",
       "      <td>96.0</td>\n",
       "      <td>1.0</td>\n",
       "      <td>0.333333</td>\n",
       "      <td>1.0</td>\n",
       "    </tr>\n",
       "  </tbody>\n",
       "</table>\n",
       "</div>"
      ],
      "text/plain": [
       "               mth_txn_amt_sum                  mth_txn_cnt               \n",
       "                           sum       mean   max         sum      mean  max\n",
       "CLNT_NO                                                                   \n",
       "CS1112  157064             NaN        NaN   NaN         NaN       NaN  NaN\n",
       "        157058             NaN        NaN   NaN         NaN       NaN  NaN\n",
       "        157044            56.0  18.666667  56.0         1.0  0.333333  1.0\n",
       "        157069           152.0  50.666667  96.0         2.0  0.666667  1.0\n",
       "        157060            96.0  32.000000  96.0         1.0  0.333333  1.0"
      ]
     },
     "execution_count": 48,
     "metadata": {},
     "output_type": "execute_result"
    }
   ],
   "source": [
    "#check output\n",
    "rolling_features_3M.head()"
   ]
  },
  {
   "cell_type": "code",
   "execution_count": 49,
   "metadata": {},
   "outputs": [],
   "source": [
    "rolling_features_3M.columns = ['amt_sum_3M','amt_mean_3M','amt_max_3M','txn_cnt_sum_3M','txn_cnt_mean_3M','txn_cnt_max_3M']"
   ]
  },
  {
   "cell_type": "code",
   "execution_count": 50,
   "metadata": {},
   "outputs": [],
   "source": [
    "rolling_features_6M = base_clnt_mth.groupby('CLNT_NO')[['mth_txn_amt_sum','mth_txn_cnt']].rolling(6).agg({\"sum\": \"sum\", \"mean\": \"mean\",\"max\": \"max\"})\n",
    "rolling_features_6M.columns = rolling_features_6M.columns.swaplevel(0,1)\n",
    "rolling_features_6M.sort_index(axis=1, level=[0,1],inplace=True,ascending=[True,False])"
   ]
  },
  {
   "cell_type": "code",
   "execution_count": 51,
   "metadata": {},
   "outputs": [],
   "source": [
    "rolling_features_6M.columns = ['amt_sum_6M','amt_mean_6M','amt_max_6M','txn_cnt_sum_6M','txn_cnt_mean_6M','txn_cnt_max_6M']"
   ]
  },
  {
   "cell_type": "code",
   "execution_count": 52,
   "metadata": {},
   "outputs": [],
   "source": [
    "rolling_features_12M = base_clnt_mth.groupby('CLNT_NO')[['mth_txn_amt_sum','mth_txn_cnt']].rolling(12).agg({\"sum\": \"sum\", \"mean\": \"mean\",\"max\": \"max\"})\n",
    "rolling_features_12M.columns = rolling_features_12M.columns.swaplevel(0,1)\n",
    "rolling_features_12M.sort_index(axis=1, level=[0,1],inplace=True,ascending=[True,False])"
   ]
  },
  {
   "cell_type": "code",
   "execution_count": 53,
   "metadata": {},
   "outputs": [],
   "source": [
    "rolling_features_12M.columns = ['amt_sum_12M','amt_mean_12M','amt_max_12M','txn_cnt_sum_12M','txn_cnt_mean_12M','txn_cnt_max_12M']"
   ]
  },
  {
   "cell_type": "markdown",
   "metadata": {},
   "source": [
    "##### &emsp;&emsp;&emsp; - 4. Merge the 4 tables: <b>base_clnt_mth, rolling_features_3M, rolling_features_6M, rolling_features_12M</b> in the output <b>all_rolling_features</b>. It is recommended to drop the level:0 of the rolling features MultiIndex table and join with <b>base_clnt_mth</b> on the indexes. Make sure you understand why joining on the indexes preserves the CLNT_NO and ME_DT for each index."
   ]
  },
  {
   "cell_type": "code",
   "execution_count": 54,
   "metadata": {},
   "outputs": [],
   "source": [
    "rolling_features_3M.index = rolling_features_3M.index.droplevel(0)\n",
    "rolling_features_6M.index = rolling_features_6M.index.droplevel(0)\n",
    "rolling_features_12M.index = rolling_features_12M.index.droplevel(0)"
   ]
  },
  {
   "cell_type": "code",
   "execution_count": 55,
   "metadata": {},
   "outputs": [],
   "source": [
    "all_rolling_features = base_clnt_mth.join(rolling_features_3M).join(rolling_features_6M).join(rolling_features_12M)"
   ]
  },
  {
   "cell_type": "markdown",
   "metadata": {},
   "source": [
    "##### &emsp;&emsp;&emsp; - 5. Confirm that your final output <b>all_rolling_features</b> has 323,783 rows and 22 columns and save it as <b>mth_rolling_features.xlsx</b>."
   ]
  },
  {
   "cell_type": "code",
   "execution_count": 56,
   "metadata": {},
   "outputs": [
    {
     "data": {
      "text/plain": [
       "(323783, 22)"
      ]
     },
     "execution_count": 56,
     "metadata": {},
     "output_type": "execute_result"
    }
   ],
   "source": [
    "all_rolling_features.shape"
   ]
  },
  {
   "cell_type": "code",
   "execution_count": 57,
   "metadata": {},
   "outputs": [],
   "source": [
    "# all_rolling_features.to_excel('mth_rolling_features.xlsx')"
   ]
  },
  {
   "cell_type": "markdown",
   "metadata": {},
   "source": [
    "### 1.6 Date-related features: date of the week"
   ]
  },
  {
   "cell_type": "markdown",
   "metadata": {},
   "source": [
    "##### &emsp;&emsp;&emsp; - 1. The DatetimeIndex object you used earlier allows you to extract many components of a DateTime object. Here, you want to use the attributes <b>dt.dayofweek</b> and/or <b>dt.day name()</b> to extract the day of the week from column ’txn date’ of the <b>txn</b> table (with Monday=0, Sunday=6). The expected output below shows both columns."
   ]
  },
  {
   "cell_type": "code",
   "execution_count": 58,
   "metadata": {},
   "outputs": [],
   "source": [
    "txn['day_of_the_week'] = txn['txn_date'].dt.dayofweek\n",
    "txn['day_name'] = txn['txn_date'].dt.day_name()"
   ]
  },
  {
   "cell_type": "code",
   "execution_count": 59,
   "metadata": {},
   "outputs": [
    {
     "data": {
      "text/html": [
       "<div>\n",
       "<style scoped>\n",
       "    .dataframe tbody tr th:only-of-type {\n",
       "        vertical-align: middle;\n",
       "    }\n",
       "\n",
       "    .dataframe tbody tr th {\n",
       "        vertical-align: top;\n",
       "    }\n",
       "\n",
       "    .dataframe thead th {\n",
       "        text-align: right;\n",
       "    }\n",
       "</style>\n",
       "<table border=\"1\" class=\"dataframe\">\n",
       "  <thead>\n",
       "    <tr style=\"text-align: right;\">\n",
       "      <th></th>\n",
       "      <th>customer_id</th>\n",
       "      <th>tran_amount</th>\n",
       "      <th>txn_date</th>\n",
       "      <th>ME_DT</th>\n",
       "      <th>YEAR</th>\n",
       "      <th>day_of_the_week</th>\n",
       "      <th>day_name</th>\n",
       "    </tr>\n",
       "  </thead>\n",
       "  <tbody>\n",
       "    <tr>\n",
       "      <td>0</td>\n",
       "      <td>CS5295</td>\n",
       "      <td>35</td>\n",
       "      <td>2013-02-11</td>\n",
       "      <td>2013-02-28</td>\n",
       "      <td>2013</td>\n",
       "      <td>0</td>\n",
       "      <td>Monday</td>\n",
       "    </tr>\n",
       "    <tr>\n",
       "      <td>1</td>\n",
       "      <td>CS4768</td>\n",
       "      <td>39</td>\n",
       "      <td>2015-03-15</td>\n",
       "      <td>2015-03-31</td>\n",
       "      <td>2015</td>\n",
       "      <td>6</td>\n",
       "      <td>Sunday</td>\n",
       "    </tr>\n",
       "    <tr>\n",
       "      <td>2</td>\n",
       "      <td>CS2122</td>\n",
       "      <td>52</td>\n",
       "      <td>2013-02-26</td>\n",
       "      <td>2013-02-28</td>\n",
       "      <td>2013</td>\n",
       "      <td>1</td>\n",
       "      <td>Tuesday</td>\n",
       "    </tr>\n",
       "    <tr>\n",
       "      <td>3</td>\n",
       "      <td>CS1217</td>\n",
       "      <td>99</td>\n",
       "      <td>2011-11-16</td>\n",
       "      <td>2011-11-30</td>\n",
       "      <td>2011</td>\n",
       "      <td>2</td>\n",
       "      <td>Wednesday</td>\n",
       "    </tr>\n",
       "    <tr>\n",
       "      <td>4</td>\n",
       "      <td>CS1850</td>\n",
       "      <td>78</td>\n",
       "      <td>2013-11-20</td>\n",
       "      <td>2013-11-30</td>\n",
       "      <td>2013</td>\n",
       "      <td>2</td>\n",
       "      <td>Wednesday</td>\n",
       "    </tr>\n",
       "  </tbody>\n",
       "</table>\n",
       "</div>"
      ],
      "text/plain": [
       "  customer_id  tran_amount   txn_date      ME_DT  YEAR  day_of_the_week  \\\n",
       "0      CS5295           35 2013-02-11 2013-02-28  2013                0   \n",
       "1      CS4768           39 2015-03-15 2015-03-31  2015                6   \n",
       "2      CS2122           52 2013-02-26 2013-02-28  2013                1   \n",
       "3      CS1217           99 2011-11-16 2011-11-30  2011                2   \n",
       "4      CS1850           78 2013-11-20 2013-11-30  2013                2   \n",
       "\n",
       "    day_name  \n",
       "0     Monday  \n",
       "1     Sunday  \n",
       "2    Tuesday  \n",
       "3  Wednesday  \n",
       "4  Wednesday  "
      ]
     },
     "execution_count": 59,
     "metadata": {},
     "output_type": "execute_result"
    }
   ],
   "source": [
    "# check output\n",
    "txn.head()"
   ]
  },
  {
   "cell_type": "code",
   "execution_count": 60,
   "metadata": {},
   "outputs": [
    {
     "data": {
      "text/plain": [
       "array(['Monday', 'Sunday', 'Tuesday', 'Wednesday', 'Friday', 'Saturday',\n",
       "       'Thursday'], dtype=object)"
      ]
     },
     "execution_count": 60,
     "metadata": {},
     "output_type": "execute_result"
    }
   ],
   "source": [
    "txn.day_name.unique()"
   ]
  },
  {
   "cell_type": "markdown",
   "metadata": {},
   "source": [
    "##### &emsp;&emsp;&emsp; - 2. Plot the histogram that shows the count of transactions per day of the week"
   ]
  },
  {
   "cell_type": "code",
   "execution_count": 61,
   "metadata": {},
   "outputs": [
    {
     "data": {
      "image/png": "[encoded data removed]",
      "text/plain": [
       "<Figure size 432x288 with 1 Axes>"
      ]
     },
     "metadata": {
      "needs_background": "light"
     },
     "output_type": "display_data"
    }
   ],
   "source": [
    "txn.groupby('day_of_the_week')['customer_id'].count().plot.bar()\n",
    "plt.savefig('transaction_per_day.png')"
   ]
  },
  {
   "cell_type": "markdown",
   "metadata": {},
   "source": [
    "##### &emsp;&emsp;&emsp; - 3. Following the same logic as in section 1.2, generate the features that capture the count of transactions per client, year and day of the week. The intermediate MultiIndex dataframe (with nlevels=3) and the final pivoted output with a single index are shown in the snapshots below.\n",
    "\n",
    "<div style='color:purple'> There are 35 new features created since 7 * 5 = 35"
   ]
  },
  {
   "cell_type": "code",
   "execution_count": 62,
   "metadata": {},
   "outputs": [],
   "source": [
    "temp = txn.groupby(['customer_id','YEAR','day_name'])['tran_amount'].count()\\\n",
    "                                                                    .reset_index()\\\n",
    "                                                                    .pivot_table(columns=['YEAR','day_name'],index='customer_id')\\\n",
    "                                                                    .fillna(0)"
   ]
  },
  {
   "cell_type": "code",
   "execution_count": 63,
   "metadata": {},
   "outputs": [
    {
     "data": {
      "text/plain": [
       "3"
      ]
     },
     "execution_count": 63,
     "metadata": {},
     "output_type": "execute_result"
    }
   ],
   "source": [
    "temp.columns.nlevels"
   ]
  },
  {
   "cell_type": "code",
   "execution_count": 64,
   "metadata": {},
   "outputs": [],
   "source": [
    "level1 = temp.columns.get_level_values(1).astype(str)\n",
    "level2 = temp.columns.get_level_values(2).astype(str)\n",
    "temp.columns = 'cnt_' + level1 + '_' + level2"
   ]
  },
  {
   "cell_type": "code",
   "execution_count": 65,
   "metadata": {},
   "outputs": [
    {
     "data": {
      "text/html": [
       "<div>\n",
       "<style scoped>\n",
       "    .dataframe tbody tr th:only-of-type {\n",
       "        vertical-align: middle;\n",
       "    }\n",
       "\n",
       "    .dataframe tbody tr th {\n",
       "        vertical-align: top;\n",
       "    }\n",
       "\n",
       "    .dataframe thead th {\n",
       "        text-align: right;\n",
       "    }\n",
       "</style>\n",
       "<table border=\"1\" class=\"dataframe\">\n",
       "  <thead>\n",
       "    <tr style=\"text-align: right;\">\n",
       "      <th></th>\n",
       "      <th>cnt_2011_Friday</th>\n",
       "      <th>cnt_2011_Monday</th>\n",
       "      <th>cnt_2011_Saturday</th>\n",
       "      <th>cnt_2011_Sunday</th>\n",
       "      <th>cnt_2011_Thursday</th>\n",
       "      <th>cnt_2011_Tuesday</th>\n",
       "      <th>cnt_2011_Wednesday</th>\n",
       "      <th>cnt_2012_Friday</th>\n",
       "      <th>cnt_2012_Monday</th>\n",
       "      <th>cnt_2012_Saturday</th>\n",
       "      <th>...</th>\n",
       "      <th>cnt_2014_Thursday</th>\n",
       "      <th>cnt_2014_Tuesday</th>\n",
       "      <th>cnt_2014_Wednesday</th>\n",
       "      <th>cnt_2015_Friday</th>\n",
       "      <th>cnt_2015_Monday</th>\n",
       "      <th>cnt_2015_Saturday</th>\n",
       "      <th>cnt_2015_Sunday</th>\n",
       "      <th>cnt_2015_Thursday</th>\n",
       "      <th>cnt_2015_Tuesday</th>\n",
       "      <th>cnt_2015_Wednesday</th>\n",
       "    </tr>\n",
       "    <tr>\n",
       "      <th>customer_id</th>\n",
       "      <th></th>\n",
       "      <th></th>\n",
       "      <th></th>\n",
       "      <th></th>\n",
       "      <th></th>\n",
       "      <th></th>\n",
       "      <th></th>\n",
       "      <th></th>\n",
       "      <th></th>\n",
       "      <th></th>\n",
       "      <th></th>\n",
       "      <th></th>\n",
       "      <th></th>\n",
       "      <th></th>\n",
       "      <th></th>\n",
       "      <th></th>\n",
       "      <th></th>\n",
       "      <th></th>\n",
       "      <th></th>\n",
       "      <th></th>\n",
       "      <th></th>\n",
       "    </tr>\n",
       "  </thead>\n",
       "  <tbody>\n",
       "    <tr>\n",
       "      <td>CS1112</td>\n",
       "      <td>1.0</td>\n",
       "      <td>0.0</td>\n",
       "      <td>0.0</td>\n",
       "      <td>1.0</td>\n",
       "      <td>0.0</td>\n",
       "      <td>0.0</td>\n",
       "      <td>1.0</td>\n",
       "      <td>0.0</td>\n",
       "      <td>0.0</td>\n",
       "      <td>1.0</td>\n",
       "      <td>...</td>\n",
       "      <td>1.0</td>\n",
       "      <td>1.0</td>\n",
       "      <td>1.0</td>\n",
       "      <td>0.0</td>\n",
       "      <td>0.0</td>\n",
       "      <td>0.0</td>\n",
       "      <td>0.0</td>\n",
       "      <td>0.0</td>\n",
       "      <td>0.0</td>\n",
       "      <td>1.0</td>\n",
       "    </tr>\n",
       "    <tr>\n",
       "      <td>CS1113</td>\n",
       "      <td>1.0</td>\n",
       "      <td>1.0</td>\n",
       "      <td>0.0</td>\n",
       "      <td>1.0</td>\n",
       "      <td>0.0</td>\n",
       "      <td>0.0</td>\n",
       "      <td>0.0</td>\n",
       "      <td>2.0</td>\n",
       "      <td>1.0</td>\n",
       "      <td>0.0</td>\n",
       "      <td>...</td>\n",
       "      <td>0.0</td>\n",
       "      <td>3.0</td>\n",
       "      <td>0.0</td>\n",
       "      <td>0.0</td>\n",
       "      <td>2.0</td>\n",
       "      <td>0.0</td>\n",
       "      <td>0.0</td>\n",
       "      <td>0.0</td>\n",
       "      <td>0.0</td>\n",
       "      <td>1.0</td>\n",
       "    </tr>\n",
       "    <tr>\n",
       "      <td>CS1114</td>\n",
       "      <td>0.0</td>\n",
       "      <td>1.0</td>\n",
       "      <td>0.0</td>\n",
       "      <td>1.0</td>\n",
       "      <td>1.0</td>\n",
       "      <td>0.0</td>\n",
       "      <td>2.0</td>\n",
       "      <td>0.0</td>\n",
       "      <td>0.0</td>\n",
       "      <td>1.0</td>\n",
       "      <td>...</td>\n",
       "      <td>0.0</td>\n",
       "      <td>1.0</td>\n",
       "      <td>1.0</td>\n",
       "      <td>0.0</td>\n",
       "      <td>0.0</td>\n",
       "      <td>0.0</td>\n",
       "      <td>0.0</td>\n",
       "      <td>1.0</td>\n",
       "      <td>0.0</td>\n",
       "      <td>0.0</td>\n",
       "    </tr>\n",
       "    <tr>\n",
       "      <td>CS1115</td>\n",
       "      <td>0.0</td>\n",
       "      <td>0.0</td>\n",
       "      <td>1.0</td>\n",
       "      <td>1.0</td>\n",
       "      <td>0.0</td>\n",
       "      <td>0.0</td>\n",
       "      <td>1.0</td>\n",
       "      <td>1.0</td>\n",
       "      <td>1.0</td>\n",
       "      <td>0.0</td>\n",
       "      <td>...</td>\n",
       "      <td>2.0</td>\n",
       "      <td>0.0</td>\n",
       "      <td>2.0</td>\n",
       "      <td>0.0</td>\n",
       "      <td>0.0</td>\n",
       "      <td>0.0</td>\n",
       "      <td>0.0</td>\n",
       "      <td>1.0</td>\n",
       "      <td>0.0</td>\n",
       "      <td>0.0</td>\n",
       "    </tr>\n",
       "    <tr>\n",
       "      <td>CS1116</td>\n",
       "      <td>1.0</td>\n",
       "      <td>1.0</td>\n",
       "      <td>0.0</td>\n",
       "      <td>0.0</td>\n",
       "      <td>1.0</td>\n",
       "      <td>1.0</td>\n",
       "      <td>0.0</td>\n",
       "      <td>1.0</td>\n",
       "      <td>0.0</td>\n",
       "      <td>0.0</td>\n",
       "      <td>...</td>\n",
       "      <td>0.0</td>\n",
       "      <td>0.0</td>\n",
       "      <td>0.0</td>\n",
       "      <td>0.0</td>\n",
       "      <td>0.0</td>\n",
       "      <td>0.0</td>\n",
       "      <td>0.0</td>\n",
       "      <td>0.0</td>\n",
       "      <td>0.0</td>\n",
       "      <td>0.0</td>\n",
       "    </tr>\n",
       "    <tr>\n",
       "      <td>...</td>\n",
       "      <td>...</td>\n",
       "      <td>...</td>\n",
       "      <td>...</td>\n",
       "      <td>...</td>\n",
       "      <td>...</td>\n",
       "      <td>...</td>\n",
       "      <td>...</td>\n",
       "      <td>...</td>\n",
       "      <td>...</td>\n",
       "      <td>...</td>\n",
       "      <td>...</td>\n",
       "      <td>...</td>\n",
       "      <td>...</td>\n",
       "      <td>...</td>\n",
       "      <td>...</td>\n",
       "      <td>...</td>\n",
       "      <td>...</td>\n",
       "      <td>...</td>\n",
       "      <td>...</td>\n",
       "      <td>...</td>\n",
       "      <td>...</td>\n",
       "    </tr>\n",
       "    <tr>\n",
       "      <td>CS8996</td>\n",
       "      <td>0.0</td>\n",
       "      <td>1.0</td>\n",
       "      <td>0.0</td>\n",
       "      <td>0.0</td>\n",
       "      <td>0.0</td>\n",
       "      <td>1.0</td>\n",
       "      <td>0.0</td>\n",
       "      <td>0.0</td>\n",
       "      <td>0.0</td>\n",
       "      <td>3.0</td>\n",
       "      <td>...</td>\n",
       "      <td>1.0</td>\n",
       "      <td>1.0</td>\n",
       "      <td>2.0</td>\n",
       "      <td>0.0</td>\n",
       "      <td>0.0</td>\n",
       "      <td>0.0</td>\n",
       "      <td>0.0</td>\n",
       "      <td>0.0</td>\n",
       "      <td>0.0</td>\n",
       "      <td>0.0</td>\n",
       "    </tr>\n",
       "    <tr>\n",
       "      <td>CS8997</td>\n",
       "      <td>0.0</td>\n",
       "      <td>0.0</td>\n",
       "      <td>0.0</td>\n",
       "      <td>0.0</td>\n",
       "      <td>1.0</td>\n",
       "      <td>0.0</td>\n",
       "      <td>1.0</td>\n",
       "      <td>1.0</td>\n",
       "      <td>2.0</td>\n",
       "      <td>0.0</td>\n",
       "      <td>...</td>\n",
       "      <td>0.0</td>\n",
       "      <td>0.0</td>\n",
       "      <td>0.0</td>\n",
       "      <td>0.0</td>\n",
       "      <td>0.0</td>\n",
       "      <td>0.0</td>\n",
       "      <td>0.0</td>\n",
       "      <td>0.0</td>\n",
       "      <td>0.0</td>\n",
       "      <td>0.0</td>\n",
       "    </tr>\n",
       "    <tr>\n",
       "      <td>CS8998</td>\n",
       "      <td>0.0</td>\n",
       "      <td>0.0</td>\n",
       "      <td>0.0</td>\n",
       "      <td>0.0</td>\n",
       "      <td>0.0</td>\n",
       "      <td>1.0</td>\n",
       "      <td>1.0</td>\n",
       "      <td>2.0</td>\n",
       "      <td>0.0</td>\n",
       "      <td>0.0</td>\n",
       "      <td>...</td>\n",
       "      <td>0.0</td>\n",
       "      <td>1.0</td>\n",
       "      <td>1.0</td>\n",
       "      <td>0.0</td>\n",
       "      <td>0.0</td>\n",
       "      <td>0.0</td>\n",
       "      <td>0.0</td>\n",
       "      <td>0.0</td>\n",
       "      <td>0.0</td>\n",
       "      <td>0.0</td>\n",
       "    </tr>\n",
       "    <tr>\n",
       "      <td>CS8999</td>\n",
       "      <td>0.0</td>\n",
       "      <td>1.0</td>\n",
       "      <td>1.0</td>\n",
       "      <td>0.0</td>\n",
       "      <td>0.0</td>\n",
       "      <td>1.0</td>\n",
       "      <td>0.0</td>\n",
       "      <td>1.0</td>\n",
       "      <td>0.0</td>\n",
       "      <td>2.0</td>\n",
       "      <td>...</td>\n",
       "      <td>0.0</td>\n",
       "      <td>0.0</td>\n",
       "      <td>2.0</td>\n",
       "      <td>0.0</td>\n",
       "      <td>0.0</td>\n",
       "      <td>0.0</td>\n",
       "      <td>0.0</td>\n",
       "      <td>0.0</td>\n",
       "      <td>0.0</td>\n",
       "      <td>0.0</td>\n",
       "    </tr>\n",
       "    <tr>\n",
       "      <td>CS9000</td>\n",
       "      <td>0.0</td>\n",
       "      <td>0.0</td>\n",
       "      <td>0.0</td>\n",
       "      <td>2.0</td>\n",
       "      <td>0.0</td>\n",
       "      <td>0.0</td>\n",
       "      <td>0.0</td>\n",
       "      <td>1.0</td>\n",
       "      <td>0.0</td>\n",
       "      <td>1.0</td>\n",
       "      <td>...</td>\n",
       "      <td>1.0</td>\n",
       "      <td>1.0</td>\n",
       "      <td>0.0</td>\n",
       "      <td>0.0</td>\n",
       "      <td>0.0</td>\n",
       "      <td>1.0</td>\n",
       "      <td>0.0</td>\n",
       "      <td>0.0</td>\n",
       "      <td>0.0</td>\n",
       "      <td>0.0</td>\n",
       "    </tr>\n",
       "  </tbody>\n",
       "</table>\n",
       "<p>6889 rows × 35 columns</p>\n",
       "</div>"
      ],
      "text/plain": [
       "             cnt_2011_Friday  cnt_2011_Monday  cnt_2011_Saturday  \\\n",
       "customer_id                                                        \n",
       "CS1112                   1.0              0.0                0.0   \n",
       "CS1113                   1.0              1.0                0.0   \n",
       "CS1114                   0.0              1.0                0.0   \n",
       "CS1115                   0.0              0.0                1.0   \n",
       "CS1116                   1.0              1.0                0.0   \n",
       "...                      ...              ...                ...   \n",
       "CS8996                   0.0              1.0                0.0   \n",
       "CS8997                   0.0              0.0                0.0   \n",
       "CS8998                   0.0              0.0                0.0   \n",
       "CS8999                   0.0              1.0                1.0   \n",
       "CS9000                   0.0              0.0                0.0   \n",
       "\n",
       "             cnt_2011_Sunday  cnt_2011_Thursday  cnt_2011_Tuesday  \\\n",
       "customer_id                                                         \n",
       "CS1112                   1.0                0.0               0.0   \n",
       "CS1113                   1.0                0.0               0.0   \n",
       "CS1114                   1.0                1.0               0.0   \n",
       "CS1115                   1.0                0.0               0.0   \n",
       "CS1116                   0.0                1.0               1.0   \n",
       "...                      ...                ...               ...   \n",
       "CS8996                   0.0                0.0               1.0   \n",
       "CS8997                   0.0                1.0               0.0   \n",
       "CS8998                   0.0                0.0               1.0   \n",
       "CS8999                   0.0                0.0               1.0   \n",
       "CS9000                   2.0                0.0               0.0   \n",
       "\n",
       "             cnt_2011_Wednesday  cnt_2012_Friday  cnt_2012_Monday  \\\n",
       "customer_id                                                         \n",
       "CS1112                      1.0              0.0              0.0   \n",
       "CS1113                      0.0              2.0              1.0   \n",
       "CS1114                      2.0              0.0              0.0   \n",
       "CS1115                      1.0              1.0              1.0   \n",
       "CS1116                      0.0              1.0              0.0   \n",
       "...                         ...              ...              ...   \n",
       "CS8996                      0.0              0.0              0.0   \n",
       "CS8997                      1.0              1.0              2.0   \n",
       "CS8998                      1.0              2.0              0.0   \n",
       "CS8999                      0.0              1.0              0.0   \n",
       "CS9000                      0.0              1.0              0.0   \n",
       "\n",
       "             cnt_2012_Saturday  ...  cnt_2014_Thursday  cnt_2014_Tuesday  \\\n",
       "customer_id                     ...                                        \n",
       "CS1112                     1.0  ...                1.0               1.0   \n",
       "CS1113                     0.0  ...                0.0               3.0   \n",
       "CS1114                     1.0  ...                0.0               1.0   \n",
       "CS1115                     0.0  ...                2.0               0.0   \n",
       "CS1116                     0.0  ...                0.0               0.0   \n",
       "...                        ...  ...                ...               ...   \n",
       "CS8996                     3.0  ...                1.0               1.0   \n",
       "CS8997                     0.0  ...                0.0               0.0   \n",
       "CS8998                     0.0  ...                0.0               1.0   \n",
       "CS8999                     2.0  ...                0.0               0.0   \n",
       "CS9000                     1.0  ...                1.0               1.0   \n",
       "\n",
       "             cnt_2014_Wednesday  cnt_2015_Friday  cnt_2015_Monday  \\\n",
       "customer_id                                                         \n",
       "CS1112                      1.0              0.0              0.0   \n",
       "CS1113                      0.0              0.0              2.0   \n",
       "CS1114                      1.0              0.0              0.0   \n",
       "CS1115                      2.0              0.0              0.0   \n",
       "CS1116                      0.0              0.0              0.0   \n",
       "...                         ...              ...              ...   \n",
       "CS8996                      2.0              0.0              0.0   \n",
       "CS8997                      0.0              0.0              0.0   \n",
       "CS8998                      1.0              0.0              0.0   \n",
       "CS8999                      2.0              0.0              0.0   \n",
       "CS9000                      0.0              0.0              0.0   \n",
       "\n",
       "             cnt_2015_Saturday  cnt_2015_Sunday  cnt_2015_Thursday  \\\n",
       "customer_id                                                          \n",
       "CS1112                     0.0              0.0                0.0   \n",
       "CS1113                     0.0              0.0                0.0   \n",
       "CS1114                     0.0              0.0                1.0   \n",
       "CS1115                     0.0              0.0                1.0   \n",
       "CS1116                     0.0              0.0                0.0   \n",
       "...                        ...              ...                ...   \n",
       "CS8996                     0.0              0.0                0.0   \n",
       "CS8997                     0.0              0.0                0.0   \n",
       "CS8998                     0.0              0.0                0.0   \n",
       "CS8999                     0.0              0.0                0.0   \n",
       "CS9000                     1.0              0.0                0.0   \n",
       "\n",
       "             cnt_2015_Tuesday  cnt_2015_Wednesday  \n",
       "customer_id                                        \n",
       "CS1112                    0.0                 1.0  \n",
       "CS1113                    0.0                 1.0  \n",
       "CS1114                    0.0                 0.0  \n",
       "CS1115                    0.0                 0.0  \n",
       "CS1116                    0.0                 0.0  \n",
       "...                       ...                 ...  \n",
       "CS8996                    0.0                 0.0  \n",
       "CS8997                    0.0                 0.0  \n",
       "CS8998                    0.0                 0.0  \n",
       "CS8999                    0.0                 0.0  \n",
       "CS9000                    0.0                 0.0  \n",
       "\n",
       "[6889 rows x 35 columns]"
      ]
     },
     "execution_count": 65,
     "metadata": {},
     "output_type": "execute_result"
    }
   ],
   "source": [
    "temp"
   ]
  },
  {
   "cell_type": "markdown",
   "metadata": {},
   "source": [
    "##### &emsp;&emsp;&emsp; - 4. Confirm that your output has the same number of rows as the final output in section 1.2 and save it as <b>annual_day_of_week_counts_pivot.xlsx</b>. How many features/columns did you create in this section?"
   ]
  },
  {
   "cell_type": "code",
   "execution_count": 66,
   "metadata": {},
   "outputs": [
    {
     "data": {
      "text/plain": [
       "True"
      ]
     },
     "execution_count": 66,
     "metadata": {},
     "output_type": "execute_result"
    }
   ],
   "source": [
    "len(clnt_annual_aggregations_pivot) == len(temp)"
   ]
  },
  {
   "cell_type": "code",
   "execution_count": 67,
   "metadata": {},
   "outputs": [
    {
     "data": {
      "text/plain": [
       "(6889, 35)"
      ]
     },
     "execution_count": 67,
     "metadata": {},
     "output_type": "execute_result"
    }
   ],
   "source": [
    "temp.shape"
   ]
  },
  {
   "cell_type": "code",
   "execution_count": 68,
   "metadata": {},
   "outputs": [],
   "source": [
    "# temp.to_excel('annual_day_of_week_counts_pivot.xlsx')"
   ]
  },
  {
   "cell_type": "markdown",
   "metadata": {},
   "source": [
    "##### &emsp;&emsp;&emsp; - 5. Similarly, generate the features that capture the count of transactions per client, month-end-date and day of the week. In contrast with the annual pivot table in the previous step, here you want to create the pivot with [’customer_id’, ’ME_DT’] as index to obtain the following output dataframe."
   ]
  },
  {
   "cell_type": "code",
   "execution_count": 69,
   "metadata": {},
   "outputs": [],
   "source": [
    "temp2 = txn.groupby(['customer_id','ME_DT','day_name'])['tran_amount'].count()\\\n",
    "                                                                        .reset_index()\\\n",
    "                                                                        .pivot_table(columns='day_name',index=['customer_id','ME_DT'])\\\n",
    "                                                                        .fillna(0)"
   ]
  },
  {
   "cell_type": "code",
   "execution_count": 70,
   "metadata": {},
   "outputs": [],
   "source": [
    "level1 = temp2.columns.get_level_values(1).astype(str)\n",
    "temp2.columns = 'cnt_' + level1"
   ]
  },
  {
   "cell_type": "markdown",
   "metadata": {},
   "source": [
    "##### &emsp;&emsp;&emsp; - 6. Join with <b>base_table_pd</b> as you did in section 1.5 and impute with your choice of value for NaN. Save the final output as <b>mth_day_counts.xlxs</b>.\n",
    "\n",
    "<div style='color:purple'> Still using 0 to fill the missing values with same reason as before."
   ]
  },
  {
   "cell_type": "code",
   "execution_count": 71,
   "metadata": {},
   "outputs": [],
   "source": [
    "temp2.index.set_names(['CLNT_NO','ME_DT'],inplace=True)"
   ]
  },
  {
   "cell_type": "code",
   "execution_count": 72,
   "metadata": {},
   "outputs": [],
   "source": [
    "mth_day_counts = pd.merge(base_table_pd,temp2,on=['CLNT_NO','ME_DT'],how='left').fillna(0)"
   ]
  },
  {
   "cell_type": "code",
   "execution_count": 73,
   "metadata": {},
   "outputs": [],
   "source": [
    "# mth_day_counts.to_excel('mth_day_counts.xlsx')"
   ]
  },
  {
   "cell_type": "markdown",
   "metadata": {},
   "source": [
    "### 1.7 Date-related features: days since last transaction"
   ]
  },
  {
   "cell_type": "markdown",
   "metadata": {},
   "source": [
    "##### &emsp;&emsp;&emsp; - 1. The starting point is again the <b>txn</b> table. Recall that most clients have a single purchase per month, but some clients have multiple purchases in a month. Since you want to calculate the ”days since last transaction”, you want to capture the last transaction in a month for every client. Use the appropriate groupby to create the table <b>last_monthly_purchase</b> that captures the last ’txn date’ (aggfunc=max) for every client and month."
   ]
  },
  {
   "cell_type": "code",
   "execution_count": 74,
   "metadata": {},
   "outputs": [],
   "source": [
    "last_monthly_purchase = txn.groupby(['customer_id','ME_DT']).agg(last_monthly_purchase=pd.NamedAgg(column='txn_date',aggfunc='max'))"
   ]
  },
  {
   "cell_type": "markdown",
   "metadata": {},
   "source": [
    "##### &emsp;&emsp;&emsp; - 2. Join <b>base_table_pd</b> with <b>last_monthly_purchase</b> as you did in section 1.5. The snapshot below shows the output of the created object <b>last_monthly_purchase_base</b> for client CS1112 who made her/his first purchase on June 2011, then no purchase on July and made a purchase again on August 2011. What values will you use to impute the NaT values here? NaT stands for ”Not a Timestamp”."
   ]
  },
  {
   "cell_type": "code",
   "execution_count": 75,
   "metadata": {},
   "outputs": [],
   "source": [
    "last_monthly_purchase.index.set_names(['CLNT_NO','ME_DT'],inplace=True)"
   ]
  },
  {
   "cell_type": "code",
   "execution_count": 76,
   "metadata": {},
   "outputs": [],
   "source": [
    "temp3 = pd.merge(base_table_pd,last_monthly_purchase,on=['CLNT_NO','ME_DT'],how='left').sort_values(by=['CLNT_NO','ME_DT'])"
   ]
  },
  {
   "cell_type": "code",
   "execution_count": 77,
   "metadata": {},
   "outputs": [
    {
     "data": {
      "text/html": [
       "<div>\n",
       "<style scoped>\n",
       "    .dataframe tbody tr th:only-of-type {\n",
       "        vertical-align: middle;\n",
       "    }\n",
       "\n",
       "    .dataframe tbody tr th {\n",
       "        vertical-align: top;\n",
       "    }\n",
       "\n",
       "    .dataframe thead th {\n",
       "        text-align: right;\n",
       "    }\n",
       "</style>\n",
       "<table border=\"1\" class=\"dataframe\">\n",
       "  <thead>\n",
       "    <tr style=\"text-align: right;\">\n",
       "      <th></th>\n",
       "      <th>CLNT_NO</th>\n",
       "      <th>ME_DT</th>\n",
       "      <th>last_monthly_purchase</th>\n",
       "    </tr>\n",
       "  </thead>\n",
       "  <tbody>\n",
       "    <tr>\n",
       "      <td>157064</td>\n",
       "      <td>CS1112</td>\n",
       "      <td>2011-05-31</td>\n",
       "      <td>NaT</td>\n",
       "    </tr>\n",
       "    <tr>\n",
       "      <td>157058</td>\n",
       "      <td>CS1112</td>\n",
       "      <td>2011-06-30</td>\n",
       "      <td>2011-06-15</td>\n",
       "    </tr>\n",
       "    <tr>\n",
       "      <td>157044</td>\n",
       "      <td>CS1112</td>\n",
       "      <td>2011-07-31</td>\n",
       "      <td>NaT</td>\n",
       "    </tr>\n",
       "    <tr>\n",
       "      <td>157069</td>\n",
       "      <td>CS1112</td>\n",
       "      <td>2011-08-31</td>\n",
       "      <td>2011-08-19</td>\n",
       "    </tr>\n",
       "    <tr>\n",
       "      <td>157060</td>\n",
       "      <td>CS1112</td>\n",
       "      <td>2011-09-30</td>\n",
       "      <td>NaT</td>\n",
       "    </tr>\n",
       "    <tr>\n",
       "      <td>157048</td>\n",
       "      <td>CS1112</td>\n",
       "      <td>2011-10-31</td>\n",
       "      <td>2011-10-02</td>\n",
       "    </tr>\n",
       "    <tr>\n",
       "      <td>157029</td>\n",
       "      <td>CS1112</td>\n",
       "      <td>2011-11-30</td>\n",
       "      <td>NaT</td>\n",
       "    </tr>\n",
       "    <tr>\n",
       "      <td>157049</td>\n",
       "      <td>CS1112</td>\n",
       "      <td>2011-12-31</td>\n",
       "      <td>NaT</td>\n",
       "    </tr>\n",
       "    <tr>\n",
       "      <td>157046</td>\n",
       "      <td>CS1112</td>\n",
       "      <td>2012-01-31</td>\n",
       "      <td>NaT</td>\n",
       "    </tr>\n",
       "    <tr>\n",
       "      <td>157032</td>\n",
       "      <td>CS1112</td>\n",
       "      <td>2012-02-29</td>\n",
       "      <td>NaT</td>\n",
       "    </tr>\n",
       "  </tbody>\n",
       "</table>\n",
       "</div>"
      ],
      "text/plain": [
       "       CLNT_NO      ME_DT last_monthly_purchase\n",
       "157064  CS1112 2011-05-31                   NaT\n",
       "157058  CS1112 2011-06-30            2011-06-15\n",
       "157044  CS1112 2011-07-31                   NaT\n",
       "157069  CS1112 2011-08-31            2011-08-19\n",
       "157060  CS1112 2011-09-30                   NaT\n",
       "157048  CS1112 2011-10-31            2011-10-02\n",
       "157029  CS1112 2011-11-30                   NaT\n",
       "157049  CS1112 2011-12-31                   NaT\n",
       "157046  CS1112 2012-01-31                   NaT\n",
       "157032  CS1112 2012-02-29                   NaT"
      ]
     },
     "execution_count": 77,
     "metadata": {},
     "output_type": "execute_result"
    }
   ],
   "source": [
    "temp3.head(10)"
   ]
  },
  {
   "cell_type": "markdown",
   "metadata": {},
   "source": [
    "##### &emsp;&emsp;&emsp; - 3. To answer the imputation problem, we have to think what value should we use for say July 2011 for ’last monthly purchase’? The answer is that in July the value for the last monthly purchase is the previous line value: 2011-06-15. In other words, for every client we want to forward-fill the NaT values. While pandas fillna() method has a method to forward-fill, here we want to use the apply and a lambda function with the forward-fill function ffill(), with the following expression: .apply(lambda x: x.ffill()) applied on object <b>last_monthly_purchase_base</b> grouped by CLNT NO. Below, I am showing a snapshot for lines [92:98] that confirm the transition between clients CS1113 and CS1114. You can also recreate the forward-fill with the fillna() method, however there is a disadvantage and a reason the .apply() method is preferred here."
   ]
  },
  {
   "cell_type": "code",
   "execution_count": 78,
   "metadata": {},
   "outputs": [],
   "source": [
    "temp3['last_monthly_purchase'] = temp3.groupby('CLNT_NO')['last_monthly_purchase'].apply(lambda x: x.ffill())"
   ]
  },
  {
   "cell_type": "code",
   "execution_count": 79,
   "metadata": {},
   "outputs": [
    {
     "data": {
      "text/html": [
       "<div>\n",
       "<style scoped>\n",
       "    .dataframe tbody tr th:only-of-type {\n",
       "        vertical-align: middle;\n",
       "    }\n",
       "\n",
       "    .dataframe tbody tr th {\n",
       "        vertical-align: top;\n",
       "    }\n",
       "\n",
       "    .dataframe thead th {\n",
       "        text-align: right;\n",
       "    }\n",
       "</style>\n",
       "<table border=\"1\" class=\"dataframe\">\n",
       "  <thead>\n",
       "    <tr style=\"text-align: right;\">\n",
       "      <th></th>\n",
       "      <th>CLNT_NO</th>\n",
       "      <th>ME_DT</th>\n",
       "      <th>last_monthly_purchase</th>\n",
       "    </tr>\n",
       "  </thead>\n",
       "  <tbody>\n",
       "    <tr>\n",
       "      <td>160011</td>\n",
       "      <td>CS1113</td>\n",
       "      <td>2015-02-28</td>\n",
       "      <td>2015-02-09</td>\n",
       "    </tr>\n",
       "    <tr>\n",
       "      <td>159989</td>\n",
       "      <td>CS1113</td>\n",
       "      <td>2015-03-31</td>\n",
       "      <td>2015-02-09</td>\n",
       "    </tr>\n",
       "    <tr>\n",
       "      <td>101134</td>\n",
       "      <td>CS1114</td>\n",
       "      <td>2011-05-31</td>\n",
       "      <td>NaT</td>\n",
       "    </tr>\n",
       "    <tr>\n",
       "      <td>101128</td>\n",
       "      <td>CS1114</td>\n",
       "      <td>2011-06-30</td>\n",
       "      <td>NaT</td>\n",
       "    </tr>\n",
       "    <tr>\n",
       "      <td>101114</td>\n",
       "      <td>CS1114</td>\n",
       "      <td>2011-07-31</td>\n",
       "      <td>2011-07-14</td>\n",
       "    </tr>\n",
       "    <tr>\n",
       "      <td>101139</td>\n",
       "      <td>CS1114</td>\n",
       "      <td>2011-08-31</td>\n",
       "      <td>2011-08-24</td>\n",
       "    </tr>\n",
       "  </tbody>\n",
       "</table>\n",
       "</div>"
      ],
      "text/plain": [
       "       CLNT_NO      ME_DT last_monthly_purchase\n",
       "160011  CS1113 2015-02-28            2015-02-09\n",
       "159989  CS1113 2015-03-31            2015-02-09\n",
       "101134  CS1114 2011-05-31                   NaT\n",
       "101128  CS1114 2011-06-30                   NaT\n",
       "101114  CS1114 2011-07-31            2011-07-14\n",
       "101139  CS1114 2011-08-31            2011-08-24"
      ]
     },
     "execution_count": 79,
     "metadata": {},
     "output_type": "execute_result"
    }
   ],
   "source": [
    "temp3.iloc[92:98,:]"
   ]
  },
  {
   "cell_type": "markdown",
   "metadata": {},
   "source": [
    "##### &emsp;&emsp;&emsp; - 4. Subtract the two date columns and convert the output to .dt.days to calculate the column ’days since last txn’ as shown in the following snapshot."
   ]
  },
  {
   "cell_type": "code",
   "execution_count": 80,
   "metadata": {},
   "outputs": [],
   "source": [
    "temp3['days_since_last_txn'] = (temp3['ME_DT']-temp3['last_monthly_purchase']).dt.days"
   ]
  },
  {
   "cell_type": "code",
   "execution_count": 81,
   "metadata": {},
   "outputs": [
    {
     "data": {
      "text/html": [
       "<div>\n",
       "<style scoped>\n",
       "    .dataframe tbody tr th:only-of-type {\n",
       "        vertical-align: middle;\n",
       "    }\n",
       "\n",
       "    .dataframe tbody tr th {\n",
       "        vertical-align: top;\n",
       "    }\n",
       "\n",
       "    .dataframe thead th {\n",
       "        text-align: right;\n",
       "    }\n",
       "</style>\n",
       "<table border=\"1\" class=\"dataframe\">\n",
       "  <thead>\n",
       "    <tr style=\"text-align: right;\">\n",
       "      <th></th>\n",
       "      <th>CLNT_NO</th>\n",
       "      <th>ME_DT</th>\n",
       "      <th>last_monthly_purchase</th>\n",
       "      <th>days_since_last_txn</th>\n",
       "    </tr>\n",
       "  </thead>\n",
       "  <tbody>\n",
       "    <tr>\n",
       "      <td>157064</td>\n",
       "      <td>CS1112</td>\n",
       "      <td>2011-05-31</td>\n",
       "      <td>NaT</td>\n",
       "      <td>NaN</td>\n",
       "    </tr>\n",
       "    <tr>\n",
       "      <td>157058</td>\n",
       "      <td>CS1112</td>\n",
       "      <td>2011-06-30</td>\n",
       "      <td>2011-06-15</td>\n",
       "      <td>15.0</td>\n",
       "    </tr>\n",
       "    <tr>\n",
       "      <td>157044</td>\n",
       "      <td>CS1112</td>\n",
       "      <td>2011-07-31</td>\n",
       "      <td>2011-06-15</td>\n",
       "      <td>46.0</td>\n",
       "    </tr>\n",
       "    <tr>\n",
       "      <td>157069</td>\n",
       "      <td>CS1112</td>\n",
       "      <td>2011-08-31</td>\n",
       "      <td>2011-08-19</td>\n",
       "      <td>12.0</td>\n",
       "    </tr>\n",
       "    <tr>\n",
       "      <td>157060</td>\n",
       "      <td>CS1112</td>\n",
       "      <td>2011-09-30</td>\n",
       "      <td>2011-08-19</td>\n",
       "      <td>42.0</td>\n",
       "    </tr>\n",
       "  </tbody>\n",
       "</table>\n",
       "</div>"
      ],
      "text/plain": [
       "       CLNT_NO      ME_DT last_monthly_purchase  days_since_last_txn\n",
       "157064  CS1112 2011-05-31                   NaT                  NaN\n",
       "157058  CS1112 2011-06-30            2011-06-15                 15.0\n",
       "157044  CS1112 2011-07-31            2011-06-15                 46.0\n",
       "157069  CS1112 2011-08-31            2011-08-19                 12.0\n",
       "157060  CS1112 2011-09-30            2011-08-19                 42.0"
      ]
     },
     "execution_count": 81,
     "metadata": {},
     "output_type": "execute_result"
    }
   ],
   "source": [
    "temp3.head()"
   ]
  },
  {
   "cell_type": "markdown",
   "metadata": {},
   "source": [
    "##### &emsp;&emsp;&emsp; - 5. Plot a histogram of the ’days since last txn’. Based on the values you observe in the histogram, impute the remaining NaN values (i.e. for the initial months before a client makes a purchase). Save the columns [’CLNT_NO’, ’ME_DT’, ’days_since_last_txn’] as <b>days_since_last_txn.xlsx</b>.\n",
    "\n",
    "<div style='color:purple'> I impute the missing values still by their dates of first purchase: for the initial months before a client makes a purchase, I used the those dates minus the date of their first purchase which result in negative values. In this way, it won't influence much on the distributions."
   ]
  },
  {
   "cell_type": "code",
   "execution_count": 82,
   "metadata": {},
   "outputs": [
    {
     "data": {
      "image/png": "[encoded data removed]",
      "text/plain": [
       "<Figure size 432x288 with 1 Axes>"
      ]
     },
     "metadata": {
      "needs_background": "light"
     },
     "output_type": "display_data"
    }
   ],
   "source": [
    "temp3.days_since_last_txn.plot.hist()\n",
    "plt.savefig('days_since_last_txn.png')"
   ]
  },
  {
   "cell_type": "code",
   "execution_count": 154,
   "metadata": {},
   "outputs": [],
   "source": [
    "# for client in temp3['CLNT_NO'].unique():\n",
    "#     df_client = temp3[temp3.CLNT_NO==client]\n",
    "#     idx = df_client[~df_client.days_since_last_txn.isnull()].index[0] # the index of first day of purchase for each client\n",
    "#     idx_nan = df_client[df_client.days_since_last_txn.isnull()].index # the index of missing values for each client\n",
    "#     for i in idx_nan:\n",
    "#         temp3.loc[i,'days_since_last_txn'] = (temp3.loc[i,'ME_DT'] - temp3.loc[idx,'last_monthly_purchase']).days"
   ]
  },
  {
   "cell_type": "code",
   "execution_count": 84,
   "metadata": {},
   "outputs": [
    {
     "data": {
      "text/html": [
       "<div>\n",
       "<style scoped>\n",
       "    .dataframe tbody tr th:only-of-type {\n",
       "        vertical-align: middle;\n",
       "    }\n",
       "\n",
       "    .dataframe tbody tr th {\n",
       "        vertical-align: top;\n",
       "    }\n",
       "\n",
       "    .dataframe thead th {\n",
       "        text-align: right;\n",
       "    }\n",
       "</style>\n",
       "<table border=\"1\" class=\"dataframe\">\n",
       "  <thead>\n",
       "    <tr style=\"text-align: right;\">\n",
       "      <th></th>\n",
       "      <th>CLNT_NO</th>\n",
       "      <th>ME_DT</th>\n",
       "      <th>last_monthly_purchase</th>\n",
       "      <th>days_since_last_txn</th>\n",
       "    </tr>\n",
       "  </thead>\n",
       "  <tbody>\n",
       "    <tr>\n",
       "      <td>157064</td>\n",
       "      <td>CS1112</td>\n",
       "      <td>2011-05-31</td>\n",
       "      <td>-10</td>\n",
       "      <td>-10.0</td>\n",
       "    </tr>\n",
       "    <tr>\n",
       "      <td>157058</td>\n",
       "      <td>CS1112</td>\n",
       "      <td>2011-06-30</td>\n",
       "      <td>2011-06-15 00:00:00</td>\n",
       "      <td>15.0</td>\n",
       "    </tr>\n",
       "    <tr>\n",
       "      <td>157044</td>\n",
       "      <td>CS1112</td>\n",
       "      <td>2011-07-31</td>\n",
       "      <td>2011-06-15 00:00:00</td>\n",
       "      <td>46.0</td>\n",
       "    </tr>\n",
       "    <tr>\n",
       "      <td>157069</td>\n",
       "      <td>CS1112</td>\n",
       "      <td>2011-08-31</td>\n",
       "      <td>2011-08-19 00:00:00</td>\n",
       "      <td>12.0</td>\n",
       "    </tr>\n",
       "    <tr>\n",
       "      <td>157060</td>\n",
       "      <td>CS1112</td>\n",
       "      <td>2011-09-30</td>\n",
       "      <td>2011-08-19 00:00:00</td>\n",
       "      <td>42.0</td>\n",
       "    </tr>\n",
       "    <tr>\n",
       "      <td>...</td>\n",
       "      <td>...</td>\n",
       "      <td>...</td>\n",
       "      <td>...</td>\n",
       "      <td>...</td>\n",
       "    </tr>\n",
       "    <tr>\n",
       "      <td>295140</td>\n",
       "      <td>CS9000</td>\n",
       "      <td>2014-11-30</td>\n",
       "      <td>2014-08-24 00:00:00</td>\n",
       "      <td>98.0</td>\n",
       "    </tr>\n",
       "    <tr>\n",
       "      <td>295126</td>\n",
       "      <td>CS9000</td>\n",
       "      <td>2014-12-31</td>\n",
       "      <td>2014-08-24 00:00:00</td>\n",
       "      <td>129.0</td>\n",
       "    </tr>\n",
       "    <tr>\n",
       "      <td>295119</td>\n",
       "      <td>CS9000</td>\n",
       "      <td>2015-01-31</td>\n",
       "      <td>2014-08-24 00:00:00</td>\n",
       "      <td>160.0</td>\n",
       "    </tr>\n",
       "    <tr>\n",
       "      <td>295136</td>\n",
       "      <td>CS9000</td>\n",
       "      <td>2015-02-28</td>\n",
       "      <td>2015-02-28 00:00:00</td>\n",
       "      <td>0.0</td>\n",
       "    </tr>\n",
       "    <tr>\n",
       "      <td>295114</td>\n",
       "      <td>CS9000</td>\n",
       "      <td>2015-03-31</td>\n",
       "      <td>2015-02-28 00:00:00</td>\n",
       "      <td>31.0</td>\n",
       "    </tr>\n",
       "  </tbody>\n",
       "</table>\n",
       "<p>323783 rows × 4 columns</p>\n",
       "</div>"
      ],
      "text/plain": [
       "       CLNT_NO      ME_DT last_monthly_purchase  days_since_last_txn\n",
       "157064  CS1112 2011-05-31                   -10                -10.0\n",
       "157058  CS1112 2011-06-30   2011-06-15 00:00:00                 15.0\n",
       "157044  CS1112 2011-07-31   2011-06-15 00:00:00                 46.0\n",
       "157069  CS1112 2011-08-31   2011-08-19 00:00:00                 12.0\n",
       "157060  CS1112 2011-09-30   2011-08-19 00:00:00                 42.0\n",
       "...        ...        ...                   ...                  ...\n",
       "295140  CS9000 2014-11-30   2014-08-24 00:00:00                 98.0\n",
       "295126  CS9000 2014-12-31   2014-08-24 00:00:00                129.0\n",
       "295119  CS9000 2015-01-31   2014-08-24 00:00:00                160.0\n",
       "295136  CS9000 2015-02-28   2015-02-28 00:00:00                  0.0\n",
       "295114  CS9000 2015-03-31   2015-02-28 00:00:00                 31.0\n",
       "\n",
       "[323783 rows x 4 columns]"
      ]
     },
     "execution_count": 84,
     "metadata": {},
     "output_type": "execute_result"
    }
   ],
   "source": [
    "temp3 = temp3.fillna(-10)\n",
    "temp3"
   ]
  },
  {
   "cell_type": "code",
   "execution_count": 85,
   "metadata": {},
   "outputs": [
    {
     "data": {
      "text/html": [
       "<div>\n",
       "<style scoped>\n",
       "    .dataframe tbody tr th:only-of-type {\n",
       "        vertical-align: middle;\n",
       "    }\n",
       "\n",
       "    .dataframe tbody tr th {\n",
       "        vertical-align: top;\n",
       "    }\n",
       "\n",
       "    .dataframe thead th {\n",
       "        text-align: right;\n",
       "    }\n",
       "</style>\n",
       "<table border=\"1\" class=\"dataframe\">\n",
       "  <thead>\n",
       "    <tr style=\"text-align: right;\">\n",
       "      <th></th>\n",
       "      <th>CLNT_NO</th>\n",
       "      <th>ME_DT</th>\n",
       "      <th>last_monthly_purchase</th>\n",
       "      <th>days_since_last_txn</th>\n",
       "    </tr>\n",
       "  </thead>\n",
       "  <tbody>\n",
       "    <tr>\n",
       "      <td>160011</td>\n",
       "      <td>CS1113</td>\n",
       "      <td>2015-02-28</td>\n",
       "      <td>2015-02-09 00:00:00</td>\n",
       "      <td>19.0</td>\n",
       "    </tr>\n",
       "    <tr>\n",
       "      <td>159989</td>\n",
       "      <td>CS1113</td>\n",
       "      <td>2015-03-31</td>\n",
       "      <td>2015-02-09 00:00:00</td>\n",
       "      <td>50.0</td>\n",
       "    </tr>\n",
       "    <tr>\n",
       "      <td>101134</td>\n",
       "      <td>CS1114</td>\n",
       "      <td>2011-05-31</td>\n",
       "      <td>-10</td>\n",
       "      <td>-10.0</td>\n",
       "    </tr>\n",
       "    <tr>\n",
       "      <td>101128</td>\n",
       "      <td>CS1114</td>\n",
       "      <td>2011-06-30</td>\n",
       "      <td>-10</td>\n",
       "      <td>-10.0</td>\n",
       "    </tr>\n",
       "    <tr>\n",
       "      <td>101114</td>\n",
       "      <td>CS1114</td>\n",
       "      <td>2011-07-31</td>\n",
       "      <td>2011-07-14 00:00:00</td>\n",
       "      <td>17.0</td>\n",
       "    </tr>\n",
       "    <tr>\n",
       "      <td>101139</td>\n",
       "      <td>CS1114</td>\n",
       "      <td>2011-08-31</td>\n",
       "      <td>2011-08-24 00:00:00</td>\n",
       "      <td>7.0</td>\n",
       "    </tr>\n",
       "  </tbody>\n",
       "</table>\n",
       "</div>"
      ],
      "text/plain": [
       "       CLNT_NO      ME_DT last_monthly_purchase  days_since_last_txn\n",
       "160011  CS1113 2015-02-28   2015-02-09 00:00:00                 19.0\n",
       "159989  CS1113 2015-03-31   2015-02-09 00:00:00                 50.0\n",
       "101134  CS1114 2011-05-31                   -10                -10.0\n",
       "101128  CS1114 2011-06-30                   -10                -10.0\n",
       "101114  CS1114 2011-07-31   2011-07-14 00:00:00                 17.0\n",
       "101139  CS1114 2011-08-31   2011-08-24 00:00:00                  7.0"
      ]
     },
     "execution_count": 85,
     "metadata": {},
     "output_type": "execute_result"
    }
   ],
   "source": [
    "temp3.iloc[92:98,:]"
   ]
  },
  {
   "cell_type": "code",
   "execution_count": 87,
   "metadata": {},
   "outputs": [
    {
     "ename": "KeyboardInterrupt",
     "evalue": "",
     "output_type": "error",
     "traceback": [
      "\u001b[0;31m---------------------------------------------------------------------------\u001b[0m",
      "\u001b[0;31mKeyboardInterrupt\u001b[0m                         Traceback (most recent call last)",
      "\u001b[0;32m<ipython-input-87-16db27da5029>\u001b[0m in \u001b[0;36m<module>\u001b[0;34m\u001b[0m\n\u001b[0;32m----> 1\u001b[0;31m \u001b[0mtemp3\u001b[0m\u001b[0;34m.\u001b[0m\u001b[0miloc\u001b[0m\u001b[0;34m[\u001b[0m\u001b[0;34m:\u001b[0m\u001b[0;34m,\u001b[0m\u001b[0;34m[\u001b[0m\u001b[0;36m0\u001b[0m\u001b[0;34m,\u001b[0m\u001b[0;36m1\u001b[0m\u001b[0;34m,\u001b[0m\u001b[0;36m3\u001b[0m\u001b[0;34m]\u001b[0m\u001b[0;34m]\u001b[0m\u001b[0;34m.\u001b[0m\u001b[0mto_excel\u001b[0m\u001b[0;34m(\u001b[0m\u001b[0;34m'days_since_last_txn.xlsx'\u001b[0m\u001b[0;34m)\u001b[0m\u001b[0;34m\u001b[0m\u001b[0;34m\u001b[0m\u001b[0m\n\u001b[0m",
      "\u001b[0;32m~/opt/anaconda3/lib/python3.7/site-packages/pandas/core/generic.py\u001b[0m in \u001b[0;36mto_excel\u001b[0;34m(self, excel_writer, sheet_name, na_rep, float_format, columns, header, index, index_label, startrow, startcol, engine, merge_cells, encoding, inf_rep, verbose, freeze_panes)\u001b[0m\n\u001b[1;32m   2254\u001b[0m             \u001b[0mstartcol\u001b[0m\u001b[0;34m=\u001b[0m\u001b[0mstartcol\u001b[0m\u001b[0;34m,\u001b[0m\u001b[0;34m\u001b[0m\u001b[0;34m\u001b[0m\u001b[0m\n\u001b[1;32m   2255\u001b[0m             \u001b[0mfreeze_panes\u001b[0m\u001b[0;34m=\u001b[0m\u001b[0mfreeze_panes\u001b[0m\u001b[0;34m,\u001b[0m\u001b[0;34m\u001b[0m\u001b[0;34m\u001b[0m\u001b[0m\n\u001b[0;32m-> 2256\u001b[0;31m             \u001b[0mengine\u001b[0m\u001b[0;34m=\u001b[0m\u001b[0mengine\u001b[0m\u001b[0;34m,\u001b[0m\u001b[0;34m\u001b[0m\u001b[0;34m\u001b[0m\u001b[0m\n\u001b[0m\u001b[1;32m   2257\u001b[0m         )\n\u001b[1;32m   2258\u001b[0m \u001b[0;34m\u001b[0m\u001b[0m\n",
      "\u001b[0;32m~/opt/anaconda3/lib/python3.7/site-packages/pandas/io/formats/excel.py\u001b[0m in \u001b[0;36mwrite\u001b[0;34m(self, writer, sheet_name, startrow, startcol, freeze_panes, engine)\u001b[0m\n\u001b[1;32m    737\u001b[0m             \u001b[0mstartrow\u001b[0m\u001b[0;34m=\u001b[0m\u001b[0mstartrow\u001b[0m\u001b[0;34m,\u001b[0m\u001b[0;34m\u001b[0m\u001b[0;34m\u001b[0m\u001b[0m\n\u001b[1;32m    738\u001b[0m             \u001b[0mstartcol\u001b[0m\u001b[0;34m=\u001b[0m\u001b[0mstartcol\u001b[0m\u001b[0;34m,\u001b[0m\u001b[0;34m\u001b[0m\u001b[0;34m\u001b[0m\u001b[0m\n\u001b[0;32m--> 739\u001b[0;31m             \u001b[0mfreeze_panes\u001b[0m\u001b[0;34m=\u001b[0m\u001b[0mfreeze_panes\u001b[0m\u001b[0;34m,\u001b[0m\u001b[0;34m\u001b[0m\u001b[0;34m\u001b[0m\u001b[0m\n\u001b[0m\u001b[1;32m    740\u001b[0m         )\n\u001b[1;32m    741\u001b[0m         \u001b[0;32mif\u001b[0m \u001b[0mneed_save\u001b[0m\u001b[0;34m:\u001b[0m\u001b[0;34m\u001b[0m\u001b[0;34m\u001b[0m\u001b[0m\n",
      "\u001b[0;32m~/opt/anaconda3/lib/python3.7/site-packages/pandas/io/excel/_xlsxwriter.py\u001b[0m in \u001b[0;36mwrite_cells\u001b[0;34m(self, cells, sheet_name, startrow, startcol, freeze_panes)\u001b[0m\n\u001b[1;32m    235\u001b[0m                 )\n\u001b[1;32m    236\u001b[0m             \u001b[0;32melse\u001b[0m\u001b[0;34m:\u001b[0m\u001b[0;34m\u001b[0m\u001b[0;34m\u001b[0m\u001b[0m\n\u001b[0;32m--> 237\u001b[0;31m                 \u001b[0mwks\u001b[0m\u001b[0;34m.\u001b[0m\u001b[0mwrite\u001b[0m\u001b[0;34m(\u001b[0m\u001b[0mstartrow\u001b[0m \u001b[0;34m+\u001b[0m \u001b[0mcell\u001b[0m\u001b[0;34m.\u001b[0m\u001b[0mrow\u001b[0m\u001b[0;34m,\u001b[0m \u001b[0mstartcol\u001b[0m \u001b[0;34m+\u001b[0m \u001b[0mcell\u001b[0m\u001b[0;34m.\u001b[0m\u001b[0mcol\u001b[0m\u001b[0;34m,\u001b[0m \u001b[0mval\u001b[0m\u001b[0;34m,\u001b[0m \u001b[0mstyle\u001b[0m\u001b[0;34m)\u001b[0m\u001b[0;34m\u001b[0m\u001b[0;34m\u001b[0m\u001b[0m\n\u001b[0m",
      "\u001b[0;32m~/opt/anaconda3/lib/python3.7/site-packages/xlsxwriter/worksheet.py\u001b[0m in \u001b[0;36mcell_wrapper\u001b[0;34m(self, *args, **kwargs)\u001b[0m\n\u001b[1;32m     67\u001b[0m             \u001b[0margs\u001b[0m \u001b[0;34m=\u001b[0m \u001b[0mnew_args\u001b[0m \u001b[0;34m+\u001b[0m \u001b[0margs\u001b[0m\u001b[0;34m[\u001b[0m\u001b[0;36m1\u001b[0m\u001b[0;34m:\u001b[0m\u001b[0;34m]\u001b[0m\u001b[0;34m\u001b[0m\u001b[0;34m\u001b[0m\u001b[0m\n\u001b[1;32m     68\u001b[0m \u001b[0;34m\u001b[0m\u001b[0m\n\u001b[0;32m---> 69\u001b[0;31m         \u001b[0;32mreturn\u001b[0m \u001b[0mmethod\u001b[0m\u001b[0;34m(\u001b[0m\u001b[0mself\u001b[0m\u001b[0;34m,\u001b[0m \u001b[0;34m*\u001b[0m\u001b[0margs\u001b[0m\u001b[0;34m,\u001b[0m \u001b[0;34m**\u001b[0m\u001b[0mkwargs\u001b[0m\u001b[0;34m)\u001b[0m\u001b[0;34m\u001b[0m\u001b[0;34m\u001b[0m\u001b[0m\n\u001b[0m\u001b[1;32m     70\u001b[0m \u001b[0;34m\u001b[0m\u001b[0m\n\u001b[1;32m     71\u001b[0m     \u001b[0;32mreturn\u001b[0m \u001b[0mcell_wrapper\u001b[0m\u001b[0;34m\u001b[0m\u001b[0;34m\u001b[0m\u001b[0m\n",
      "\u001b[0;32m~/opt/anaconda3/lib/python3.7/site-packages/xlsxwriter/worksheet.py\u001b[0m in \u001b[0;36mwrite\u001b[0;34m(self, row, col, *args)\u001b[0m\n\u001b[1;32m    411\u001b[0m \u001b[0;34m\u001b[0m\u001b[0m\n\u001b[1;32m    412\u001b[0m         \"\"\"\n\u001b[0;32m--> 413\u001b[0;31m         \u001b[0;32mreturn\u001b[0m \u001b[0mself\u001b[0m\u001b[0;34m.\u001b[0m\u001b[0m_write\u001b[0m\u001b[0;34m(\u001b[0m\u001b[0mrow\u001b[0m\u001b[0;34m,\u001b[0m \u001b[0mcol\u001b[0m\u001b[0;34m,\u001b[0m \u001b[0;34m*\u001b[0m\u001b[0margs\u001b[0m\u001b[0;34m)\u001b[0m\u001b[0;34m\u001b[0m\u001b[0;34m\u001b[0m\u001b[0m\n\u001b[0m\u001b[1;32m    414\u001b[0m \u001b[0;34m\u001b[0m\u001b[0m\n\u001b[1;32m    415\u001b[0m     \u001b[0;31m# Undecorated version of write().\u001b[0m\u001b[0;34m\u001b[0m\u001b[0;34m\u001b[0m\u001b[0;34m\u001b[0m\u001b[0m\n",
      "\u001b[0;32m~/opt/anaconda3/lib/python3.7/site-packages/xlsxwriter/worksheet.py\u001b[0m in \u001b[0;36m_write\u001b[0;34m(self, row, col, *args)\u001b[0m\n\u001b[1;32m    446\u001b[0m             \u001b[0;32mreturn\u001b[0m \u001b[0mself\u001b[0m\u001b[0;34m.\u001b[0m\u001b[0m_write_boolean\u001b[0m\u001b[0;34m(\u001b[0m\u001b[0mrow\u001b[0m\u001b[0;34m,\u001b[0m \u001b[0mcol\u001b[0m\u001b[0;34m,\u001b[0m \u001b[0;34m*\u001b[0m\u001b[0margs\u001b[0m\u001b[0;34m)\u001b[0m\u001b[0;34m\u001b[0m\u001b[0;34m\u001b[0m\u001b[0m\n\u001b[1;32m    447\u001b[0m \u001b[0;34m\u001b[0m\u001b[0m\n\u001b[0;32m--> 448\u001b[0;31m         \u001b[0;32mif\u001b[0m \u001b[0mtoken_type\u001b[0m \u001b[0;32min\u001b[0m \u001b[0mnum_types\u001b[0m\u001b[0;34m:\u001b[0m\u001b[0;34m\u001b[0m\u001b[0;34m\u001b[0m\u001b[0m\n\u001b[0m\u001b[1;32m    449\u001b[0m             \u001b[0;32mreturn\u001b[0m \u001b[0mself\u001b[0m\u001b[0;34m.\u001b[0m\u001b[0m_write_number\u001b[0m\u001b[0;34m(\u001b[0m\u001b[0mrow\u001b[0m\u001b[0;34m,\u001b[0m \u001b[0mcol\u001b[0m\u001b[0;34m,\u001b[0m \u001b[0;34m*\u001b[0m\u001b[0margs\u001b[0m\u001b[0;34m)\u001b[0m\u001b[0;34m\u001b[0m\u001b[0;34m\u001b[0m\u001b[0m\n\u001b[1;32m    450\u001b[0m \u001b[0;34m\u001b[0m\u001b[0m\n",
      "\u001b[0;31mKeyboardInterrupt\u001b[0m: "
     ]
    }
   ],
   "source": [
    "temp3.iloc[:,[0,1,3]].to_excel('days_since_last_txn.xlsx')"
   ]
  }
 ],
 "metadata": {
  "kernelspec": {
   "display_name": "Python 3",
   "language": "python",
   "name": "python3"
  },
  "language_info": {
   "codemirror_mode": {
    "name": "ipython",
    "version": 3
   },
   "file_extension": ".py",
   "mimetype": "text/x-python",
   "name": "python",
   "nbconvert_exporter": "python",
   "pygments_lexer": "ipython3",
   "version": "3.7.4"
  }
 },
 "nbformat": 4,
 "nbformat_minor": 4
}
